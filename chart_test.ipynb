{
 "cells": [
  {
   "attachments": {},
   "cell_type": "markdown",
   "metadata": {},
   "source": [
    "## Plots"
   ]
  },
  {
   "cell_type": "code",
   "execution_count": 1,
   "metadata": {},
   "outputs": [],
   "source": [
    "from optionalyzer.chart import Position, PayoffChart\n",
    "from optionalyzer.options import Call, Put, Options\n",
    "from optionalyzer.blackscholes import OptionChain\n",
    "import numpy as np\n",
    "import plotly.io as pio\n",
    "import plotly.express as px\n",
    "import plotly.graph_objects as go\n",
    "pio.renderers.default = \"notebook_connected\"\n",
    "pio.templates.default = \"plotly_dark\""
   ]
  },
  {
   "attachments": {},
   "cell_type": "markdown",
   "metadata": {},
   "source": [
    "### Option Chain"
   ]
  },
  {
   "cell_type": "code",
   "execution_count": 22,
   "metadata": {},
   "outputs": [],
   "source": [
    "oc = OptionChain(\"nifty\")"
   ]
  },
  {
   "cell_type": "code",
   "execution_count": 24,
   "metadata": {},
   "outputs": [
    {
     "ename": "KeyboardInterrupt",
     "evalue": "",
     "output_type": "error",
     "traceback": [
      "\u001b[0;31m---------------------------------------------------------------------------\u001b[0m",
      "\u001b[0;31mKeyboardInterrupt\u001b[0m                         Traceback (most recent call last)",
      "Cell \u001b[0;32mIn[24], line 1\u001b[0m\n\u001b[0;32m----> 1\u001b[0m chain \u001b[39m=\u001b[39m oc\u001b[39m.\u001b[39;49moption_chain(\u001b[39m\"\u001b[39;49m\u001b[39m02-03-2023\u001b[39;49m\u001b[39m\"\u001b[39;49m)\n\u001b[1;32m      2\u001b[0m chain\n",
      "File \u001b[0;32m/media/hari31416/Hari_SSD/Users/harik/Desktop/Finance/Projects/optionalyzer/optionalyzer/blackscholes.py:336\u001b[0m, in \u001b[0;36mOptionChain.option_chain\u001b[0;34m(self, expiry_date, limit)\u001b[0m\n\u001b[1;32m    325\u001b[0m \u001b[39m\u001b[39m\u001b[39m\"\"\"\u001b[39;00m\n\u001b[1;32m    326\u001b[0m \u001b[39mScrapes the option chain using yfinance and Groww website.\u001b[39;00m\n\u001b[1;32m    327\u001b[0m \n\u001b[0;32m   (...)\u001b[0m\n\u001b[1;32m    333\u001b[0m \u001b[39m    The number of options to be scraped. The default is 10.\u001b[39;00m\n\u001b[1;32m    334\u001b[0m \u001b[39m\"\"\"\u001b[39;00m\n\u001b[1;32m    335\u001b[0m logger\u001b[39m.\u001b[39minfo(\u001b[39m\"\u001b[39m\u001b[39mCalling `self._chain`.\u001b[39m\u001b[39m\"\u001b[39m)\n\u001b[0;32m--> 336\u001b[0m chain \u001b[39m=\u001b[39m \u001b[39mself\u001b[39;49m\u001b[39m.\u001b[39;49m_chain(expiry_date\u001b[39m=\u001b[39;49mexpiry_date)\n\u001b[1;32m    338\u001b[0m logger\u001b[39m.\u001b[39mdebug(\u001b[39m\"\u001b[39m\u001b[39mLimiting the option chain.\u001b[39m\u001b[39m\"\u001b[39m)\n\u001b[1;32m    339\u001b[0m u_chain \u001b[39m=\u001b[39m chain[chain[\u001b[39m\"\u001b[39m\u001b[39mStrike\u001b[39m\u001b[39m\"\u001b[39m] \u001b[39m<\u001b[39m\u001b[39m=\u001b[39m \u001b[39mself\u001b[39m\u001b[39m.\u001b[39m__spot_price]\n",
      "File \u001b[0;32m/media/hari31416/Hari_SSD/Users/harik/Desktop/Finance/Projects/optionalyzer/optionalyzer/blackscholes.py:313\u001b[0m, in \u001b[0;36mOptionChain._chain\u001b[0;34m(self, expiry_date)\u001b[0m\n\u001b[1;32m    311\u001b[0m \u001b[39mdef\u001b[39;00m \u001b[39m_chain\u001b[39m(\u001b[39mself\u001b[39m, expiry_date):\n\u001b[1;32m    312\u001b[0m     logger\u001b[39m.\u001b[39minfo(\u001b[39m\"\u001b[39m\u001b[39mCalling `self.__chain`.\u001b[39m\u001b[39m\"\u001b[39m)\n\u001b[0;32m--> 313\u001b[0m     res \u001b[39m=\u001b[39m \u001b[39mself\u001b[39;49m\u001b[39m.\u001b[39;49m__chain(expiry_date\u001b[39m=\u001b[39;49mexpiry_date)\n\u001b[1;32m    314\u001b[0m     chain \u001b[39m=\u001b[39m pd\u001b[39m.\u001b[39mread_html(res\u001b[39m.\u001b[39mcontent)[\u001b[39m0\u001b[39m]\n\u001b[1;32m    315\u001b[0m     logger\u001b[39m.\u001b[39mdebug(\u001b[39m\"\u001b[39m\u001b[39mCleaning option chain.\u001b[39m\u001b[39m\"\u001b[39m)\n",
      "File \u001b[0;32m/media/hari31416/Hari_SSD/Users/harik/Desktop/Finance/Projects/optionalyzer/optionalyzer/blackscholes.py:304\u001b[0m, in \u001b[0;36mOptionChain.__chain\u001b[0;34m(self, expiry_date)\u001b[0m\n\u001b[1;32m    302\u001b[0m logger\u001b[39m.\u001b[39mdebug(\u001b[39m\"\u001b[39m\u001b[39mGetting `res` from groww.\u001b[39m\u001b[39m\"\u001b[39m)\n\u001b[1;32m    303\u001b[0m url \u001b[39m=\u001b[39m \u001b[39mf\u001b[39m\u001b[39m\"\u001b[39m\u001b[39mhttps://groww.in/options/\u001b[39m\u001b[39m{\u001b[39;00m\u001b[39mself\u001b[39m\u001b[39m.\u001b[39mticker\u001b[39m}\u001b[39;00m\u001b[39m?expiry=\u001b[39m\u001b[39m{\u001b[39;00mexpiry_date\u001b[39m}\u001b[39;00m\u001b[39m\"\u001b[39m\n\u001b[0;32m--> 304\u001b[0m res \u001b[39m=\u001b[39m requests\u001b[39m.\u001b[39;49mget(url)\n\u001b[1;32m    305\u001b[0m \u001b[39mif\u001b[39;00m res\u001b[39m.\u001b[39mstatus_code \u001b[39m!=\u001b[39m \u001b[39m200\u001b[39m:\n\u001b[1;32m    306\u001b[0m     logger\u001b[39m.\u001b[39merror(\u001b[39mf\u001b[39m\u001b[39m\"\u001b[39m\u001b[39mStatus code \u001b[39m\u001b[39m{\u001b[39;00mres\u001b[39m.\u001b[39mstatus_code\u001b[39m}\u001b[39;00m\u001b[39m. Try again.\u001b[39m\u001b[39m\"\u001b[39m)\n",
      "File \u001b[0;32m~/.local/lib/python3.10/site-packages/requests/api.py:73\u001b[0m, in \u001b[0;36mget\u001b[0;34m(url, params, **kwargs)\u001b[0m\n\u001b[1;32m     62\u001b[0m \u001b[39mdef\u001b[39;00m \u001b[39mget\u001b[39m(url, params\u001b[39m=\u001b[39m\u001b[39mNone\u001b[39;00m, \u001b[39m*\u001b[39m\u001b[39m*\u001b[39mkwargs):\n\u001b[1;32m     63\u001b[0m \u001b[39m    \u001b[39m\u001b[39mr\u001b[39m\u001b[39m\"\"\"Sends a GET request.\u001b[39;00m\n\u001b[1;32m     64\u001b[0m \n\u001b[1;32m     65\u001b[0m \u001b[39m    :param url: URL for the new :class:`Request` object.\u001b[39;00m\n\u001b[0;32m   (...)\u001b[0m\n\u001b[1;32m     70\u001b[0m \u001b[39m    :rtype: requests.Response\u001b[39;00m\n\u001b[1;32m     71\u001b[0m \u001b[39m    \"\"\"\u001b[39;00m\n\u001b[0;32m---> 73\u001b[0m     \u001b[39mreturn\u001b[39;00m request(\u001b[39m\"\u001b[39;49m\u001b[39mget\u001b[39;49m\u001b[39m\"\u001b[39;49m, url, params\u001b[39m=\u001b[39;49mparams, \u001b[39m*\u001b[39;49m\u001b[39m*\u001b[39;49mkwargs)\n",
      "File \u001b[0;32m~/.local/lib/python3.10/site-packages/requests/api.py:59\u001b[0m, in \u001b[0;36mrequest\u001b[0;34m(method, url, **kwargs)\u001b[0m\n\u001b[1;32m     55\u001b[0m \u001b[39m# By using the 'with' statement we are sure the session is closed, thus we\u001b[39;00m\n\u001b[1;32m     56\u001b[0m \u001b[39m# avoid leaving sockets open which can trigger a ResourceWarning in some\u001b[39;00m\n\u001b[1;32m     57\u001b[0m \u001b[39m# cases, and look like a memory leak in others.\u001b[39;00m\n\u001b[1;32m     58\u001b[0m \u001b[39mwith\u001b[39;00m sessions\u001b[39m.\u001b[39mSession() \u001b[39mas\u001b[39;00m session:\n\u001b[0;32m---> 59\u001b[0m     \u001b[39mreturn\u001b[39;00m session\u001b[39m.\u001b[39;49mrequest(method\u001b[39m=\u001b[39;49mmethod, url\u001b[39m=\u001b[39;49murl, \u001b[39m*\u001b[39;49m\u001b[39m*\u001b[39;49mkwargs)\n",
      "File \u001b[0;32m~/.local/lib/python3.10/site-packages/requests/sessions.py:587\u001b[0m, in \u001b[0;36mSession.request\u001b[0;34m(self, method, url, params, data, headers, cookies, files, auth, timeout, allow_redirects, proxies, hooks, stream, verify, cert, json)\u001b[0m\n\u001b[1;32m    582\u001b[0m send_kwargs \u001b[39m=\u001b[39m {\n\u001b[1;32m    583\u001b[0m     \u001b[39m\"\u001b[39m\u001b[39mtimeout\u001b[39m\u001b[39m\"\u001b[39m: timeout,\n\u001b[1;32m    584\u001b[0m     \u001b[39m\"\u001b[39m\u001b[39mallow_redirects\u001b[39m\u001b[39m\"\u001b[39m: allow_redirects,\n\u001b[1;32m    585\u001b[0m }\n\u001b[1;32m    586\u001b[0m send_kwargs\u001b[39m.\u001b[39mupdate(settings)\n\u001b[0;32m--> 587\u001b[0m resp \u001b[39m=\u001b[39m \u001b[39mself\u001b[39;49m\u001b[39m.\u001b[39;49msend(prep, \u001b[39m*\u001b[39;49m\u001b[39m*\u001b[39;49msend_kwargs)\n\u001b[1;32m    589\u001b[0m \u001b[39mreturn\u001b[39;00m resp\n",
      "File \u001b[0;32m~/.local/lib/python3.10/site-packages/requests/sessions.py:701\u001b[0m, in \u001b[0;36mSession.send\u001b[0;34m(self, request, **kwargs)\u001b[0m\n\u001b[1;32m    698\u001b[0m start \u001b[39m=\u001b[39m preferred_clock()\n\u001b[1;32m    700\u001b[0m \u001b[39m# Send the request\u001b[39;00m\n\u001b[0;32m--> 701\u001b[0m r \u001b[39m=\u001b[39m adapter\u001b[39m.\u001b[39;49msend(request, \u001b[39m*\u001b[39;49m\u001b[39m*\u001b[39;49mkwargs)\n\u001b[1;32m    703\u001b[0m \u001b[39m# Total elapsed time of the request (approximately)\u001b[39;00m\n\u001b[1;32m    704\u001b[0m elapsed \u001b[39m=\u001b[39m preferred_clock() \u001b[39m-\u001b[39m start\n",
      "File \u001b[0;32m~/.local/lib/python3.10/site-packages/requests/adapters.py:489\u001b[0m, in \u001b[0;36mHTTPAdapter.send\u001b[0;34m(self, request, stream, timeout, verify, cert, proxies)\u001b[0m\n\u001b[1;32m    487\u001b[0m \u001b[39mtry\u001b[39;00m:\n\u001b[1;32m    488\u001b[0m     \u001b[39mif\u001b[39;00m \u001b[39mnot\u001b[39;00m chunked:\n\u001b[0;32m--> 489\u001b[0m         resp \u001b[39m=\u001b[39m conn\u001b[39m.\u001b[39;49murlopen(\n\u001b[1;32m    490\u001b[0m             method\u001b[39m=\u001b[39;49mrequest\u001b[39m.\u001b[39;49mmethod,\n\u001b[1;32m    491\u001b[0m             url\u001b[39m=\u001b[39;49murl,\n\u001b[1;32m    492\u001b[0m             body\u001b[39m=\u001b[39;49mrequest\u001b[39m.\u001b[39;49mbody,\n\u001b[1;32m    493\u001b[0m             headers\u001b[39m=\u001b[39;49mrequest\u001b[39m.\u001b[39;49mheaders,\n\u001b[1;32m    494\u001b[0m             redirect\u001b[39m=\u001b[39;49m\u001b[39mFalse\u001b[39;49;00m,\n\u001b[1;32m    495\u001b[0m             assert_same_host\u001b[39m=\u001b[39;49m\u001b[39mFalse\u001b[39;49;00m,\n\u001b[1;32m    496\u001b[0m             preload_content\u001b[39m=\u001b[39;49m\u001b[39mFalse\u001b[39;49;00m,\n\u001b[1;32m    497\u001b[0m             decode_content\u001b[39m=\u001b[39;49m\u001b[39mFalse\u001b[39;49;00m,\n\u001b[1;32m    498\u001b[0m             retries\u001b[39m=\u001b[39;49m\u001b[39mself\u001b[39;49m\u001b[39m.\u001b[39;49mmax_retries,\n\u001b[1;32m    499\u001b[0m             timeout\u001b[39m=\u001b[39;49mtimeout,\n\u001b[1;32m    500\u001b[0m         )\n\u001b[1;32m    502\u001b[0m     \u001b[39m# Send the request.\u001b[39;00m\n\u001b[1;32m    503\u001b[0m     \u001b[39melse\u001b[39;00m:\n\u001b[1;32m    504\u001b[0m         \u001b[39mif\u001b[39;00m \u001b[39mhasattr\u001b[39m(conn, \u001b[39m\"\u001b[39m\u001b[39mproxy_pool\u001b[39m\u001b[39m\"\u001b[39m):\n",
      "File \u001b[0;32m~/anaconda3/envs/pystock/lib/python3.10/site-packages/urllib3/connectionpool.py:703\u001b[0m, in \u001b[0;36mHTTPConnectionPool.urlopen\u001b[0;34m(self, method, url, body, headers, retries, redirect, assert_same_host, timeout, pool_timeout, release_conn, chunked, body_pos, **response_kw)\u001b[0m\n\u001b[1;32m    700\u001b[0m     \u001b[39mself\u001b[39m\u001b[39m.\u001b[39m_prepare_proxy(conn)\n\u001b[1;32m    702\u001b[0m \u001b[39m# Make the request on the httplib connection object.\u001b[39;00m\n\u001b[0;32m--> 703\u001b[0m httplib_response \u001b[39m=\u001b[39m \u001b[39mself\u001b[39;49m\u001b[39m.\u001b[39;49m_make_request(\n\u001b[1;32m    704\u001b[0m     conn,\n\u001b[1;32m    705\u001b[0m     method,\n\u001b[1;32m    706\u001b[0m     url,\n\u001b[1;32m    707\u001b[0m     timeout\u001b[39m=\u001b[39;49mtimeout_obj,\n\u001b[1;32m    708\u001b[0m     body\u001b[39m=\u001b[39;49mbody,\n\u001b[1;32m    709\u001b[0m     headers\u001b[39m=\u001b[39;49mheaders,\n\u001b[1;32m    710\u001b[0m     chunked\u001b[39m=\u001b[39;49mchunked,\n\u001b[1;32m    711\u001b[0m )\n\u001b[1;32m    713\u001b[0m \u001b[39m# If we're going to release the connection in ``finally:``, then\u001b[39;00m\n\u001b[1;32m    714\u001b[0m \u001b[39m# the response doesn't need to know about the connection. Otherwise\u001b[39;00m\n\u001b[1;32m    715\u001b[0m \u001b[39m# it will also try to release it and we'll have a double-release\u001b[39;00m\n\u001b[1;32m    716\u001b[0m \u001b[39m# mess.\u001b[39;00m\n\u001b[1;32m    717\u001b[0m response_conn \u001b[39m=\u001b[39m conn \u001b[39mif\u001b[39;00m \u001b[39mnot\u001b[39;00m release_conn \u001b[39melse\u001b[39;00m \u001b[39mNone\u001b[39;00m\n",
      "File \u001b[0;32m~/anaconda3/envs/pystock/lib/python3.10/site-packages/urllib3/connectionpool.py:386\u001b[0m, in \u001b[0;36mHTTPConnectionPool._make_request\u001b[0;34m(self, conn, method, url, timeout, chunked, **httplib_request_kw)\u001b[0m\n\u001b[1;32m    384\u001b[0m \u001b[39m# Trigger any extra validation we need to do.\u001b[39;00m\n\u001b[1;32m    385\u001b[0m \u001b[39mtry\u001b[39;00m:\n\u001b[0;32m--> 386\u001b[0m     \u001b[39mself\u001b[39;49m\u001b[39m.\u001b[39;49m_validate_conn(conn)\n\u001b[1;32m    387\u001b[0m \u001b[39mexcept\u001b[39;00m (SocketTimeout, BaseSSLError) \u001b[39mas\u001b[39;00m e:\n\u001b[1;32m    388\u001b[0m     \u001b[39m# Py2 raises this as a BaseSSLError, Py3 raises it as socket timeout.\u001b[39;00m\n\u001b[1;32m    389\u001b[0m     \u001b[39mself\u001b[39m\u001b[39m.\u001b[39m_raise_timeout(err\u001b[39m=\u001b[39me, url\u001b[39m=\u001b[39murl, timeout_value\u001b[39m=\u001b[39mconn\u001b[39m.\u001b[39mtimeout)\n",
      "File \u001b[0;32m~/anaconda3/envs/pystock/lib/python3.10/site-packages/urllib3/connectionpool.py:1042\u001b[0m, in \u001b[0;36mHTTPSConnectionPool._validate_conn\u001b[0;34m(self, conn)\u001b[0m\n\u001b[1;32m   1040\u001b[0m \u001b[39m# Force connect early to allow us to validate the connection.\u001b[39;00m\n\u001b[1;32m   1041\u001b[0m \u001b[39mif\u001b[39;00m \u001b[39mnot\u001b[39;00m \u001b[39mgetattr\u001b[39m(conn, \u001b[39m\"\u001b[39m\u001b[39msock\u001b[39m\u001b[39m\"\u001b[39m, \u001b[39mNone\u001b[39;00m):  \u001b[39m# AppEngine might not have  `.sock`\u001b[39;00m\n\u001b[0;32m-> 1042\u001b[0m     conn\u001b[39m.\u001b[39;49mconnect()\n\u001b[1;32m   1044\u001b[0m \u001b[39mif\u001b[39;00m \u001b[39mnot\u001b[39;00m conn\u001b[39m.\u001b[39mis_verified:\n\u001b[1;32m   1045\u001b[0m     warnings\u001b[39m.\u001b[39mwarn(\n\u001b[1;32m   1046\u001b[0m         (\n\u001b[1;32m   1047\u001b[0m             \u001b[39m\"\u001b[39m\u001b[39mUnverified HTTPS request is being made to host \u001b[39m\u001b[39m'\u001b[39m\u001b[39m%s\u001b[39;00m\u001b[39m'\u001b[39m\u001b[39m. \u001b[39m\u001b[39m\"\u001b[39m\n\u001b[0;32m   (...)\u001b[0m\n\u001b[1;32m   1052\u001b[0m         InsecureRequestWarning,\n\u001b[1;32m   1053\u001b[0m     )\n",
      "File \u001b[0;32m~/anaconda3/envs/pystock/lib/python3.10/site-packages/urllib3/connection.py:358\u001b[0m, in \u001b[0;36mHTTPSConnection.connect\u001b[0;34m(self)\u001b[0m\n\u001b[1;32m    356\u001b[0m \u001b[39mdef\u001b[39;00m \u001b[39mconnect\u001b[39m(\u001b[39mself\u001b[39m):\n\u001b[1;32m    357\u001b[0m     \u001b[39m# Add certificate verification\u001b[39;00m\n\u001b[0;32m--> 358\u001b[0m     \u001b[39mself\u001b[39m\u001b[39m.\u001b[39msock \u001b[39m=\u001b[39m conn \u001b[39m=\u001b[39m \u001b[39mself\u001b[39;49m\u001b[39m.\u001b[39;49m_new_conn()\n\u001b[1;32m    359\u001b[0m     hostname \u001b[39m=\u001b[39m \u001b[39mself\u001b[39m\u001b[39m.\u001b[39mhost\n\u001b[1;32m    360\u001b[0m     tls_in_tls \u001b[39m=\u001b[39m \u001b[39mFalse\u001b[39;00m\n",
      "File \u001b[0;32m~/anaconda3/envs/pystock/lib/python3.10/site-packages/urllib3/connection.py:174\u001b[0m, in \u001b[0;36mHTTPConnection._new_conn\u001b[0;34m(self)\u001b[0m\n\u001b[1;32m    171\u001b[0m     extra_kw[\u001b[39m\"\u001b[39m\u001b[39msocket_options\u001b[39m\u001b[39m\"\u001b[39m] \u001b[39m=\u001b[39m \u001b[39mself\u001b[39m\u001b[39m.\u001b[39msocket_options\n\u001b[1;32m    173\u001b[0m \u001b[39mtry\u001b[39;00m:\n\u001b[0;32m--> 174\u001b[0m     conn \u001b[39m=\u001b[39m connection\u001b[39m.\u001b[39;49mcreate_connection(\n\u001b[1;32m    175\u001b[0m         (\u001b[39mself\u001b[39;49m\u001b[39m.\u001b[39;49m_dns_host, \u001b[39mself\u001b[39;49m\u001b[39m.\u001b[39;49mport), \u001b[39mself\u001b[39;49m\u001b[39m.\u001b[39;49mtimeout, \u001b[39m*\u001b[39;49m\u001b[39m*\u001b[39;49mextra_kw\n\u001b[1;32m    176\u001b[0m     )\n\u001b[1;32m    178\u001b[0m \u001b[39mexcept\u001b[39;00m SocketTimeout:\n\u001b[1;32m    179\u001b[0m     \u001b[39mraise\u001b[39;00m ConnectTimeoutError(\n\u001b[1;32m    180\u001b[0m         \u001b[39mself\u001b[39m,\n\u001b[1;32m    181\u001b[0m         \u001b[39m\"\u001b[39m\u001b[39mConnection to \u001b[39m\u001b[39m%s\u001b[39;00m\u001b[39m timed out. (connect timeout=\u001b[39m\u001b[39m%s\u001b[39;00m\u001b[39m)\u001b[39m\u001b[39m\"\u001b[39m\n\u001b[1;32m    182\u001b[0m         \u001b[39m%\u001b[39m (\u001b[39mself\u001b[39m\u001b[39m.\u001b[39mhost, \u001b[39mself\u001b[39m\u001b[39m.\u001b[39mtimeout),\n\u001b[1;32m    183\u001b[0m     )\n",
      "File \u001b[0;32m~/anaconda3/envs/pystock/lib/python3.10/site-packages/urllib3/util/connection.py:85\u001b[0m, in \u001b[0;36mcreate_connection\u001b[0;34m(address, timeout, source_address, socket_options)\u001b[0m\n\u001b[1;32m     83\u001b[0m     \u001b[39mif\u001b[39;00m source_address:\n\u001b[1;32m     84\u001b[0m         sock\u001b[39m.\u001b[39mbind(source_address)\n\u001b[0;32m---> 85\u001b[0m     sock\u001b[39m.\u001b[39;49mconnect(sa)\n\u001b[1;32m     86\u001b[0m     \u001b[39mreturn\u001b[39;00m sock\n\u001b[1;32m     88\u001b[0m \u001b[39mexcept\u001b[39;00m socket\u001b[39m.\u001b[39merror \u001b[39mas\u001b[39;00m e:\n",
      "\u001b[0;31mKeyboardInterrupt\u001b[0m: "
     ]
    }
   ],
   "source": [
    "chain = oc.option_chain(\"02-03-2023\")\n",
    "chain"
   ]
  },
  {
   "cell_type": "code",
   "execution_count": 25,
   "metadata": {},
   "outputs": [],
   "source": [
    "import requests"
   ]
  },
  {
   "cell_type": "code",
   "execution_count": 28,
   "metadata": {},
   "outputs": [],
   "source": [
    "import pandas as pd"
   ]
  },
  {
   "cell_type": "code",
   "execution_count": 30,
   "metadata": {},
   "outputs": [
    {
     "ename": "KeyboardInterrupt",
     "evalue": "",
     "output_type": "error",
     "traceback": [
      "\u001b[0;31m---------------------------------------------------------------------------\u001b[0m",
      "\u001b[0;31mKeyboardInterrupt\u001b[0m                         Traceback (most recent call last)",
      "Cell \u001b[0;32mIn[30], line 1\u001b[0m\n\u001b[0;32m----> 1\u001b[0m res \u001b[39m=\u001b[39m pd\u001b[39m.\u001b[39;49mread_html(\u001b[39m\"\u001b[39;49m\u001b[39mhttps://www.moneycontrol.com/indices/fno/view-option-chain/NIFTY/2023-02-23\u001b[39;49m\u001b[39m\"\u001b[39;49m)\n",
      "File \u001b[0;32m~/.local/lib/python3.10/site-packages/pandas/util/_decorators.py:331\u001b[0m, in \u001b[0;36mdeprecate_nonkeyword_arguments.<locals>.decorate.<locals>.wrapper\u001b[0;34m(*args, **kwargs)\u001b[0m\n\u001b[1;32m    325\u001b[0m \u001b[39mif\u001b[39;00m \u001b[39mlen\u001b[39m(args) \u001b[39m>\u001b[39m num_allow_args:\n\u001b[1;32m    326\u001b[0m     warnings\u001b[39m.\u001b[39mwarn(\n\u001b[1;32m    327\u001b[0m         msg\u001b[39m.\u001b[39mformat(arguments\u001b[39m=\u001b[39m_format_argument_list(allow_args)),\n\u001b[1;32m    328\u001b[0m         \u001b[39mFutureWarning\u001b[39;00m,\n\u001b[1;32m    329\u001b[0m         stacklevel\u001b[39m=\u001b[39mfind_stack_level(),\n\u001b[1;32m    330\u001b[0m     )\n\u001b[0;32m--> 331\u001b[0m \u001b[39mreturn\u001b[39;00m func(\u001b[39m*\u001b[39;49margs, \u001b[39m*\u001b[39;49m\u001b[39m*\u001b[39;49mkwargs)\n",
      "File \u001b[0;32m~/.local/lib/python3.10/site-packages/pandas/io/html.py:1205\u001b[0m, in \u001b[0;36mread_html\u001b[0;34m(io, match, flavor, header, index_col, skiprows, attrs, parse_dates, thousands, encoding, decimal, converters, na_values, keep_default_na, displayed_only, extract_links)\u001b[0m\n\u001b[1;32m   1201\u001b[0m validate_header_arg(header)\n\u001b[1;32m   1203\u001b[0m io \u001b[39m=\u001b[39m stringify_path(io)\n\u001b[0;32m-> 1205\u001b[0m \u001b[39mreturn\u001b[39;00m _parse(\n\u001b[1;32m   1206\u001b[0m     flavor\u001b[39m=\u001b[39;49mflavor,\n\u001b[1;32m   1207\u001b[0m     io\u001b[39m=\u001b[39;49mio,\n\u001b[1;32m   1208\u001b[0m     match\u001b[39m=\u001b[39;49mmatch,\n\u001b[1;32m   1209\u001b[0m     header\u001b[39m=\u001b[39;49mheader,\n\u001b[1;32m   1210\u001b[0m     index_col\u001b[39m=\u001b[39;49mindex_col,\n\u001b[1;32m   1211\u001b[0m     skiprows\u001b[39m=\u001b[39;49mskiprows,\n\u001b[1;32m   1212\u001b[0m     parse_dates\u001b[39m=\u001b[39;49mparse_dates,\n\u001b[1;32m   1213\u001b[0m     thousands\u001b[39m=\u001b[39;49mthousands,\n\u001b[1;32m   1214\u001b[0m     attrs\u001b[39m=\u001b[39;49mattrs,\n\u001b[1;32m   1215\u001b[0m     encoding\u001b[39m=\u001b[39;49mencoding,\n\u001b[1;32m   1216\u001b[0m     decimal\u001b[39m=\u001b[39;49mdecimal,\n\u001b[1;32m   1217\u001b[0m     converters\u001b[39m=\u001b[39;49mconverters,\n\u001b[1;32m   1218\u001b[0m     na_values\u001b[39m=\u001b[39;49mna_values,\n\u001b[1;32m   1219\u001b[0m     keep_default_na\u001b[39m=\u001b[39;49mkeep_default_na,\n\u001b[1;32m   1220\u001b[0m     displayed_only\u001b[39m=\u001b[39;49mdisplayed_only,\n\u001b[1;32m   1221\u001b[0m     extract_links\u001b[39m=\u001b[39;49mextract_links,\n\u001b[1;32m   1222\u001b[0m )\n",
      "File \u001b[0;32m~/.local/lib/python3.10/site-packages/pandas/io/html.py:986\u001b[0m, in \u001b[0;36m_parse\u001b[0;34m(flavor, io, match, attrs, encoding, displayed_only, extract_links, **kwargs)\u001b[0m\n\u001b[1;32m    983\u001b[0m p \u001b[39m=\u001b[39m parser(io, compiled_match, attrs, encoding, displayed_only, extract_links)\n\u001b[1;32m    985\u001b[0m \u001b[39mtry\u001b[39;00m:\n\u001b[0;32m--> 986\u001b[0m     tables \u001b[39m=\u001b[39m p\u001b[39m.\u001b[39;49mparse_tables()\n\u001b[1;32m    987\u001b[0m \u001b[39mexcept\u001b[39;00m \u001b[39mValueError\u001b[39;00m \u001b[39mas\u001b[39;00m caught:\n\u001b[1;32m    988\u001b[0m     \u001b[39m# if `io` is an io-like object, check if it's seekable\u001b[39;00m\n\u001b[1;32m    989\u001b[0m     \u001b[39m# and try to rewind it before trying the next parser\u001b[39;00m\n\u001b[1;32m    990\u001b[0m     \u001b[39mif\u001b[39;00m \u001b[39mhasattr\u001b[39m(io, \u001b[39m\"\u001b[39m\u001b[39mseekable\u001b[39m\u001b[39m\"\u001b[39m) \u001b[39mand\u001b[39;00m io\u001b[39m.\u001b[39mseekable():\n",
      "File \u001b[0;32m~/.local/lib/python3.10/site-packages/pandas/io/html.py:262\u001b[0m, in \u001b[0;36m_HtmlFrameParser.parse_tables\u001b[0;34m(self)\u001b[0m\n\u001b[1;32m    254\u001b[0m \u001b[39mdef\u001b[39;00m \u001b[39mparse_tables\u001b[39m(\u001b[39mself\u001b[39m):\n\u001b[1;32m    255\u001b[0m \u001b[39m    \u001b[39m\u001b[39m\"\"\"\u001b[39;00m\n\u001b[1;32m    256\u001b[0m \u001b[39m    Parse and return all tables from the DOM.\u001b[39;00m\n\u001b[1;32m    257\u001b[0m \n\u001b[0;32m   (...)\u001b[0m\n\u001b[1;32m    260\u001b[0m \u001b[39m    list of parsed (header, body, footer) tuples from tables.\u001b[39;00m\n\u001b[1;32m    261\u001b[0m \u001b[39m    \"\"\"\u001b[39;00m\n\u001b[0;32m--> 262\u001b[0m     tables \u001b[39m=\u001b[39m \u001b[39mself\u001b[39m\u001b[39m.\u001b[39m_parse_tables(\u001b[39mself\u001b[39;49m\u001b[39m.\u001b[39;49m_build_doc(), \u001b[39mself\u001b[39m\u001b[39m.\u001b[39mmatch, \u001b[39mself\u001b[39m\u001b[39m.\u001b[39mattrs)\n\u001b[1;32m    263\u001b[0m     \u001b[39mreturn\u001b[39;00m (\u001b[39mself\u001b[39m\u001b[39m.\u001b[39m_parse_thead_tbody_tfoot(table) \u001b[39mfor\u001b[39;00m table \u001b[39min\u001b[39;00m tables)\n",
      "File \u001b[0;32m~/.local/lib/python3.10/site-packages/pandas/io/html.py:802\u001b[0m, in \u001b[0;36m_LxmlFrameParser._build_doc\u001b[0;34m(self)\u001b[0m\n\u001b[1;32m    800\u001b[0m \u001b[39mtry\u001b[39;00m:\n\u001b[1;32m    801\u001b[0m     \u001b[39mif\u001b[39;00m is_url(\u001b[39mself\u001b[39m\u001b[39m.\u001b[39mio):\n\u001b[0;32m--> 802\u001b[0m         \u001b[39mwith\u001b[39;00m urlopen(\u001b[39mself\u001b[39;49m\u001b[39m.\u001b[39;49mio) \u001b[39mas\u001b[39;00m f:\n\u001b[1;32m    803\u001b[0m             r \u001b[39m=\u001b[39m parse(f, parser\u001b[39m=\u001b[39mparser)\n\u001b[1;32m    804\u001b[0m     \u001b[39melse\u001b[39;00m:\n\u001b[1;32m    805\u001b[0m         \u001b[39m# try to parse the input in the simplest way\u001b[39;00m\n",
      "File \u001b[0;32m~/.local/lib/python3.10/site-packages/pandas/io/common.py:265\u001b[0m, in \u001b[0;36murlopen\u001b[0;34m(*args, **kwargs)\u001b[0m\n\u001b[1;32m    259\u001b[0m \u001b[39m\u001b[39m\u001b[39m\"\"\"\u001b[39;00m\n\u001b[1;32m    260\u001b[0m \u001b[39mLazy-import wrapper for stdlib urlopen, as that imports a big chunk of\u001b[39;00m\n\u001b[1;32m    261\u001b[0m \u001b[39mthe stdlib.\u001b[39;00m\n\u001b[1;32m    262\u001b[0m \u001b[39m\"\"\"\u001b[39;00m\n\u001b[1;32m    263\u001b[0m \u001b[39mimport\u001b[39;00m \u001b[39murllib\u001b[39;00m\u001b[39m.\u001b[39;00m\u001b[39mrequest\u001b[39;00m\n\u001b[0;32m--> 265\u001b[0m \u001b[39mreturn\u001b[39;00m urllib\u001b[39m.\u001b[39;49mrequest\u001b[39m.\u001b[39;49murlopen(\u001b[39m*\u001b[39;49margs, \u001b[39m*\u001b[39;49m\u001b[39m*\u001b[39;49mkwargs)\n",
      "File \u001b[0;32m~/anaconda3/envs/pystock/lib/python3.10/urllib/request.py:216\u001b[0m, in \u001b[0;36murlopen\u001b[0;34m(url, data, timeout, cafile, capath, cadefault, context)\u001b[0m\n\u001b[1;32m    214\u001b[0m \u001b[39melse\u001b[39;00m:\n\u001b[1;32m    215\u001b[0m     opener \u001b[39m=\u001b[39m _opener\n\u001b[0;32m--> 216\u001b[0m \u001b[39mreturn\u001b[39;00m opener\u001b[39m.\u001b[39;49mopen(url, data, timeout)\n",
      "File \u001b[0;32m~/anaconda3/envs/pystock/lib/python3.10/urllib/request.py:519\u001b[0m, in \u001b[0;36mOpenerDirector.open\u001b[0;34m(self, fullurl, data, timeout)\u001b[0m\n\u001b[1;32m    516\u001b[0m     req \u001b[39m=\u001b[39m meth(req)\n\u001b[1;32m    518\u001b[0m sys\u001b[39m.\u001b[39maudit(\u001b[39m'\u001b[39m\u001b[39murllib.Request\u001b[39m\u001b[39m'\u001b[39m, req\u001b[39m.\u001b[39mfull_url, req\u001b[39m.\u001b[39mdata, req\u001b[39m.\u001b[39mheaders, req\u001b[39m.\u001b[39mget_method())\n\u001b[0;32m--> 519\u001b[0m response \u001b[39m=\u001b[39m \u001b[39mself\u001b[39;49m\u001b[39m.\u001b[39;49m_open(req, data)\n\u001b[1;32m    521\u001b[0m \u001b[39m# post-process response\u001b[39;00m\n\u001b[1;32m    522\u001b[0m meth_name \u001b[39m=\u001b[39m protocol\u001b[39m+\u001b[39m\u001b[39m\"\u001b[39m\u001b[39m_response\u001b[39m\u001b[39m\"\u001b[39m\n",
      "File \u001b[0;32m~/anaconda3/envs/pystock/lib/python3.10/urllib/request.py:536\u001b[0m, in \u001b[0;36mOpenerDirector._open\u001b[0;34m(self, req, data)\u001b[0m\n\u001b[1;32m    533\u001b[0m     \u001b[39mreturn\u001b[39;00m result\n\u001b[1;32m    535\u001b[0m protocol \u001b[39m=\u001b[39m req\u001b[39m.\u001b[39mtype\n\u001b[0;32m--> 536\u001b[0m result \u001b[39m=\u001b[39m \u001b[39mself\u001b[39;49m\u001b[39m.\u001b[39;49m_call_chain(\u001b[39mself\u001b[39;49m\u001b[39m.\u001b[39;49mhandle_open, protocol, protocol \u001b[39m+\u001b[39;49m\n\u001b[1;32m    537\u001b[0m                           \u001b[39m'\u001b[39;49m\u001b[39m_open\u001b[39;49m\u001b[39m'\u001b[39;49m, req)\n\u001b[1;32m    538\u001b[0m \u001b[39mif\u001b[39;00m result:\n\u001b[1;32m    539\u001b[0m     \u001b[39mreturn\u001b[39;00m result\n",
      "File \u001b[0;32m~/anaconda3/envs/pystock/lib/python3.10/urllib/request.py:496\u001b[0m, in \u001b[0;36mOpenerDirector._call_chain\u001b[0;34m(self, chain, kind, meth_name, *args)\u001b[0m\n\u001b[1;32m    494\u001b[0m \u001b[39mfor\u001b[39;00m handler \u001b[39min\u001b[39;00m handlers:\n\u001b[1;32m    495\u001b[0m     func \u001b[39m=\u001b[39m \u001b[39mgetattr\u001b[39m(handler, meth_name)\n\u001b[0;32m--> 496\u001b[0m     result \u001b[39m=\u001b[39m func(\u001b[39m*\u001b[39;49margs)\n\u001b[1;32m    497\u001b[0m     \u001b[39mif\u001b[39;00m result \u001b[39mis\u001b[39;00m \u001b[39mnot\u001b[39;00m \u001b[39mNone\u001b[39;00m:\n\u001b[1;32m    498\u001b[0m         \u001b[39mreturn\u001b[39;00m result\n",
      "File \u001b[0;32m~/anaconda3/envs/pystock/lib/python3.10/urllib/request.py:1391\u001b[0m, in \u001b[0;36mHTTPSHandler.https_open\u001b[0;34m(self, req)\u001b[0m\n\u001b[1;32m   1390\u001b[0m \u001b[39mdef\u001b[39;00m \u001b[39mhttps_open\u001b[39m(\u001b[39mself\u001b[39m, req):\n\u001b[0;32m-> 1391\u001b[0m     \u001b[39mreturn\u001b[39;00m \u001b[39mself\u001b[39;49m\u001b[39m.\u001b[39;49mdo_open(http\u001b[39m.\u001b[39;49mclient\u001b[39m.\u001b[39;49mHTTPSConnection, req,\n\u001b[1;32m   1392\u001b[0m         context\u001b[39m=\u001b[39;49m\u001b[39mself\u001b[39;49m\u001b[39m.\u001b[39;49m_context, check_hostname\u001b[39m=\u001b[39;49m\u001b[39mself\u001b[39;49m\u001b[39m.\u001b[39;49m_check_hostname)\n",
      "File \u001b[0;32m~/anaconda3/envs/pystock/lib/python3.10/urllib/request.py:1348\u001b[0m, in \u001b[0;36mAbstractHTTPHandler.do_open\u001b[0;34m(self, http_class, req, **http_conn_args)\u001b[0m\n\u001b[1;32m   1346\u001b[0m \u001b[39mtry\u001b[39;00m:\n\u001b[1;32m   1347\u001b[0m     \u001b[39mtry\u001b[39;00m:\n\u001b[0;32m-> 1348\u001b[0m         h\u001b[39m.\u001b[39;49mrequest(req\u001b[39m.\u001b[39;49mget_method(), req\u001b[39m.\u001b[39;49mselector, req\u001b[39m.\u001b[39;49mdata, headers,\n\u001b[1;32m   1349\u001b[0m                   encode_chunked\u001b[39m=\u001b[39;49mreq\u001b[39m.\u001b[39;49mhas_header(\u001b[39m'\u001b[39;49m\u001b[39mTransfer-encoding\u001b[39;49m\u001b[39m'\u001b[39;49m))\n\u001b[1;32m   1350\u001b[0m     \u001b[39mexcept\u001b[39;00m \u001b[39mOSError\u001b[39;00m \u001b[39mas\u001b[39;00m err: \u001b[39m# timeout error\u001b[39;00m\n\u001b[1;32m   1351\u001b[0m         \u001b[39mraise\u001b[39;00m URLError(err)\n",
      "File \u001b[0;32m~/anaconda3/envs/pystock/lib/python3.10/http/client.py:1282\u001b[0m, in \u001b[0;36mHTTPConnection.request\u001b[0;34m(self, method, url, body, headers, encode_chunked)\u001b[0m\n\u001b[1;32m   1279\u001b[0m \u001b[39mdef\u001b[39;00m \u001b[39mrequest\u001b[39m(\u001b[39mself\u001b[39m, method, url, body\u001b[39m=\u001b[39m\u001b[39mNone\u001b[39;00m, headers\u001b[39m=\u001b[39m{}, \u001b[39m*\u001b[39m,\n\u001b[1;32m   1280\u001b[0m             encode_chunked\u001b[39m=\u001b[39m\u001b[39mFalse\u001b[39;00m):\n\u001b[1;32m   1281\u001b[0m \u001b[39m    \u001b[39m\u001b[39m\"\"\"Send a complete request to the server.\"\"\"\u001b[39;00m\n\u001b[0;32m-> 1282\u001b[0m     \u001b[39mself\u001b[39;49m\u001b[39m.\u001b[39;49m_send_request(method, url, body, headers, encode_chunked)\n",
      "File \u001b[0;32m~/anaconda3/envs/pystock/lib/python3.10/http/client.py:1328\u001b[0m, in \u001b[0;36mHTTPConnection._send_request\u001b[0;34m(self, method, url, body, headers, encode_chunked)\u001b[0m\n\u001b[1;32m   1324\u001b[0m \u001b[39mif\u001b[39;00m \u001b[39misinstance\u001b[39m(body, \u001b[39mstr\u001b[39m):\n\u001b[1;32m   1325\u001b[0m     \u001b[39m# RFC 2616 Section 3.7.1 says that text default has a\u001b[39;00m\n\u001b[1;32m   1326\u001b[0m     \u001b[39m# default charset of iso-8859-1.\u001b[39;00m\n\u001b[1;32m   1327\u001b[0m     body \u001b[39m=\u001b[39m _encode(body, \u001b[39m'\u001b[39m\u001b[39mbody\u001b[39m\u001b[39m'\u001b[39m)\n\u001b[0;32m-> 1328\u001b[0m \u001b[39mself\u001b[39;49m\u001b[39m.\u001b[39;49mendheaders(body, encode_chunked\u001b[39m=\u001b[39;49mencode_chunked)\n",
      "File \u001b[0;32m~/anaconda3/envs/pystock/lib/python3.10/http/client.py:1277\u001b[0m, in \u001b[0;36mHTTPConnection.endheaders\u001b[0;34m(self, message_body, encode_chunked)\u001b[0m\n\u001b[1;32m   1275\u001b[0m \u001b[39melse\u001b[39;00m:\n\u001b[1;32m   1276\u001b[0m     \u001b[39mraise\u001b[39;00m CannotSendHeader()\n\u001b[0;32m-> 1277\u001b[0m \u001b[39mself\u001b[39;49m\u001b[39m.\u001b[39;49m_send_output(message_body, encode_chunked\u001b[39m=\u001b[39;49mencode_chunked)\n",
      "File \u001b[0;32m~/anaconda3/envs/pystock/lib/python3.10/http/client.py:1037\u001b[0m, in \u001b[0;36mHTTPConnection._send_output\u001b[0;34m(self, message_body, encode_chunked)\u001b[0m\n\u001b[1;32m   1035\u001b[0m msg \u001b[39m=\u001b[39m \u001b[39mb\u001b[39m\u001b[39m\"\u001b[39m\u001b[39m\\r\u001b[39;00m\u001b[39m\\n\u001b[39;00m\u001b[39m\"\u001b[39m\u001b[39m.\u001b[39mjoin(\u001b[39mself\u001b[39m\u001b[39m.\u001b[39m_buffer)\n\u001b[1;32m   1036\u001b[0m \u001b[39mdel\u001b[39;00m \u001b[39mself\u001b[39m\u001b[39m.\u001b[39m_buffer[:]\n\u001b[0;32m-> 1037\u001b[0m \u001b[39mself\u001b[39;49m\u001b[39m.\u001b[39;49msend(msg)\n\u001b[1;32m   1039\u001b[0m \u001b[39mif\u001b[39;00m message_body \u001b[39mis\u001b[39;00m \u001b[39mnot\u001b[39;00m \u001b[39mNone\u001b[39;00m:\n\u001b[1;32m   1040\u001b[0m \n\u001b[1;32m   1041\u001b[0m     \u001b[39m# create a consistent interface to message_body\u001b[39;00m\n\u001b[1;32m   1042\u001b[0m     \u001b[39mif\u001b[39;00m \u001b[39mhasattr\u001b[39m(message_body, \u001b[39m'\u001b[39m\u001b[39mread\u001b[39m\u001b[39m'\u001b[39m):\n\u001b[1;32m   1043\u001b[0m         \u001b[39m# Let file-like take precedence over byte-like.  This\u001b[39;00m\n\u001b[1;32m   1044\u001b[0m         \u001b[39m# is needed to allow the current position of mmap'ed\u001b[39;00m\n\u001b[1;32m   1045\u001b[0m         \u001b[39m# files to be taken into account.\u001b[39;00m\n",
      "File \u001b[0;32m~/anaconda3/envs/pystock/lib/python3.10/http/client.py:975\u001b[0m, in \u001b[0;36mHTTPConnection.send\u001b[0;34m(self, data)\u001b[0m\n\u001b[1;32m    973\u001b[0m \u001b[39mif\u001b[39;00m \u001b[39mself\u001b[39m\u001b[39m.\u001b[39msock \u001b[39mis\u001b[39;00m \u001b[39mNone\u001b[39;00m:\n\u001b[1;32m    974\u001b[0m     \u001b[39mif\u001b[39;00m \u001b[39mself\u001b[39m\u001b[39m.\u001b[39mauto_open:\n\u001b[0;32m--> 975\u001b[0m         \u001b[39mself\u001b[39;49m\u001b[39m.\u001b[39;49mconnect()\n\u001b[1;32m    976\u001b[0m     \u001b[39melse\u001b[39;00m:\n\u001b[1;32m    977\u001b[0m         \u001b[39mraise\u001b[39;00m NotConnected()\n",
      "File \u001b[0;32m~/anaconda3/envs/pystock/lib/python3.10/http/client.py:1447\u001b[0m, in \u001b[0;36mHTTPSConnection.connect\u001b[0;34m(self)\u001b[0m\n\u001b[1;32m   1444\u001b[0m \u001b[39mdef\u001b[39;00m \u001b[39mconnect\u001b[39m(\u001b[39mself\u001b[39m):\n\u001b[1;32m   1445\u001b[0m     \u001b[39m\"\u001b[39m\u001b[39mConnect to a host on a given (SSL) port.\u001b[39m\u001b[39m\"\u001b[39m\n\u001b[0;32m-> 1447\u001b[0m     \u001b[39msuper\u001b[39;49m()\u001b[39m.\u001b[39;49mconnect()\n\u001b[1;32m   1449\u001b[0m     \u001b[39mif\u001b[39;00m \u001b[39mself\u001b[39m\u001b[39m.\u001b[39m_tunnel_host:\n\u001b[1;32m   1450\u001b[0m         server_hostname \u001b[39m=\u001b[39m \u001b[39mself\u001b[39m\u001b[39m.\u001b[39m_tunnel_host\n",
      "File \u001b[0;32m~/anaconda3/envs/pystock/lib/python3.10/http/client.py:941\u001b[0m, in \u001b[0;36mHTTPConnection.connect\u001b[0;34m(self)\u001b[0m\n\u001b[1;32m    939\u001b[0m \u001b[39m\u001b[39m\u001b[39m\"\"\"Connect to the host and port specified in __init__.\"\"\"\u001b[39;00m\n\u001b[1;32m    940\u001b[0m sys\u001b[39m.\u001b[39maudit(\u001b[39m\"\u001b[39m\u001b[39mhttp.client.connect\u001b[39m\u001b[39m\"\u001b[39m, \u001b[39mself\u001b[39m, \u001b[39mself\u001b[39m\u001b[39m.\u001b[39mhost, \u001b[39mself\u001b[39m\u001b[39m.\u001b[39mport)\n\u001b[0;32m--> 941\u001b[0m \u001b[39mself\u001b[39m\u001b[39m.\u001b[39msock \u001b[39m=\u001b[39m \u001b[39mself\u001b[39;49m\u001b[39m.\u001b[39;49m_create_connection(\n\u001b[1;32m    942\u001b[0m     (\u001b[39mself\u001b[39;49m\u001b[39m.\u001b[39;49mhost,\u001b[39mself\u001b[39;49m\u001b[39m.\u001b[39;49mport), \u001b[39mself\u001b[39;49m\u001b[39m.\u001b[39;49mtimeout, \u001b[39mself\u001b[39;49m\u001b[39m.\u001b[39;49msource_address)\n\u001b[1;32m    943\u001b[0m \u001b[39m# Might fail in OSs that don't implement TCP_NODELAY\u001b[39;00m\n\u001b[1;32m    944\u001b[0m \u001b[39mtry\u001b[39;00m:\n",
      "File \u001b[0;32m~/anaconda3/envs/pystock/lib/python3.10/socket.py:833\u001b[0m, in \u001b[0;36mcreate_connection\u001b[0;34m(address, timeout, source_address)\u001b[0m\n\u001b[1;32m    831\u001b[0m \u001b[39mif\u001b[39;00m source_address:\n\u001b[1;32m    832\u001b[0m     sock\u001b[39m.\u001b[39mbind(source_address)\n\u001b[0;32m--> 833\u001b[0m sock\u001b[39m.\u001b[39;49mconnect(sa)\n\u001b[1;32m    834\u001b[0m \u001b[39m# Break explicitly a reference cycle\u001b[39;00m\n\u001b[1;32m    835\u001b[0m err \u001b[39m=\u001b[39m \u001b[39mNone\u001b[39;00m\n",
      "\u001b[0;31mKeyboardInterrupt\u001b[0m: "
     ]
    }
   ],
   "source": [
    "res = pd.read_html(\"https://www.moneycontrol.com/indices/fno/view-option-chain/NIFTY/2023-02-23\")"
   ]
  },
  {
   "cell_type": "code",
   "execution_count": 4,
   "metadata": {},
   "outputs": [
    {
     "name": "stderr",
     "output_type": "stream",
     "text": [
      "2023-01-23 14:51:03,569 - optionalyzer.bs_logger - INFO - Defining variables.\n",
      "INFO:optionalyzer.bs_logger:Defining variables.\n",
      "/media/hari31416/Hari_SSD/Users/harik/Desktop/Finance/Projects/optionalyzer/optionalyzer/blackscholes.py:365: UserWarning:\n",
      "\n",
      "Parsing dates in DD/MM/YYYY format when dayfirst=False (the default) was specified. This may lead to inconsistently parsed dates! Specify a format to ensure consistent parsing.\n",
      "\n"
     ]
    },
    {
     "name": "stdout",
     "output_type": "stream",
     "text": [
      "Calculating Implied Volatility\n"
     ]
    },
    {
     "data": {
      "text/plain": [
       "0.21095512120386417"
      ]
     },
     "execution_count": 4,
     "metadata": {},
     "output_type": "execute_result"
    }
   ],
   "source": [
    "oc.calculate_iv(\"25-01-2023\", option_type=\"call\")"
   ]
  },
  {
   "cell_type": "code",
   "execution_count": 5,
   "metadata": {},
   "outputs": [
    {
     "name": "stderr",
     "output_type": "stream",
     "text": [
      "2023-01-23 14:51:07,537 - optionalyzer.bs_logger - INFO - Defining variables.\n",
      "INFO:optionalyzer.bs_logger:Defining variables.\n",
      "/media/hari31416/Hari_SSD/Users/harik/Desktop/Finance/Projects/optionalyzer/optionalyzer/blackscholes.py:365: UserWarning:\n",
      "\n",
      "Parsing dates in DD/MM/YYYY format when dayfirst=False (the default) was specified. This may lead to inconsistently parsed dates! Specify a format to ensure consistent parsing.\n",
      "\n"
     ]
    },
    {
     "name": "stdout",
     "output_type": "stream",
     "text": [
      "Calculating Implied Volatility\n"
     ]
    },
    {
     "data": {
      "text/plain": [
       "0.13564452502007404"
      ]
     },
     "execution_count": 5,
     "metadata": {},
     "output_type": "execute_result"
    }
   ],
   "source": [
    "oc.calculate_iv(\"25-01-2023\", option_type=\"put\")"
   ]
  },
  {
   "attachments": {},
   "cell_type": "markdown",
   "metadata": {},
   "source": [
    "### Payoff"
   ]
  },
  {
   "cell_type": "code",
   "execution_count": 6,
   "metadata": {},
   "outputs": [
    {
     "data": {
      "text/plain": [
       "18123.599609375"
      ]
     },
     "execution_count": 6,
     "metadata": {},
     "output_type": "execute_result"
    }
   ],
   "source": [
    "spot_price = oc.get_spot_price()\n",
    "spot_price"
   ]
  },
  {
   "cell_type": "code",
   "execution_count": 6,
   "metadata": {},
   "outputs": [],
   "source": [
    "spot_price = 18123"
   ]
  },
  {
   "cell_type": "code",
   "execution_count": 14,
   "metadata": {},
   "outputs": [],
   "source": [
    "call = Call(18100, \"25-02-2023\", 0.21)\n",
    "put = Put(18100, \"25-02-2023\", 0.14)"
   ]
  },
  {
   "cell_type": "code",
   "execution_count": 15,
   "metadata": {},
   "outputs": [],
   "source": [
    "short_call = Position(call, \"s\")\n",
    "long_call = Position(call, \"long\")\n",
    "short_put = Position(put, \"short\")\n",
    "long_put = Position(put, \"l\")"
   ]
  },
  {
   "cell_type": "code",
   "execution_count": 16,
   "metadata": {},
   "outputs": [
    {
     "data": {
      "text/plain": [
       "(Position(Short Call(18100, 2023-02-25, 0.21)),\n",
       " Position(Long Call(18100, 2023-02-25, 0.21)))"
      ]
     },
     "execution_count": 16,
     "metadata": {},
     "output_type": "execute_result"
    }
   ],
   "source": [
    "short_call, long_call"
   ]
  },
  {
   "cell_type": "code",
   "execution_count": 17,
   "metadata": {},
   "outputs": [
    {
     "data": {
      "text/plain": [
       "(Position(Short Put(18100, 2023-02-25, 0.14)),\n",
       " Position(Long Put(18100, 2023-02-25, 0.14)))"
      ]
     },
     "execution_count": 17,
     "metadata": {},
     "output_type": "execute_result"
    }
   ],
   "source": [
    "short_put, long_put"
   ]
  },
  {
   "cell_type": "code",
   "execution_count": 18,
   "metadata": {},
   "outputs": [],
   "source": [
    "# positions = [short_call, short_put]\n",
    "positions = [short_call, short_put]\n",
    "pc = PayoffChart(positions=positions, spot_price=spot_price)"
   ]
  },
  {
   "cell_type": "code",
   "execution_count": 19,
   "metadata": {},
   "outputs": [],
   "source": [
    "pc.add_positions([long_call])"
   ]
  },
  {
   "cell_type": "code",
   "execution_count": 20,
   "metadata": {},
   "outputs": [
    {
     "data": {
      "text/html": [
       "        <script type=\"text/javascript\">\n",
       "        window.PlotlyConfig = {MathJaxConfig: 'local'};\n",
       "        if (window.MathJax && window.MathJax.Hub && window.MathJax.Hub.Config) {window.MathJax.Hub.Config({SVG: {font: \"STIX-Web\"}});}\n",
       "        if (typeof require !== 'undefined') {\n",
       "        require.undef(\"plotly\");\n",
       "        requirejs.config({\n",
       "            paths: {\n",
       "                'plotly': ['https://cdn.plot.ly/plotly-2.12.1.min']\n",
       "            }\n",
       "        });\n",
       "        require(['plotly'], function(Plotly) {\n",
       "            window._Plotly = Plotly;\n",
       "        });\n",
       "        }\n",
       "        </script>\n",
       "        "
      ]
     },
     "metadata": {},
     "output_type": "display_data"
    },
    {
     "data": {
      "text/html": [
       "<div>                            <div id=\"4acded35-ab84-4eb1-86cc-e95ec82c964e\" class=\"plotly-graph-div\" style=\"height:525px; width:100%;\"></div>            <script type=\"text/javascript\">                require([\"plotly\"], function(Plotly) {                    window.PLOTLYENV=window.PLOTLYENV || {};                                    if (document.getElementById(\"4acded35-ab84-4eb1-86cc-e95ec82c964e\")) {                    Plotly.newPlot(                        \"4acded35-ab84-4eb1-86cc-e95ec82c964e\",                        [{\"fill\":\"tozeroy\",\"fillcolor\":\"rgba(0,255,0,0.5)\",\"name\":\"\",\"x\":[18059.250753768843,18077.4648241206,18095.678894472363,18113.89296482412,18132.10703517588,18150.321105527637,18168.5351758794,18186.749246231157,18204.963316582915,18223.177386934673,18241.39145728643,18259.605527638192,18277.81959798995,18296.033668341708,18314.247738693466,18332.461809045228,18350.675879396986,18368.889949748744,18387.1040201005,18405.31809045226,18423.53216080402,18441.74623115578,18459.960301507537,18478.174371859295,18496.388442211057,18514.602512562815,18532.816582914573,18551.03065326633,18569.24472361809,18587.45879396985,18605.67286432161,18623.886934673366,18642.101005025124,18660.315075376886,18678.529145728644,18696.743216080402,18714.95728643216,18733.171356783918,18751.38542713568,18769.599497487437,18787.813567839195,18806.027638190953,18824.241708542715,18842.455778894473,18860.66984924623,18878.88391959799,18897.097989949747,18915.312060301505,18933.526130653267,18951.740201005025,18969.954271356783,18988.168341708544,19006.382412060302,19024.59648241206,19042.810552763818,19061.024623115576,19079.238693467334,19097.452763819096,19115.666834170854,19133.88090452261,19152.09497487437,19170.30904522613,19188.52311557789,19206.737185929647,19224.951256281405,19243.165326633163,19261.379396984925,19279.593467336683,19297.80753768844,19316.0216080402,19334.23567839196,19352.44974874372,19370.663819095476,19388.877889447234,19407.091959798992,19425.306030150754,19443.520100502512,19461.73417085427,19479.948241206028,19498.16231155779,19516.376381909547,19534.590452261305,19552.804522613063,19571.01859296482,19589.232663316583,19607.44673366834,19625.6608040201,19643.874874371857,19662.08894472362,19680.303015075377,19698.517085427135,19716.731155778893,19734.94522613065,19753.159296482412,19771.37336683417,19789.587437185928,19807.801507537686,19826.015577889448,19844.229648241206,19862.443718592964,19880.65778894472,19898.87185929648,19917.08592964824,19935.3],\"y\":[100.0,650.0,1100.0,1550.0,1950.0,2250.0,2550.0,2800.0,3000.0,3200.0,3300.0,3450.0,3500.0,3600.0,3650.0,3700.0,3700.0,3750.0,3750.0,3750.0,3750.0,3750.0,3800.0,3800.0,3800.0,3800.0,3800.0,3800.0,3800.0,3800.0,3800.0,3800.0,3800.0,3800.0,3800.0,3800.0,3800.0,3800.0,3800.0,3800.0,3800.0,3800.0,3800.0,3800.0,3800.0,3800.0,3800.0,3800.0,3800.0,3800.0,3800.0,3800.0,3800.0,3800.0,3800.0,3800.0,3800.0,3800.0,3800.0,3800.0,3800.0,3800.0,3800.0,3800.0,3800.0,3800.0,3800.0,3800.0,3800.0,3800.0,3800.0,3800.0,3800.0,3800.0,3800.0,3800.0,3800.0,3800.0,3800.0,3800.0,3800.0,3800.0,3800.0,3800.0,3800.0,3800.0,3800.0,3800.0,3800.0,3800.0,3800.0,3800.0,3800.0,3800.0,3800.0,3800.0,3800.0,3800.0,3800.0,3800.0,3800.0,3800.0,3800.0,3800.0],\"type\":\"scatter\"},{\"fill\":\"tozeroy\",\"fillcolor\":\"rgba(255,0,0,0.5)\",\"name\":\"\",\"x\":[16310.7,16328.914070351759,16347.128140703519,16365.342211055276,16383.556281407036,16401.770351758794,16419.984422110552,16438.198492462314,16456.412562814072,16474.62663316583,16492.840703517588,16511.054773869346,16529.268844221107,16547.482914572865,16565.696984924623,16583.91105527638,16602.125125628143,16620.3391959799,16638.55326633166,16656.767336683417,16674.981407035175,16693.195477386937,16711.409547738695,16729.623618090453,16747.83768844221,16766.051758793972,16784.26582914573,16802.479899497488,16820.693969849246,16838.908040201004,16857.122110552766,16875.336180904524,16893.55025125628,16911.76432160804,16929.978391959798,16948.19246231156,16966.406532663317,16984.620603015075,17002.834673366833,17021.048743718595,17039.262814070353,17057.47688442211,17075.69095477387,17093.905025125627,17112.11909547739,17130.333165829146,17148.547236180904,17166.761306532662,17184.975376884424,17203.189447236182,17221.40351758794,17239.617587939698,17257.831658291456,17276.045728643217,17294.259798994975,17312.473869346733,17330.68793969849,17348.902010050253,17367.11608040201,17385.33015075377,17403.544221105527,17421.758291457285,17439.972361809047,17458.186432160805,17476.400502512563,17494.61457286432,17512.828643216082,17531.04271356784,17549.256783919598,17567.470854271356,17585.684924623114,17603.898994974876,17622.113065326634,17640.32713567839,17658.54120603015,17676.75527638191,17694.96934673367,17713.183417085427,17731.397487437185,17749.611557788943,17767.825628140705,17786.039698492463,17804.25376884422,17822.46783919598,17840.68190954774,17858.8959798995,17877.110050251256,17895.324120603014,17913.538190954772,17931.752261306534,17949.966331658292,17968.18040201005,17986.394472361808,18004.60854271357,18022.822613065327,18041.036683417085],\"y\":[-85500.0,-84600.0,-83700.0,-82750.0,-81850.0,-80950.0,-80050.0,-79100.0,-78200.0,-77300.0,-76400.0,-75500.0,-74550.0,-73650.0,-72750.0,-71850.0,-70950.0,-70000.0,-69100.0,-68200.0,-67300.0,-66350.0,-65450.0,-64550.0,-63650.0,-62750.0,-61800.0,-60900.0,-60000.0,-59100.0,-58200.0,-57250.0,-56350.0,-55450.0,-54550.0,-53600.0,-52700.0,-51800.0,-50900.0,-50000.0,-49050.0,-48150.0,-47250.0,-46350.0,-45450.0,-44500.0,-43600.0,-42700.0,-41800.0,-40850.0,-39950.0,-39050.0,-38150.0,-37250.0,-36300.0,-35400.0,-34500.0,-33600.0,-32700.0,-31750.0,-30850.0,-29950.0,-29050.0,-28100.0,-27200.0,-26300.0,-25400.0,-24500.0,-23550.0,-22650.0,-21750.0,-20850.0,-19950.0,-19000.0,-18100.0,-17200.0,-16300.0,-15400.0,-14450.0,-13550.0,-12650.0,-11750.0,-10850.0,-9950.0,-9050.0,-8200.0,-7300.0,-6450.0,-5600.0,-4800.0,-4000.0,-3200.0,-2450.0,-1750.0,-1100.0,-450.0],\"type\":\"scatter\"},{\"line\":{\"color\":\"blue\"},\"name\":\"PnL on 24-02-2023\",\"x\":[16310.7,16328.914070351759,16347.128140703519,16365.342211055276,16383.556281407036,16401.770351758794,16419.984422110552,16438.198492462314,16456.412562814072,16474.62663316583,16492.840703517588,16511.054773869346,16529.268844221107,16547.482914572865,16565.696984924623,16583.91105527638,16602.125125628143,16620.3391959799,16638.55326633166,16656.767336683417,16674.981407035175,16693.195477386937,16711.409547738695,16729.623618090453,16747.83768844221,16766.051758793972,16784.26582914573,16802.479899497488,16820.693969849246,16838.908040201004,16857.122110552766,16875.336180904524,16893.55025125628,16911.76432160804,16929.978391959798,16948.19246231156,16966.406532663317,16984.620603015075,17002.834673366833,17021.048743718595,17039.262814070353,17057.47688442211,17075.69095477387,17093.905025125627,17112.11909547739,17130.333165829146,17148.547236180904,17166.761306532662,17184.975376884424,17203.189447236182,17221.40351758794,17239.617587939698,17257.831658291456,17276.045728643217,17294.259798994975,17312.473869346733,17330.68793969849,17348.902010050253,17367.11608040201,17385.33015075377,17403.544221105527,17421.758291457285,17439.972361809047,17458.186432160805,17476.400502512563,17494.61457286432,17512.828643216082,17531.04271356784,17549.256783919598,17567.470854271356,17585.684924623114,17603.898994974876,17622.113065326634,17640.32713567839,17658.54120603015,17676.75527638191,17694.96934673367,17713.183417085427,17731.397487437185,17749.611557788943,17767.825628140705,17786.039698492463,17804.25376884422,17822.46783919598,17840.68190954774,17858.8959798995,17877.110050251256,17895.324120603014,17913.538190954772,17931.752261306534,17949.966331658292,17968.18040201005,17986.394472361808,18004.60854271357,18022.822613065327,18041.036683417085,18059.250753768843,18077.4648241206,18095.678894472363,18113.89296482412,18132.10703517588,18150.321105527637,18168.5351758794,18186.749246231157,18204.963316582915,18223.177386934673,18241.39145728643,18259.605527638192,18277.81959798995,18296.033668341708,18314.247738693466,18332.461809045228,18350.675879396986,18368.889949748744,18387.1040201005,18405.31809045226,18423.53216080402,18441.74623115578,18459.960301507537,18478.174371859295,18496.388442211057,18514.602512562815,18532.816582914573,18551.03065326633,18569.24472361809,18587.45879396985,18605.67286432161,18623.886934673366,18642.101005025124,18660.315075376886,18678.529145728644,18696.743216080402,18714.95728643216,18733.171356783918,18751.38542713568,18769.599497487437,18787.813567839195,18806.027638190953,18824.241708542715,18842.455778894473,18860.66984924623,18878.88391959799,18897.097989949747,18915.312060301505,18933.526130653267,18951.740201005025,18969.954271356783,18988.168341708544,19006.382412060302,19024.59648241206,19042.810552763818,19061.024623115576,19079.238693467334,19097.452763819096,19115.666834170854,19133.88090452261,19152.09497487437,19170.30904522613,19188.52311557789,19206.737185929647,19224.951256281405,19243.165326633163,19261.379396984925,19279.593467336683,19297.80753768844,19316.0216080402,19334.23567839196,19352.44974874372,19370.663819095476,19388.877889447234,19407.091959798992,19425.306030150754,19443.520100502512,19461.73417085427,19479.948241206028,19498.16231155779,19516.376381909547,19534.590452261305,19552.804522613063,19571.01859296482,19589.232663316583,19607.44673366834,19625.6608040201,19643.874874371857,19662.08894472362,19680.303015075377,19698.517085427135,19716.731155778893,19734.94522613065,19753.159296482412,19771.37336683417,19789.587437185928,19807.801507537686,19826.015577889448,19844.229648241206,19862.443718592964,19880.65778894472,19898.87185929648,19917.08592964824,19935.3],\"y\":[-85500.0,-84600.0,-83700.0,-82750.0,-81850.0,-80950.0,-80050.0,-79100.0,-78200.0,-77300.0,-76400.0,-75500.0,-74550.0,-73650.0,-72750.0,-71850.0,-70950.0,-70000.0,-69100.0,-68200.0,-67300.0,-66350.0,-65450.0,-64550.0,-63650.0,-62750.0,-61800.0,-60900.0,-60000.0,-59100.0,-58200.0,-57250.0,-56350.0,-55450.0,-54550.0,-53600.0,-52700.0,-51800.0,-50900.0,-50000.0,-49050.0,-48150.0,-47250.0,-46350.0,-45450.0,-44500.0,-43600.0,-42700.0,-41800.0,-40850.0,-39950.0,-39050.0,-38150.0,-37250.0,-36300.0,-35400.0,-34500.0,-33600.0,-32700.0,-31750.0,-30850.0,-29950.0,-29050.0,-28100.0,-27200.0,-26300.0,-25400.0,-24500.0,-23550.0,-22650.0,-21750.0,-20850.0,-19950.0,-19000.0,-18100.0,-17200.0,-16300.0,-15400.0,-14450.0,-13550.0,-12650.0,-11750.0,-10850.0,-9950.0,-9050.0,-8200.0,-7300.0,-6450.0,-5600.0,-4800.0,-4000.0,-3200.0,-2450.0,-1750.0,-1100.0,-450.0,100.0,650.0,1100.0,1550.0,1950.0,2250.0,2550.0,2800.0,3000.0,3200.0,3300.0,3450.0,3500.0,3600.0,3650.0,3700.0,3700.0,3750.0,3750.0,3750.0,3750.0,3750.0,3800.0,3800.0,3800.0,3800.0,3800.0,3800.0,3800.0,3800.0,3800.0,3800.0,3800.0,3800.0,3800.0,3800.0,3800.0,3800.0,3800.0,3800.0,3800.0,3800.0,3800.0,3800.0,3800.0,3800.0,3800.0,3800.0,3800.0,3800.0,3800.0,3800.0,3800.0,3800.0,3800.0,3800.0,3800.0,3800.0,3800.0,3800.0,3800.0,3800.0,3800.0,3800.0,3800.0,3800.0,3800.0,3800.0,3800.0,3800.0,3800.0,3800.0,3800.0,3800.0,3800.0,3800.0,3800.0,3800.0,3800.0,3800.0,3800.0,3800.0,3800.0,3800.0,3800.0,3800.0,3800.0,3800.0,3800.0,3800.0,3800.0,3800.0,3800.0,3800.0,3800.0,3800.0,3800.0,3800.0,3800.0,3800.0,3800.0,3800.0,3800.0,3800.0],\"type\":\"scatter\"},{\"line\":{\"color\":\"yellow\"},\"name\":\"PnL at Expiry\",\"x\":[16310.7,16328.914070351759,16347.128140703519,16365.342211055276,16383.556281407036,16401.770351758794,16419.984422110552,16438.198492462314,16456.412562814072,16474.62663316583,16492.840703517588,16511.054773869346,16529.268844221107,16547.482914572865,16565.696984924623,16583.91105527638,16602.125125628143,16620.3391959799,16638.55326633166,16656.767336683417,16674.981407035175,16693.195477386937,16711.409547738695,16729.623618090453,16747.83768844221,16766.051758793972,16784.26582914573,16802.479899497488,16820.693969849246,16838.908040201004,16857.122110552766,16875.336180904524,16893.55025125628,16911.76432160804,16929.978391959798,16948.19246231156,16966.406532663317,16984.620603015075,17002.834673366833,17021.048743718595,17039.262814070353,17057.47688442211,17075.69095477387,17093.905025125627,17112.11909547739,17130.333165829146,17148.547236180904,17166.761306532662,17184.975376884424,17203.189447236182,17221.40351758794,17239.617587939698,17257.831658291456,17276.045728643217,17294.259798994975,17312.473869346733,17330.68793969849,17348.902010050253,17367.11608040201,17385.33015075377,17403.544221105527,17421.758291457285,17439.972361809047,17458.186432160805,17476.400502512563,17494.61457286432,17512.828643216082,17531.04271356784,17549.256783919598,17567.470854271356,17585.684924623114,17603.898994974876,17622.113065326634,17640.32713567839,17658.54120603015,17676.75527638191,17694.96934673367,17713.183417085427,17731.397487437185,17749.611557788943,17767.825628140705,17786.039698492463,17804.25376884422,17822.46783919598,17840.68190954774,17858.8959798995,17877.110050251256,17895.324120603014,17913.538190954772,17931.752261306534,17949.966331658292,17968.18040201005,17986.394472361808,18004.60854271357,18022.822613065327,18041.036683417085,18059.250753768843,18077.4648241206,18095.678894472363,18113.89296482412,18132.10703517588,18150.321105527637,18168.5351758794,18186.749246231157,18204.963316582915,18223.177386934673,18241.39145728643,18259.605527638192,18277.81959798995,18296.033668341708,18314.247738693466,18332.461809045228,18350.675879396986,18368.889949748744,18387.1040201005,18405.31809045226,18423.53216080402,18441.74623115578,18459.960301507537,18478.174371859295,18496.388442211057,18514.602512562815,18532.816582914573,18551.03065326633,18569.24472361809,18587.45879396985,18605.67286432161,18623.886934673366,18642.101005025124,18660.315075376886,18678.529145728644,18696.743216080402,18714.95728643216,18733.171356783918,18751.38542713568,18769.599497487437,18787.813567839195,18806.027638190953,18824.241708542715,18842.455778894473,18860.66984924623,18878.88391959799,18897.097989949747,18915.312060301505,18933.526130653267,18951.740201005025,18969.954271356783,18988.168341708544,19006.382412060302,19024.59648241206,19042.810552763818,19061.024623115576,19079.238693467334,19097.452763819096,19115.666834170854,19133.88090452261,19152.09497487437,19170.30904522613,19188.52311557789,19206.737185929647,19224.951256281405,19243.165326633163,19261.379396984925,19279.593467336683,19297.80753768844,19316.0216080402,19334.23567839196,19352.44974874372,19370.663819095476,19388.877889447234,19407.091959798992,19425.306030150754,19443.520100502512,19461.73417085427,19479.948241206028,19498.16231155779,19516.376381909547,19534.590452261305,19552.804522613063,19571.01859296482,19589.232663316583,19607.44673366834,19625.6608040201,19643.874874371857,19662.08894472362,19680.303015075377,19698.517085427135,19716.731155778893,19734.94522613065,19753.159296482412,19771.37336683417,19789.587437185928,19807.801507537686,19826.015577889448,19844.229648241206,19862.443718592964,19880.65778894472,19898.87185929648,19917.08592964824,19935.3],\"y\":[-85700.0,-84750.0,-83850.0,-82950.0,-82050.0,-81150.0,-80200.0,-79300.0,-78400.0,-77500.0,-76600.0,-75650.0,-74750.0,-73850.0,-72950.0,-72000.0,-71100.0,-70200.0,-69300.0,-68400.0,-67450.0,-66550.0,-65650.0,-64750.0,-63850.0,-62900.0,-62000.0,-61100.0,-60200.0,-59250.0,-58350.0,-57450.0,-56550.0,-55650.0,-54700.0,-53800.0,-52900.0,-52000.0,-51100.0,-50150.0,-49250.0,-48350.0,-47450.0,-46500.0,-45600.0,-44700.0,-43800.0,-42900.0,-41950.0,-41050.0,-40150.0,-39250.0,-38350.0,-37400.0,-36500.0,-35600.0,-34700.0,-33750.0,-32850.0,-31950.0,-31050.0,-30150.0,-29200.0,-28300.0,-27400.0,-26500.0,-25600.0,-24650.0,-23750.0,-22850.0,-21950.0,-21000.0,-20100.0,-19200.0,-18300.0,-17400.0,-16450.0,-15550.0,-14650.0,-13750.0,-12850.0,-11900.0,-11000.0,-10100.0,-9200.0,-8250.0,-7350.0,-6450.0,-5550.0,-4650.0,-3700.0,-2800.0,-1900.0,-1000.0,-100.0,850.0,1750.0,2650.0,3550.0,3800.0,3800.0,3800.0,3800.0,3800.0,3800.0,3800.0,3800.0,3800.0,3800.0,3800.0,3800.0,3800.0,3800.0,3800.0,3800.0,3800.0,3800.0,3800.0,3800.0,3800.0,3800.0,3800.0,3800.0,3800.0,3800.0,3800.0,3800.0,3800.0,3800.0,3800.0,3800.0,3800.0,3800.0,3800.0,3800.0,3800.0,3800.0,3800.0,3800.0,3800.0,3800.0,3800.0,3800.0,3800.0,3800.0,3800.0,3800.0,3800.0,3800.0,3800.0,3800.0,3800.0,3800.0,3800.0,3800.0,3800.0,3800.0,3800.0,3800.0,3800.0,3800.0,3800.0,3800.0,3800.0,3800.0,3800.0,3800.0,3800.0,3800.0,3800.0,3800.0,3800.0,3800.0,3800.0,3800.0,3800.0,3800.0,3800.0,3800.0,3800.0,3800.0,3800.0,3800.0,3800.0,3800.0,3800.0,3800.0,3800.0,3800.0,3800.0,3800.0,3800.0,3800.0,3800.0,3800.0,3800.0,3800.0,3800.0,3800.0,3800.0],\"type\":\"scatter\"}],                        {\"template\":{\"data\":{\"histogram2dcontour\":[{\"type\":\"histogram2dcontour\",\"colorbar\":{\"outlinewidth\":0,\"ticks\":\"\"},\"colorscale\":[[0.0,\"#0d0887\"],[0.1111111111111111,\"#46039f\"],[0.2222222222222222,\"#7201a8\"],[0.3333333333333333,\"#9c179e\"],[0.4444444444444444,\"#bd3786\"],[0.5555555555555556,\"#d8576b\"],[0.6666666666666666,\"#ed7953\"],[0.7777777777777778,\"#fb9f3a\"],[0.8888888888888888,\"#fdca26\"],[1.0,\"#f0f921\"]]}],\"choropleth\":[{\"type\":\"choropleth\",\"colorbar\":{\"outlinewidth\":0,\"ticks\":\"\"}}],\"histogram2d\":[{\"type\":\"histogram2d\",\"colorbar\":{\"outlinewidth\":0,\"ticks\":\"\"},\"colorscale\":[[0.0,\"#0d0887\"],[0.1111111111111111,\"#46039f\"],[0.2222222222222222,\"#7201a8\"],[0.3333333333333333,\"#9c179e\"],[0.4444444444444444,\"#bd3786\"],[0.5555555555555556,\"#d8576b\"],[0.6666666666666666,\"#ed7953\"],[0.7777777777777778,\"#fb9f3a\"],[0.8888888888888888,\"#fdca26\"],[1.0,\"#f0f921\"]]}],\"heatmap\":[{\"type\":\"heatmap\",\"colorbar\":{\"outlinewidth\":0,\"ticks\":\"\"},\"colorscale\":[[0.0,\"#0d0887\"],[0.1111111111111111,\"#46039f\"],[0.2222222222222222,\"#7201a8\"],[0.3333333333333333,\"#9c179e\"],[0.4444444444444444,\"#bd3786\"],[0.5555555555555556,\"#d8576b\"],[0.6666666666666666,\"#ed7953\"],[0.7777777777777778,\"#fb9f3a\"],[0.8888888888888888,\"#fdca26\"],[1.0,\"#f0f921\"]]}],\"heatmapgl\":[{\"type\":\"heatmapgl\",\"colorbar\":{\"outlinewidth\":0,\"ticks\":\"\"},\"colorscale\":[[0.0,\"#0d0887\"],[0.1111111111111111,\"#46039f\"],[0.2222222222222222,\"#7201a8\"],[0.3333333333333333,\"#9c179e\"],[0.4444444444444444,\"#bd3786\"],[0.5555555555555556,\"#d8576b\"],[0.6666666666666666,\"#ed7953\"],[0.7777777777777778,\"#fb9f3a\"],[0.8888888888888888,\"#fdca26\"],[1.0,\"#f0f921\"]]}],\"contourcarpet\":[{\"type\":\"contourcarpet\",\"colorbar\":{\"outlinewidth\":0,\"ticks\":\"\"}}],\"contour\":[{\"type\":\"contour\",\"colorbar\":{\"outlinewidth\":0,\"ticks\":\"\"},\"colorscale\":[[0.0,\"#0d0887\"],[0.1111111111111111,\"#46039f\"],[0.2222222222222222,\"#7201a8\"],[0.3333333333333333,\"#9c179e\"],[0.4444444444444444,\"#bd3786\"],[0.5555555555555556,\"#d8576b\"],[0.6666666666666666,\"#ed7953\"],[0.7777777777777778,\"#fb9f3a\"],[0.8888888888888888,\"#fdca26\"],[1.0,\"#f0f921\"]]}],\"surface\":[{\"type\":\"surface\",\"colorbar\":{\"outlinewidth\":0,\"ticks\":\"\"},\"colorscale\":[[0.0,\"#0d0887\"],[0.1111111111111111,\"#46039f\"],[0.2222222222222222,\"#7201a8\"],[0.3333333333333333,\"#9c179e\"],[0.4444444444444444,\"#bd3786\"],[0.5555555555555556,\"#d8576b\"],[0.6666666666666666,\"#ed7953\"],[0.7777777777777778,\"#fb9f3a\"],[0.8888888888888888,\"#fdca26\"],[1.0,\"#f0f921\"]]}],\"mesh3d\":[{\"type\":\"mesh3d\",\"colorbar\":{\"outlinewidth\":0,\"ticks\":\"\"}}],\"scatter\":[{\"marker\":{\"line\":{\"color\":\"#283442\"}},\"type\":\"scatter\"}],\"parcoords\":[{\"type\":\"parcoords\",\"line\":{\"colorbar\":{\"outlinewidth\":0,\"ticks\":\"\"}}}],\"scatterpolargl\":[{\"type\":\"scatterpolargl\",\"marker\":{\"colorbar\":{\"outlinewidth\":0,\"ticks\":\"\"}}}],\"bar\":[{\"error_x\":{\"color\":\"#f2f5fa\"},\"error_y\":{\"color\":\"#f2f5fa\"},\"marker\":{\"line\":{\"color\":\"rgb(17,17,17)\",\"width\":0.5},\"pattern\":{\"fillmode\":\"overlay\",\"size\":10,\"solidity\":0.2}},\"type\":\"bar\"}],\"scattergeo\":[{\"type\":\"scattergeo\",\"marker\":{\"colorbar\":{\"outlinewidth\":0,\"ticks\":\"\"}}}],\"scatterpolar\":[{\"type\":\"scatterpolar\",\"marker\":{\"colorbar\":{\"outlinewidth\":0,\"ticks\":\"\"}}}],\"histogram\":[{\"marker\":{\"pattern\":{\"fillmode\":\"overlay\",\"size\":10,\"solidity\":0.2}},\"type\":\"histogram\"}],\"scattergl\":[{\"marker\":{\"line\":{\"color\":\"#283442\"}},\"type\":\"scattergl\"}],\"scatter3d\":[{\"type\":\"scatter3d\",\"line\":{\"colorbar\":{\"outlinewidth\":0,\"ticks\":\"\"}},\"marker\":{\"colorbar\":{\"outlinewidth\":0,\"ticks\":\"\"}}}],\"scattermapbox\":[{\"type\":\"scattermapbox\",\"marker\":{\"colorbar\":{\"outlinewidth\":0,\"ticks\":\"\"}}}],\"scatterternary\":[{\"type\":\"scatterternary\",\"marker\":{\"colorbar\":{\"outlinewidth\":0,\"ticks\":\"\"}}}],\"scattercarpet\":[{\"type\":\"scattercarpet\",\"marker\":{\"colorbar\":{\"outlinewidth\":0,\"ticks\":\"\"}}}],\"carpet\":[{\"aaxis\":{\"endlinecolor\":\"#A2B1C6\",\"gridcolor\":\"#506784\",\"linecolor\":\"#506784\",\"minorgridcolor\":\"#506784\",\"startlinecolor\":\"#A2B1C6\"},\"baxis\":{\"endlinecolor\":\"#A2B1C6\",\"gridcolor\":\"#506784\",\"linecolor\":\"#506784\",\"minorgridcolor\":\"#506784\",\"startlinecolor\":\"#A2B1C6\"},\"type\":\"carpet\"}],\"table\":[{\"cells\":{\"fill\":{\"color\":\"#506784\"},\"line\":{\"color\":\"rgb(17,17,17)\"}},\"header\":{\"fill\":{\"color\":\"#2a3f5f\"},\"line\":{\"color\":\"rgb(17,17,17)\"}},\"type\":\"table\"}],\"barpolar\":[{\"marker\":{\"line\":{\"color\":\"rgb(17,17,17)\",\"width\":0.5},\"pattern\":{\"fillmode\":\"overlay\",\"size\":10,\"solidity\":0.2}},\"type\":\"barpolar\"}],\"pie\":[{\"automargin\":true,\"type\":\"pie\"}]},\"layout\":{\"autotypenumbers\":\"strict\",\"colorway\":[\"#636efa\",\"#EF553B\",\"#00cc96\",\"#ab63fa\",\"#FFA15A\",\"#19d3f3\",\"#FF6692\",\"#B6E880\",\"#FF97FF\",\"#FECB52\"],\"font\":{\"color\":\"#f2f5fa\"},\"hovermode\":\"closest\",\"hoverlabel\":{\"align\":\"left\"},\"paper_bgcolor\":\"rgb(17,17,17)\",\"plot_bgcolor\":\"rgb(17,17,17)\",\"polar\":{\"bgcolor\":\"rgb(17,17,17)\",\"angularaxis\":{\"gridcolor\":\"#506784\",\"linecolor\":\"#506784\",\"ticks\":\"\"},\"radialaxis\":{\"gridcolor\":\"#506784\",\"linecolor\":\"#506784\",\"ticks\":\"\"}},\"ternary\":{\"bgcolor\":\"rgb(17,17,17)\",\"aaxis\":{\"gridcolor\":\"#506784\",\"linecolor\":\"#506784\",\"ticks\":\"\"},\"baxis\":{\"gridcolor\":\"#506784\",\"linecolor\":\"#506784\",\"ticks\":\"\"},\"caxis\":{\"gridcolor\":\"#506784\",\"linecolor\":\"#506784\",\"ticks\":\"\"}},\"coloraxis\":{\"colorbar\":{\"outlinewidth\":0,\"ticks\":\"\"}},\"colorscale\":{\"sequential\":[[0.0,\"#0d0887\"],[0.1111111111111111,\"#46039f\"],[0.2222222222222222,\"#7201a8\"],[0.3333333333333333,\"#9c179e\"],[0.4444444444444444,\"#bd3786\"],[0.5555555555555556,\"#d8576b\"],[0.6666666666666666,\"#ed7953\"],[0.7777777777777778,\"#fb9f3a\"],[0.8888888888888888,\"#fdca26\"],[1.0,\"#f0f921\"]],\"sequentialminus\":[[0.0,\"#0d0887\"],[0.1111111111111111,\"#46039f\"],[0.2222222222222222,\"#7201a8\"],[0.3333333333333333,\"#9c179e\"],[0.4444444444444444,\"#bd3786\"],[0.5555555555555556,\"#d8576b\"],[0.6666666666666666,\"#ed7953\"],[0.7777777777777778,\"#fb9f3a\"],[0.8888888888888888,\"#fdca26\"],[1.0,\"#f0f921\"]],\"diverging\":[[0,\"#8e0152\"],[0.1,\"#c51b7d\"],[0.2,\"#de77ae\"],[0.3,\"#f1b6da\"],[0.4,\"#fde0ef\"],[0.5,\"#f7f7f7\"],[0.6,\"#e6f5d0\"],[0.7,\"#b8e186\"],[0.8,\"#7fbc41\"],[0.9,\"#4d9221\"],[1,\"#276419\"]]},\"xaxis\":{\"gridcolor\":\"#283442\",\"linecolor\":\"#506784\",\"ticks\":\"\",\"title\":{\"standoff\":15},\"zerolinecolor\":\"#283442\",\"automargin\":true,\"zerolinewidth\":2},\"yaxis\":{\"gridcolor\":\"#283442\",\"linecolor\":\"#506784\",\"ticks\":\"\",\"title\":{\"standoff\":15},\"zerolinecolor\":\"#283442\",\"automargin\":true,\"zerolinewidth\":2},\"scene\":{\"xaxis\":{\"backgroundcolor\":\"rgb(17,17,17)\",\"gridcolor\":\"#506784\",\"linecolor\":\"#506784\",\"showbackground\":true,\"ticks\":\"\",\"zerolinecolor\":\"#C8D4E3\",\"gridwidth\":2},\"yaxis\":{\"backgroundcolor\":\"rgb(17,17,17)\",\"gridcolor\":\"#506784\",\"linecolor\":\"#506784\",\"showbackground\":true,\"ticks\":\"\",\"zerolinecolor\":\"#C8D4E3\",\"gridwidth\":2},\"zaxis\":{\"backgroundcolor\":\"rgb(17,17,17)\",\"gridcolor\":\"#506784\",\"linecolor\":\"#506784\",\"showbackground\":true,\"ticks\":\"\",\"zerolinecolor\":\"#C8D4E3\",\"gridwidth\":2}},\"shapedefaults\":{\"line\":{\"color\":\"#f2f5fa\"}},\"annotationdefaults\":{\"arrowcolor\":\"#f2f5fa\",\"arrowhead\":0,\"arrowwidth\":1},\"geo\":{\"bgcolor\":\"rgb(17,17,17)\",\"landcolor\":\"rgb(17,17,17)\",\"subunitcolor\":\"#506784\",\"showland\":true,\"showlakes\":true,\"lakecolor\":\"rgb(17,17,17)\"},\"title\":{\"x\":0.05},\"updatemenudefaults\":{\"bgcolor\":\"#506784\",\"borderwidth\":0},\"sliderdefaults\":{\"bgcolor\":\"#C8D4E3\",\"borderwidth\":1,\"bordercolor\":\"rgb(17,17,17)\",\"tickwidth\":0},\"mapbox\":{\"style\":\"dark\"}}},\"shapes\":[{\"line\":{\"color\":\"white\",\"dash\":\"dash\"},\"name\":\"Break Even\",\"type\":\"line\",\"x0\":0,\"x1\":1,\"xref\":\"x domain\",\"y0\":0,\"y1\":0,\"yref\":\"y\"},{\"line\":{\"color\":\"white\",\"dash\":\"dash\"},\"name\":\"Strike Price\",\"type\":\"line\",\"x0\":18123,\"x1\":18123,\"xref\":\"x\",\"y0\":0,\"y1\":1,\"yref\":\"y domain\"}],\"font\":{\"family\":\"Courier New, monospace\",\"size\":18,\"color\":\"RebeccaPurple\"},\"title\":{\"text\":\"Payoff Chart\"},\"xaxis\":{\"title\":{\"text\":\"Stock Price\"}},\"yaxis\":{\"title\":{\"text\":\"Price\"}}},                        {\"responsive\": true}                    ).then(function(){\n",
       "                            \n",
       "var gd = document.getElementById('4acded35-ab84-4eb1-86cc-e95ec82c964e');\n",
       "var x = new MutationObserver(function (mutations, observer) {{\n",
       "        var display = window.getComputedStyle(gd).display;\n",
       "        if (!display || display === 'none') {{\n",
       "            console.log([gd, 'removed!']);\n",
       "            Plotly.purge(gd);\n",
       "            observer.disconnect();\n",
       "        }}\n",
       "}});\n",
       "\n",
       "// Listen for the removal of the full notebook cells\n",
       "var notebookContainer = gd.closest('#notebook-container');\n",
       "if (notebookContainer) {{\n",
       "    x.observe(notebookContainer, {childList: true});\n",
       "}}\n",
       "\n",
       "// Listen for the clearing of the current output cell\n",
       "var outputEl = gd.closest('.output');\n",
       "if (outputEl) {{\n",
       "    x.observe(outputEl, {childList: true});\n",
       "}}\n",
       "\n",
       "                        })                };                });            </script>        </div>"
      ]
     },
     "metadata": {},
     "output_type": "display_data"
    }
   ],
   "source": [
    "fig = pc.payoff_chart(date = \"24-02-2023\")"
   ]
  },
  {
   "cell_type": "code",
   "execution_count": 21,
   "metadata": {},
   "outputs": [],
   "source": [
    "prices = []\n",
    "\n",
    "spot_prices = np.linspace(\n",
    "            spot_price - 0.1 * spot_price,\n",
    "            spot_price + 0.1 * spot_price,\n",
    "            200,\n",
    "        )\n",
    "\n",
    "for sp in spot_prices:\n",
    "    prices.append(pc.positions[0].option.calculate_price(spot_price = sp, date = \"24-02-2023\")*pc.positions[0]._type)"
   ]
  },
  {
   "cell_type": "code",
   "execution_count": 27,
   "metadata": {},
   "outputs": [],
   "source": [
    "prices_today = pc.positions[0].option.calculate_price(spot_price = spot_prices, date = \"23-01-2023\")*pc.positions[0]._type\n",
    "\n",
    "prices_expiry = pc.positions[0].option.calculate_price(spot_price = spot_prices, date = \"25-01-2023\")*pc.positions[0]._type"
   ]
  },
  {
   "cell_type": "code",
   "execution_count": 28,
   "metadata": {},
   "outputs": [
    {
     "data": {
      "text/html": [
       "<div>                            <div id=\"900e7b7d-9614-4704-8945-dbf8f1eb4e39\" class=\"plotly-graph-div\" style=\"height:525px; width:100%;\"></div>            <script type=\"text/javascript\">                require([\"plotly\"], function(Plotly) {                    window.PLOTLYENV=window.PLOTLYENV || {};                                    if (document.getElementById(\"900e7b7d-9614-4704-8945-dbf8f1eb4e39\")) {                    Plotly.newPlot(                        \"900e7b7d-9614-4704-8945-dbf8f1eb4e39\",                        [{\"hovertemplate\":\"x=%{x}<br>y=%{y}<extra></extra>\",\"legendgroup\":\"\",\"line\":{\"color\":\"#636efa\",\"dash\":\"solid\"},\"marker\":{\"symbol\":\"circle\"},\"mode\":\"lines\",\"name\":\"\",\"orientation\":\"v\",\"showlegend\":false,\"x\":[16306.2,16324.409045226132,16342.618090452263,16360.827135678393,16379.036180904523,16397.245226130653,16415.454271356786,16433.663316582915,16451.872361809044,16470.081407035177,16488.290452261306,16506.49949748744,16524.708542713568,16542.9175879397,16561.12663316583,16579.33567839196,16597.54472361809,16615.75376884422,16633.962814070353,16652.171859296483,16670.380904522615,16688.589949748744,16706.798994974873,16725.008040201006,16743.217085427135,16761.426130653268,16779.635175879397,16797.84422110553,16816.05326633166,16834.262311557788,16852.47135678392,16870.68040201005,16888.889447236183,16907.09849246231,16925.307537688444,16943.516582914574,16961.725628140703,16979.934673366835,16998.143718592964,17016.352763819097,17034.561809045226,17052.77085427136,17070.979899497488,17089.188944723617,17107.39798994975,17125.60703517588,17143.81608040201,17162.02512562814,17180.234170854274,17198.443216080403,17216.65226130653,17234.861306532664,17253.070351758794,17271.279396984926,17289.488442211055,17307.697487437184,17325.906532663317,17344.115577889446,17362.32462311558,17380.533668341708,17398.74271356784,17416.95175879397,17435.1608040201,17453.36984924623,17471.57889447236,17489.787939698494,17507.996984924623,17526.206030150755,17544.415075376884,17562.624120603014,17580.833165829146,17599.042211055275,17617.251256281408,17635.460301507537,17653.66934673367,17671.8783919598,17690.087437185928,17708.29648241206,17726.50552763819,17744.714572864323,17762.92361809045,17781.132663316585,17799.341708542714,17817.550753768843,17835.759798994975,17853.968844221105,17872.177889447237,17890.386934673366,17908.5959798995,17926.805025125628,17945.014070351757,17963.22311557789,17981.43216080402,17999.64120603015,18017.85025125628,18036.059296482414,18054.268341708543,18072.47738693467,18090.686432160805,18108.895477386934,18127.104522613066,18145.313567839195,18163.522613065325,18181.731658291457,18199.940703517586,18218.14974874372,18236.35879396985,18254.56783919598,18272.77688442211,18290.98592964824,18309.194974874372,18327.4040201005,18345.613065326634,18363.822110552763,18382.031155778895,18400.240201005025,18418.449246231154,18436.658291457286,18454.867336683415,18473.07638190955,18491.285427135677,18509.49447236181,18527.70351758794,18545.91256281407,18564.1216080402,18582.33065326633,18600.539698492463,18618.748743718592,18636.957788944725,18655.166834170854,18673.375879396983,18691.584924623116,18709.793969849245,18728.003015075377,18746.212060301506,18764.42110552764,18782.63015075377,18800.839195979897,18819.04824120603,18837.25728643216,18855.466331658292,18873.67537688442,18891.884422110554,18910.093467336683,18928.302512562812,18946.511557788945,18964.720603015074,18982.929648241206,19001.138693467336,19019.34773869347,19037.556783919597,19055.765829145726,19073.97487437186,19092.18391959799,19110.39296482412,19128.60201005025,19146.811055276383,19165.020100502512,19183.22914572864,19201.438190954774,19219.647236180903,19237.856281407036,19256.065326633165,19274.274371859297,19292.483417085426,19310.692462311556,19328.90150753769,19347.110552763817,19365.31959798995,19383.52864321608,19401.737688442212,19419.94673366834,19438.15577889447,19456.364824120603,19474.573869346732,19492.782914572865,19510.991959798994,19529.201005025127,19547.410050251256,19565.619095477385,19583.828140703517,19602.037185929647,19620.24623115578,19638.45527638191,19656.66432160804,19674.87336683417,19693.0824120603,19711.291457286432,19729.50050251256,19747.709547738694,19765.918592964823,19784.127638190956,19802.336683417085,19820.545728643214,19838.754773869347,19856.963819095476,19875.17286432161,19893.381909547737,19911.59095477387,19929.8],\"xaxis\":\"x\",\"y\":[3.6213480397834384e-09,5.713067570088614e-09,8.967997351248146e-09,1.4007387507206719e-08,2.1770225289937086e-08,3.366831334434338e-08,5.181327059146208e-08,7.934698334184989e-08,1.2092000676982157e-07,1.8338035317329532e-07,2.767597464984966e-07,4.156780655473972e-07,6.213323351551836e-07,9.242981342986816e-07,1.3684536574954309e-06,2.0164462464129524e-06,2.957266036196374e-06,4.316681506120069e-06,6.271539697802475e-06,9.069255067674451e-06,1.305422415471321e-05,1.870343114336332e-05,2.667417907498658e-05,3.786772492186952e-05,5.351365136550129e-05,7.528111702663834e-05,0.00010542473909578437,0.00014697483273087147,0.00020398412067344773,0.00028184589957992723,0.0003877020754111532,0.0005309635295126791,0.0007239700195324494,0.0009828223207763442,0.001328425631290986,0.0017877904416107038,0.002395645131873181,0.003196423501931278,0.004246700227090061,0.005618157781989597,0.007401179555152071,0.009709175492043975,0.012683758390625854,0.01650090058732978,0.021378211786902135,0.027583488691247382,0.035444695267957016,0.045361538278212876,0.05781880529228367,0.07340163102555053,0.09281285155711316,0.11689259395059182,0.1466402301034151,0.18323879748115957,0.22808195501449546,0.2828034992684252,0.3493094136496211,0.42981236177274695,0.5268684653282918,0.6434161274298305,0.7828165753763869,0.9488957034310204,1.145986698372468,1.3789728305077347,1.6533296932045687,1.9751660779328404,2.3512625826757585,2.7891069731100515,3.2969252518774965,3.883707345549169,4.559226295022427,5.334049836701524,6.219543291672721,7.227862740668115,8.371937555390787,9.665441482501365,11.122751634763972,12.758894933156625,14.589481761389152,16.630626836577903,18.89885756174135,21.411010401422118,24.184116104236182,27.23527487798492,30.581522896115075,34.23969177046638,38.22626285650813,42.557218455551265,47.24789213688837,52.312820515167004,57.76559887970143,63.618743079337946,69.88356001692227,76.57002900146563,83.68669604493334,91.24058297790361,99.23711299884599,107.68005397213892,116.57148045771282,117.0162777124824,108.59500701613979,100.6181975307536,93.08115968588027,85.97761070767774,79.29974931549987,73.03834596184242,67.18284689587563,61.721490119980444,56.64143114709259,51.92887635713487,47.56922169421523,43.54719444172224,39.84699585796443,36.452442547004466,33.34710457280562,30.514438494674323,27.9379137010219,25.601130640679912,23.487929788525435,21.58249042877833,19.8694185872082,18.333823687713448,16.96138374176735,15.738399098216178,14.651834979838895,13.689353209931141,12.839333684343728,12.090886270336341,11.433853912953055,10.858807802767842,10.357035506476677,9.920522985696152,9.541931431616831,9.214569825926446,8.932364104592125,8.689823753695237,8.482006607493531,8.304482552310219,8.153296767199208,8.024933056618465,7.916277753887698,7.82458459841655,7.747440916751657,7.682735368205613,7.628627451842476,7.5835189129611535,7.54602713496206,7.514960556636652,7.489296115381876,7.468158683910588,7.450802440795087,7.436594093855092,7.424997859277937,7.415562087586295,7.407907420365518,7.401716357555415,7.396724114412791,7.392710648626235,7.38949374184449,7.386923024736461,7.384874841129204,7.38324785363875,7.381959300684684,7.380941822491877,7.380140781333466,7.379512008767051,7.3790199198701885,7.378635941277025,7.378337206217111,7.378105475592747,7.377926249555458,7.377788038902509,7.3776817697507795,7.377600299223559,7.377538022748922,7.37749055702443,7.377454484922055,7.377427151088341,7.3774064987228485,7.377390939698671,7.377379251702223,7.377370496902586,7.377363958021306,7.377359088193771,7.377355471762712,7.3773527937919425,7.37735081639039,7.377349360442167,7.377348291476665,7.377347508849198,7.377346937482798,7.377346521523577,7.3773462195495085,7.377346000939724,7.377345843124203,7.377345729517401,7.377345647957554,7.3773455895716324,7.377345547887671,7.37734551820904],\"yaxis\":\"y\",\"type\":\"scatter\"}],                        {\"template\":{\"data\":{\"histogram2dcontour\":[{\"type\":\"histogram2dcontour\",\"colorbar\":{\"outlinewidth\":0,\"ticks\":\"\"},\"colorscale\":[[0.0,\"#0d0887\"],[0.1111111111111111,\"#46039f\"],[0.2222222222222222,\"#7201a8\"],[0.3333333333333333,\"#9c179e\"],[0.4444444444444444,\"#bd3786\"],[0.5555555555555556,\"#d8576b\"],[0.6666666666666666,\"#ed7953\"],[0.7777777777777778,\"#fb9f3a\"],[0.8888888888888888,\"#fdca26\"],[1.0,\"#f0f921\"]]}],\"choropleth\":[{\"type\":\"choropleth\",\"colorbar\":{\"outlinewidth\":0,\"ticks\":\"\"}}],\"histogram2d\":[{\"type\":\"histogram2d\",\"colorbar\":{\"outlinewidth\":0,\"ticks\":\"\"},\"colorscale\":[[0.0,\"#0d0887\"],[0.1111111111111111,\"#46039f\"],[0.2222222222222222,\"#7201a8\"],[0.3333333333333333,\"#9c179e\"],[0.4444444444444444,\"#bd3786\"],[0.5555555555555556,\"#d8576b\"],[0.6666666666666666,\"#ed7953\"],[0.7777777777777778,\"#fb9f3a\"],[0.8888888888888888,\"#fdca26\"],[1.0,\"#f0f921\"]]}],\"heatmap\":[{\"type\":\"heatmap\",\"colorbar\":{\"outlinewidth\":0,\"ticks\":\"\"},\"colorscale\":[[0.0,\"#0d0887\"],[0.1111111111111111,\"#46039f\"],[0.2222222222222222,\"#7201a8\"],[0.3333333333333333,\"#9c179e\"],[0.4444444444444444,\"#bd3786\"],[0.5555555555555556,\"#d8576b\"],[0.6666666666666666,\"#ed7953\"],[0.7777777777777778,\"#fb9f3a\"],[0.8888888888888888,\"#fdca26\"],[1.0,\"#f0f921\"]]}],\"heatmapgl\":[{\"type\":\"heatmapgl\",\"colorbar\":{\"outlinewidth\":0,\"ticks\":\"\"},\"colorscale\":[[0.0,\"#0d0887\"],[0.1111111111111111,\"#46039f\"],[0.2222222222222222,\"#7201a8\"],[0.3333333333333333,\"#9c179e\"],[0.4444444444444444,\"#bd3786\"],[0.5555555555555556,\"#d8576b\"],[0.6666666666666666,\"#ed7953\"],[0.7777777777777778,\"#fb9f3a\"],[0.8888888888888888,\"#fdca26\"],[1.0,\"#f0f921\"]]}],\"contourcarpet\":[{\"type\":\"contourcarpet\",\"colorbar\":{\"outlinewidth\":0,\"ticks\":\"\"}}],\"contour\":[{\"type\":\"contour\",\"colorbar\":{\"outlinewidth\":0,\"ticks\":\"\"},\"colorscale\":[[0.0,\"#0d0887\"],[0.1111111111111111,\"#46039f\"],[0.2222222222222222,\"#7201a8\"],[0.3333333333333333,\"#9c179e\"],[0.4444444444444444,\"#bd3786\"],[0.5555555555555556,\"#d8576b\"],[0.6666666666666666,\"#ed7953\"],[0.7777777777777778,\"#fb9f3a\"],[0.8888888888888888,\"#fdca26\"],[1.0,\"#f0f921\"]]}],\"surface\":[{\"type\":\"surface\",\"colorbar\":{\"outlinewidth\":0,\"ticks\":\"\"},\"colorscale\":[[0.0,\"#0d0887\"],[0.1111111111111111,\"#46039f\"],[0.2222222222222222,\"#7201a8\"],[0.3333333333333333,\"#9c179e\"],[0.4444444444444444,\"#bd3786\"],[0.5555555555555556,\"#d8576b\"],[0.6666666666666666,\"#ed7953\"],[0.7777777777777778,\"#fb9f3a\"],[0.8888888888888888,\"#fdca26\"],[1.0,\"#f0f921\"]]}],\"mesh3d\":[{\"type\":\"mesh3d\",\"colorbar\":{\"outlinewidth\":0,\"ticks\":\"\"}}],\"scatter\":[{\"marker\":{\"line\":{\"color\":\"#283442\"}},\"type\":\"scatter\"}],\"parcoords\":[{\"type\":\"parcoords\",\"line\":{\"colorbar\":{\"outlinewidth\":0,\"ticks\":\"\"}}}],\"scatterpolargl\":[{\"type\":\"scatterpolargl\",\"marker\":{\"colorbar\":{\"outlinewidth\":0,\"ticks\":\"\"}}}],\"bar\":[{\"error_x\":{\"color\":\"#f2f5fa\"},\"error_y\":{\"color\":\"#f2f5fa\"},\"marker\":{\"line\":{\"color\":\"rgb(17,17,17)\",\"width\":0.5},\"pattern\":{\"fillmode\":\"overlay\",\"size\":10,\"solidity\":0.2}},\"type\":\"bar\"}],\"scattergeo\":[{\"type\":\"scattergeo\",\"marker\":{\"colorbar\":{\"outlinewidth\":0,\"ticks\":\"\"}}}],\"scatterpolar\":[{\"type\":\"scatterpolar\",\"marker\":{\"colorbar\":{\"outlinewidth\":0,\"ticks\":\"\"}}}],\"histogram\":[{\"marker\":{\"pattern\":{\"fillmode\":\"overlay\",\"size\":10,\"solidity\":0.2}},\"type\":\"histogram\"}],\"scattergl\":[{\"marker\":{\"line\":{\"color\":\"#283442\"}},\"type\":\"scattergl\"}],\"scatter3d\":[{\"type\":\"scatter3d\",\"line\":{\"colorbar\":{\"outlinewidth\":0,\"ticks\":\"\"}},\"marker\":{\"colorbar\":{\"outlinewidth\":0,\"ticks\":\"\"}}}],\"scattermapbox\":[{\"type\":\"scattermapbox\",\"marker\":{\"colorbar\":{\"outlinewidth\":0,\"ticks\":\"\"}}}],\"scatterternary\":[{\"type\":\"scatterternary\",\"marker\":{\"colorbar\":{\"outlinewidth\":0,\"ticks\":\"\"}}}],\"scattercarpet\":[{\"type\":\"scattercarpet\",\"marker\":{\"colorbar\":{\"outlinewidth\":0,\"ticks\":\"\"}}}],\"carpet\":[{\"aaxis\":{\"endlinecolor\":\"#A2B1C6\",\"gridcolor\":\"#506784\",\"linecolor\":\"#506784\",\"minorgridcolor\":\"#506784\",\"startlinecolor\":\"#A2B1C6\"},\"baxis\":{\"endlinecolor\":\"#A2B1C6\",\"gridcolor\":\"#506784\",\"linecolor\":\"#506784\",\"minorgridcolor\":\"#506784\",\"startlinecolor\":\"#A2B1C6\"},\"type\":\"carpet\"}],\"table\":[{\"cells\":{\"fill\":{\"color\":\"#506784\"},\"line\":{\"color\":\"rgb(17,17,17)\"}},\"header\":{\"fill\":{\"color\":\"#2a3f5f\"},\"line\":{\"color\":\"rgb(17,17,17)\"}},\"type\":\"table\"}],\"barpolar\":[{\"marker\":{\"line\":{\"color\":\"rgb(17,17,17)\",\"width\":0.5},\"pattern\":{\"fillmode\":\"overlay\",\"size\":10,\"solidity\":0.2}},\"type\":\"barpolar\"}],\"pie\":[{\"automargin\":true,\"type\":\"pie\"}]},\"layout\":{\"autotypenumbers\":\"strict\",\"colorway\":[\"#636efa\",\"#EF553B\",\"#00cc96\",\"#ab63fa\",\"#FFA15A\",\"#19d3f3\",\"#FF6692\",\"#B6E880\",\"#FF97FF\",\"#FECB52\"],\"font\":{\"color\":\"#f2f5fa\"},\"hovermode\":\"closest\",\"hoverlabel\":{\"align\":\"left\"},\"paper_bgcolor\":\"rgb(17,17,17)\",\"plot_bgcolor\":\"rgb(17,17,17)\",\"polar\":{\"bgcolor\":\"rgb(17,17,17)\",\"angularaxis\":{\"gridcolor\":\"#506784\",\"linecolor\":\"#506784\",\"ticks\":\"\"},\"radialaxis\":{\"gridcolor\":\"#506784\",\"linecolor\":\"#506784\",\"ticks\":\"\"}},\"ternary\":{\"bgcolor\":\"rgb(17,17,17)\",\"aaxis\":{\"gridcolor\":\"#506784\",\"linecolor\":\"#506784\",\"ticks\":\"\"},\"baxis\":{\"gridcolor\":\"#506784\",\"linecolor\":\"#506784\",\"ticks\":\"\"},\"caxis\":{\"gridcolor\":\"#506784\",\"linecolor\":\"#506784\",\"ticks\":\"\"}},\"coloraxis\":{\"colorbar\":{\"outlinewidth\":0,\"ticks\":\"\"}},\"colorscale\":{\"sequential\":[[0.0,\"#0d0887\"],[0.1111111111111111,\"#46039f\"],[0.2222222222222222,\"#7201a8\"],[0.3333333333333333,\"#9c179e\"],[0.4444444444444444,\"#bd3786\"],[0.5555555555555556,\"#d8576b\"],[0.6666666666666666,\"#ed7953\"],[0.7777777777777778,\"#fb9f3a\"],[0.8888888888888888,\"#fdca26\"],[1.0,\"#f0f921\"]],\"sequentialminus\":[[0.0,\"#0d0887\"],[0.1111111111111111,\"#46039f\"],[0.2222222222222222,\"#7201a8\"],[0.3333333333333333,\"#9c179e\"],[0.4444444444444444,\"#bd3786\"],[0.5555555555555556,\"#d8576b\"],[0.6666666666666666,\"#ed7953\"],[0.7777777777777778,\"#fb9f3a\"],[0.8888888888888888,\"#fdca26\"],[1.0,\"#f0f921\"]],\"diverging\":[[0,\"#8e0152\"],[0.1,\"#c51b7d\"],[0.2,\"#de77ae\"],[0.3,\"#f1b6da\"],[0.4,\"#fde0ef\"],[0.5,\"#f7f7f7\"],[0.6,\"#e6f5d0\"],[0.7,\"#b8e186\"],[0.8,\"#7fbc41\"],[0.9,\"#4d9221\"],[1,\"#276419\"]]},\"xaxis\":{\"gridcolor\":\"#283442\",\"linecolor\":\"#506784\",\"ticks\":\"\",\"title\":{\"standoff\":15},\"zerolinecolor\":\"#283442\",\"automargin\":true,\"zerolinewidth\":2},\"yaxis\":{\"gridcolor\":\"#283442\",\"linecolor\":\"#506784\",\"ticks\":\"\",\"title\":{\"standoff\":15},\"zerolinecolor\":\"#283442\",\"automargin\":true,\"zerolinewidth\":2},\"scene\":{\"xaxis\":{\"backgroundcolor\":\"rgb(17,17,17)\",\"gridcolor\":\"#506784\",\"linecolor\":\"#506784\",\"showbackground\":true,\"ticks\":\"\",\"zerolinecolor\":\"#C8D4E3\",\"gridwidth\":2},\"yaxis\":{\"backgroundcolor\":\"rgb(17,17,17)\",\"gridcolor\":\"#506784\",\"linecolor\":\"#506784\",\"showbackground\":true,\"ticks\":\"\",\"zerolinecolor\":\"#C8D4E3\",\"gridwidth\":2},\"zaxis\":{\"backgroundcolor\":\"rgb(17,17,17)\",\"gridcolor\":\"#506784\",\"linecolor\":\"#506784\",\"showbackground\":true,\"ticks\":\"\",\"zerolinecolor\":\"#C8D4E3\",\"gridwidth\":2}},\"shapedefaults\":{\"line\":{\"color\":\"#f2f5fa\"}},\"annotationdefaults\":{\"arrowcolor\":\"#f2f5fa\",\"arrowhead\":0,\"arrowwidth\":1},\"geo\":{\"bgcolor\":\"rgb(17,17,17)\",\"landcolor\":\"rgb(17,17,17)\",\"subunitcolor\":\"#506784\",\"showland\":true,\"showlakes\":true,\"lakecolor\":\"rgb(17,17,17)\"},\"title\":{\"x\":0.05},\"updatemenudefaults\":{\"bgcolor\":\"#506784\",\"borderwidth\":0},\"sliderdefaults\":{\"bgcolor\":\"#C8D4E3\",\"borderwidth\":1,\"bordercolor\":\"rgb(17,17,17)\",\"tickwidth\":0},\"mapbox\":{\"style\":\"dark\"}}},\"xaxis\":{\"anchor\":\"y\",\"domain\":[0.0,1.0],\"title\":{\"text\":\"x\"}},\"yaxis\":{\"anchor\":\"x\",\"domain\":[0.0,1.0],\"title\":{\"text\":\"y\"}},\"legend\":{\"tracegroupgap\":0},\"title\":{\"text\":\"Payoff Chart\"}},                        {\"responsive\": true}                    ).then(function(){\n",
       "                            \n",
       "var gd = document.getElementById('900e7b7d-9614-4704-8945-dbf8f1eb4e39');\n",
       "var x = new MutationObserver(function (mutations, observer) {{\n",
       "        var display = window.getComputedStyle(gd).display;\n",
       "        if (!display || display === 'none') {{\n",
       "            console.log([gd, 'removed!']);\n",
       "            Plotly.purge(gd);\n",
       "            observer.disconnect();\n",
       "        }}\n",
       "}});\n",
       "\n",
       "// Listen for the removal of the full notebook cells\n",
       "var notebookContainer = gd.closest('#notebook-container');\n",
       "if (notebookContainer) {{\n",
       "    x.observe(notebookContainer, {childList: true});\n",
       "}}\n",
       "\n",
       "// Listen for the clearing of the current output cell\n",
       "var outputEl = gd.closest('.output');\n",
       "if (outputEl) {{\n",
       "    x.observe(outputEl, {childList: true});\n",
       "}}\n",
       "\n",
       "                        })                };                });            </script>        </div>"
      ]
     },
     "metadata": {},
     "output_type": "display_data"
    }
   ],
   "source": [
    "px.line(x = spot_prices, y = prices_expiry-prices_today, title = \"Payoff Chart\")"
   ]
  },
  {
   "cell_type": "code",
   "execution_count": 35,
   "metadata": {},
   "outputs": [
    {
     "data": {
      "text/html": [
       "        <script type=\"text/javascript\">\n",
       "        window.PlotlyConfig = {MathJaxConfig: 'local'};\n",
       "        if (window.MathJax && window.MathJax.Hub && window.MathJax.Hub.Config) {window.MathJax.Hub.Config({SVG: {font: \"STIX-Web\"}});}\n",
       "        if (typeof require !== 'undefined') {\n",
       "        require.undef(\"plotly\");\n",
       "        requirejs.config({\n",
       "            paths: {\n",
       "                'plotly': ['https://cdn.plot.ly/plotly-2.12.1.min']\n",
       "            }\n",
       "        });\n",
       "        require(['plotly'], function(Plotly) {\n",
       "            window._Plotly = Plotly;\n",
       "        });\n",
       "        }\n",
       "        </script>\n",
       "        "
      ]
     },
     "metadata": {},
     "output_type": "display_data"
    },
    {
     "data": {
      "text/html": [
       "<div>                            <div id=\"6ae8c903-7275-4e01-80bf-8add60a3e9ca\" class=\"plotly-graph-div\" style=\"height:525px; width:100%;\"></div>            <script type=\"text/javascript\">                require([\"plotly\"], function(Plotly) {                    window.PLOTLYENV=window.PLOTLYENV || {};                                    if (document.getElementById(\"6ae8c903-7275-4e01-80bf-8add60a3e9ca\")) {                    Plotly.newPlot(                        \"6ae8c903-7275-4e01-80bf-8add60a3e9ca\",                        [{\"name\":\"Payoff Today\",\"x\":[16306.2,16324.409045226132,16342.618090452263,16360.827135678393,16379.036180904523,16397.245226130653,16415.454271356786,16433.663316582915,16451.872361809044,16470.081407035177,16488.290452261306,16506.49949748744,16524.708542713568,16542.9175879397,16561.12663316583,16579.33567839196,16597.54472361809,16615.75376884422,16633.962814070353,16652.171859296483,16670.380904522615,16688.589949748744,16706.798994974873,16725.008040201006,16743.217085427135,16761.426130653268,16779.635175879397,16797.84422110553,16816.05326633166,16834.262311557788,16852.47135678392,16870.68040201005,16888.889447236183,16907.09849246231,16925.307537688444,16943.516582914574,16961.725628140703,16979.934673366835,16998.143718592964,17016.352763819097,17034.561809045226,17052.77085427136,17070.979899497488,17089.188944723617,17107.39798994975,17125.60703517588,17143.81608040201,17162.02512562814,17180.234170854274,17198.443216080403,17216.65226130653,17234.861306532664,17253.070351758794,17271.279396984926,17289.488442211055,17307.697487437184,17325.906532663317,17344.115577889446,17362.32462311558,17380.533668341708,17398.74271356784,17416.95175879397,17435.1608040201,17453.36984924623,17471.57889447236,17489.787939698494,17507.996984924623,17526.206030150755,17544.415075376884,17562.624120603014,17580.833165829146,17599.042211055275,17617.251256281408,17635.460301507537,17653.66934673367,17671.8783919598,17690.087437185928,17708.29648241206,17726.50552763819,17744.714572864323,17762.92361809045,17781.132663316585,17799.341708542714,17817.550753768843,17835.759798994975,17853.968844221105,17872.177889447237,17890.386934673366,17908.5959798995,17926.805025125628,17945.014070351757,17963.22311557789,17981.43216080402,17999.64120603015,18017.85025125628,18036.059296482414,18054.268341708543,18072.47738693467,18090.686432160805,18108.895477386934,18127.104522613066,18145.313567839195,18163.522613065325,18181.731658291457,18199.940703517586,18218.14974874372,18236.35879396985,18254.56783919598,18272.77688442211,18290.98592964824,18309.194974874372,18327.4040201005,18345.613065326634,18363.822110552763,18382.031155778895,18400.240201005025,18418.449246231154,18436.658291457286,18454.867336683415,18473.07638190955,18491.285427135677,18509.49447236181,18527.70351758794,18545.91256281407,18564.1216080402,18582.33065326633,18600.539698492463,18618.748743718592,18636.957788944725,18655.166834170854,18673.375879396983,18691.584924623116,18709.793969849245,18728.003015075377,18746.212060301506,18764.42110552764,18782.63015075377,18800.839195979897,18819.04824120603,18837.25728643216,18855.466331658292,18873.67537688442,18891.884422110554,18910.093467336683,18928.302512562812,18946.511557788945,18964.720603015074,18982.929648241206,19001.138693467336,19019.34773869347,19037.556783919597,19055.765829145726,19073.97487437186,19092.18391959799,19110.39296482412,19128.60201005025,19146.811055276383,19165.020100502512,19183.22914572864,19201.438190954774,19219.647236180903,19237.856281407036,19256.065326633165,19274.274371859297,19292.483417085426,19310.692462311556,19328.90150753769,19347.110552763817,19365.31959798995,19383.52864321608,19401.737688442212,19419.94673366834,19438.15577889447,19456.364824120603,19474.573869346732,19492.782914572865,19510.991959798994,19529.201005025127,19547.410050251256,19565.619095477385,19583.828140703517,19602.037185929647,19620.24623115578,19638.45527638191,19656.66432160804,19674.87336683417,19693.0824120603,19711.291457286432,19729.50050251256,19747.709547738694,19765.918592964823,19784.127638190956,19802.336683417085,19820.545728643214,19838.754773869347,19856.963819095476,19875.17286432161,19893.381909547737,19911.59095477387,19929.8],\"y\":[-3.6213480397834384e-09,-5.713067570088614e-09,-8.967997351248146e-09,-1.4007387507206719e-08,-2.1770225289937086e-08,-3.366831334434338e-08,-5.181327059146208e-08,-7.934698334184989e-08,-1.2092000676982157e-07,-1.8338035317329532e-07,-2.767597464984966e-07,-4.156780655473972e-07,-6.213323351551836e-07,-9.242981342986816e-07,-1.3684536574954309e-06,-2.0164462464129524e-06,-2.957266036196374e-06,-4.316681506120069e-06,-6.271539697802475e-06,-9.069255067674451e-06,-1.305422415471321e-05,-1.870343114336332e-05,-2.667417907498658e-05,-3.786772492186952e-05,-5.351365136550129e-05,-7.528111702663834e-05,-0.00010542473909578437,-0.00014697483273087147,-0.00020398412067344773,-0.00028184589957992723,-0.0003877020754111532,-0.0005309635295126791,-0.0007239700195324494,-0.0009828223207763442,-0.001328425631290986,-0.0017877904416107038,-0.002395645131873181,-0.003196423501931278,-0.004246700227090061,-0.005618157781989597,-0.007401179555152071,-0.009709175492043975,-0.012683758390625854,-0.01650090058732978,-0.021378211786902135,-0.027583488691247382,-0.035444695267957016,-0.045361538278212876,-0.05781880529228367,-0.07340163102555053,-0.09281285155711316,-0.11689259395059182,-0.1466402301034151,-0.18323879748115957,-0.22808195501449546,-0.2828034992684252,-0.3493094136496211,-0.42981236177274695,-0.5268684653282918,-0.6434161274298305,-0.7828165753763869,-0.9488957034310204,-1.145986698372468,-1.3789728305077347,-1.6533296932045687,-1.9751660779328404,-2.3512625826757585,-2.7891069731100515,-3.2969252518774965,-3.883707345549169,-4.559226295022427,-5.334049836701524,-6.219543291672721,-7.227862740668115,-8.371937555390787,-9.665441482501365,-11.122751634763972,-12.758894933156625,-14.589481761389152,-16.630626836577903,-18.89885756174135,-21.411010401422118,-24.184116104236182,-27.23527487798492,-30.581522896115075,-34.23969177046638,-38.22626285650813,-42.557218455551265,-47.24789213688837,-52.312820515167004,-57.76559887970143,-63.618743079337946,-69.88356001692227,-76.57002900146563,-83.68669604493334,-91.24058297790361,-99.23711299884599,-107.68005397213892,-116.57148045771282,-125.91175509941604,-135.69952962920615,-145.93176536994906,-156.60377275120481,-167.70926899913502,-179.24045283308624,-191.18809470556153,-203.54164086572382,-216.28932931596137,-229.4183155692026,-242.91480600537398,-256.76419656858707,-270.95121454222317,-285.4600611845981,-300.2745530997672,-315.3782603517011,-330.7546394996989,-346.38715993217556,-362.2594220979663,-378.3552664719409,-394.65887233832655,-411.1548457228855,-427.8282960495235,-444.6649013297065,-461.6509619122844,-478.77344302003985,-496.0200064762612,-513.3790321768065,-530.8396299889282,-548.3916428576777,-566.0256419736215,-583.7329149034595,-601.5054476088117,-619.3359012808614,-637.2175849013038,-655.1444244060986,-673.1109292813344,-691.1121573612618,-709.1436785322076,-727.2015379732293,-745.2822194887776,-763.3826094121796,-781.4999614828375,-799.6318630273054,-817.7762027048884,-835.9311400146544,-854.0950767019058,-872.2666301500358,-890.4446087978431,-908.6279895827174,-926.8158973773789,-945.0075863603925,-963.2024232395815,-981.3998722311371,-999.5994816855746,-1017.8008722444865,-1036.0037264078055,-1054.2077793907956,-1072.4128111511382,-1090.6186394704855,-1108.8251139795102,-1127.032111022032,-1145.2395292606743,-1163.4472859338493,-1181.6553136817893,-1199.86355786676,-1218.0719743203226,-1236.2805274575585,-1254.4891887050944,-1272.6979351961672,-1290.906748691672,-1309.1156146917674,-1327.3245217072435,-1345.533460664221,-1363.7424244198264,-1381.9514073694809,-1400.160405129889,-1418.3694142839158,-1436.5784321762148,-1454.7874567499784,-1472.9964864170834,-1491.2055199552196,-1509.414556426549,-1527.6235951138005,-1545.832635470102,-1564.0416770798038,-1582.250719627962,-1600.4597628766896,-1618.6688066468741,-1636.8778508040377,-1655.086895247543,-1673.2959399023057,-1691.5049847124792,-1709.7140296366342,-1727.9230746441535,-1746.1321197124707,-1764.341164824993,-1782.550209969566,-1800.759255137309,-1818.9683003217579,-1837.1773455182083],\"type\":\"scatter\"},{\"name\":\"Payoff Expiry\",\"x\":[16306.2,16324.409045226132,16342.618090452263,16360.827135678393,16379.036180904523,16397.245226130653,16415.454271356786,16433.663316582915,16451.872361809044,16470.081407035177,16488.290452261306,16506.49949748744,16524.708542713568,16542.9175879397,16561.12663316583,16579.33567839196,16597.54472361809,16615.75376884422,16633.962814070353,16652.171859296483,16670.380904522615,16688.589949748744,16706.798994974873,16725.008040201006,16743.217085427135,16761.426130653268,16779.635175879397,16797.84422110553,16816.05326633166,16834.262311557788,16852.47135678392,16870.68040201005,16888.889447236183,16907.09849246231,16925.307537688444,16943.516582914574,16961.725628140703,16979.934673366835,16998.143718592964,17016.352763819097,17034.561809045226,17052.77085427136,17070.979899497488,17089.188944723617,17107.39798994975,17125.60703517588,17143.81608040201,17162.02512562814,17180.234170854274,17198.443216080403,17216.65226130653,17234.861306532664,17253.070351758794,17271.279396984926,17289.488442211055,17307.697487437184,17325.906532663317,17344.115577889446,17362.32462311558,17380.533668341708,17398.74271356784,17416.95175879397,17435.1608040201,17453.36984924623,17471.57889447236,17489.787939698494,17507.996984924623,17526.206030150755,17544.415075376884,17562.624120603014,17580.833165829146,17599.042211055275,17617.251256281408,17635.460301507537,17653.66934673367,17671.8783919598,17690.087437185928,17708.29648241206,17726.50552763819,17744.714572864323,17762.92361809045,17781.132663316585,17799.341708542714,17817.550753768843,17835.759798994975,17853.968844221105,17872.177889447237,17890.386934673366,17908.5959798995,17926.805025125628,17945.014070351757,17963.22311557789,17981.43216080402,17999.64120603015,18017.85025125628,18036.059296482414,18054.268341708543,18072.47738693467,18090.686432160805,18108.895477386934,18127.104522613066,18145.313567839195,18163.522613065325,18181.731658291457,18199.940703517586,18218.14974874372,18236.35879396985,18254.56783919598,18272.77688442211,18290.98592964824,18309.194974874372,18327.4040201005,18345.613065326634,18363.822110552763,18382.031155778895,18400.240201005025,18418.449246231154,18436.658291457286,18454.867336683415,18473.07638190955,18491.285427135677,18509.49447236181,18527.70351758794,18545.91256281407,18564.1216080402,18582.33065326633,18600.539698492463,18618.748743718592,18636.957788944725,18655.166834170854,18673.375879396983,18691.584924623116,18709.793969849245,18728.003015075377,18746.212060301506,18764.42110552764,18782.63015075377,18800.839195979897,18819.04824120603,18837.25728643216,18855.466331658292,18873.67537688442,18891.884422110554,18910.093467336683,18928.302512562812,18946.511557788945,18964.720603015074,18982.929648241206,19001.138693467336,19019.34773869347,19037.556783919597,19055.765829145726,19073.97487437186,19092.18391959799,19110.39296482412,19128.60201005025,19146.811055276383,19165.020100502512,19183.22914572864,19201.438190954774,19219.647236180903,19237.856281407036,19256.065326633165,19274.274371859297,19292.483417085426,19310.692462311556,19328.90150753769,19347.110552763817,19365.31959798995,19383.52864321608,19401.737688442212,19419.94673366834,19438.15577889447,19456.364824120603,19474.573869346732,19492.782914572865,19510.991959798994,19529.201005025127,19547.410050251256,19565.619095477385,19583.828140703517,19602.037185929647,19620.24623115578,19638.45527638191,19656.66432160804,19674.87336683417,19693.0824120603,19711.291457286432,19729.50050251256,19747.709547738694,19765.918592964823,19784.127638190956,19802.336683417085,19820.545728643214,19838.754773869347,19856.963819095476,19875.17286432161,19893.381909547737,19911.59095477387,19929.8],\"y\":[-0.0,-0.0,-0.0,-0.0,-0.0,-0.0,-0.0,-0.0,-0.0,-0.0,-0.0,-0.0,-0.0,-0.0,-0.0,-0.0,-0.0,-0.0,-0.0,-0.0,-0.0,-0.0,-0.0,-0.0,-0.0,-0.0,-0.0,-0.0,-0.0,-0.0,-0.0,-0.0,-0.0,-0.0,-0.0,-0.0,-0.0,-0.0,-0.0,-0.0,-0.0,-0.0,-0.0,-0.0,-0.0,-0.0,-0.0,-0.0,-0.0,-0.0,-0.0,-0.0,-0.0,-0.0,-0.0,-0.0,-0.0,-0.0,-0.0,-0.0,-0.0,-0.0,-0.0,-0.0,-0.0,-0.0,-0.0,-0.0,-0.0,-0.0,-0.0,-0.0,-0.0,-0.0,-0.0,-0.0,-0.0,-0.0,-0.0,-0.0,-0.0,-0.0,-0.0,-0.0,-0.0,-0.0,-0.0,-0.0,-0.0,-0.0,-0.0,-0.0,-0.0,-0.0,-0.0,-0.0,-0.0,-0.0,-0.0,-8.895477386933635,-27.104522613066365,-45.31356783919546,-63.52261306532455,-81.73165829145728,-99.94070351758637,-118.1497487437191,-136.3587939698482,-154.56783919598092,-172.77688442211002,-190.9859296482391,-209.19497487437184,-227.40402010050093,-245.61306532663366,-263.82211055276275,-282.0311557788955,-300.2402010050246,-318.44924623115367,-336.6582914572864,-354.8673366834155,-373.0763819095482,-391.2854271356773,-409.49447236181004,-427.70351758793913,-445.9125628140682,-464.12160804020095,-482.33065326633005,-500.5396984924628,-518.7487437185919,-536.9577889447246,-555.1668341708537,-573.3758793969828,-591.5849246231155,-609.7939698492446,-628.0030150753773,-646.2120603015064,-664.4211055276392,-682.6301507537682,-700.8391959798973,-719.0482412060301,-737.2572864321592,-755.4663316582919,-773.675376884421,-791.8844221105537,-810.0934673366828,-828.3025125628119,-846.5115577889446,-864.7206030150737,-882.9296482412065,-901.1386934673355,-919.3477386934683,-937.5567839195974,-955.7658291457265,-973.9748743718592,-992.1839195979883,-1010.392964824121,-1028.60201005025,-1046.8110552763828,-1065.020100502512,-1083.229145728641,-1101.4381909547737,-1119.6472361809028,-1137.8562814070356,-1156.0653266331647,-1174.2743718592974,-1192.4834170854265,-1210.6924623115556,-1228.9015075376883,-1247.1105527638174,-1265.3195979899501,-1283.5286432160792,-1301.737688442212,-1319.946733668341,-1338.1557788944701,-1356.3648241206029,-1374.573869346732,-1392.7829145728647,-1410.9919597989938,-1429.2010050251265,-1447.4100502512556,-1465.6190954773847,-1483.8281407035174,-1502.0371859296465,-1520.2462311557792,-1538.4552763819083,-1556.664321608041,-1574.8733668341702,-1593.0824120602992,-1611.291457286432,-1629.500502512561,-1647.7095477386938,-1665.918592964823,-1684.1276381909556,-1702.3366834170847,-1720.5457286432138,-1738.7547738693465,-1756.9638190954756,-1775.1728643216084,-1793.3819095477375,-1811.5909547738702,-1829.7999999999993],\"type\":\"scatter\"}],                        {\"template\":{\"data\":{\"histogram2dcontour\":[{\"type\":\"histogram2dcontour\",\"colorbar\":{\"outlinewidth\":0,\"ticks\":\"\"},\"colorscale\":[[0.0,\"#0d0887\"],[0.1111111111111111,\"#46039f\"],[0.2222222222222222,\"#7201a8\"],[0.3333333333333333,\"#9c179e\"],[0.4444444444444444,\"#bd3786\"],[0.5555555555555556,\"#d8576b\"],[0.6666666666666666,\"#ed7953\"],[0.7777777777777778,\"#fb9f3a\"],[0.8888888888888888,\"#fdca26\"],[1.0,\"#f0f921\"]]}],\"choropleth\":[{\"type\":\"choropleth\",\"colorbar\":{\"outlinewidth\":0,\"ticks\":\"\"}}],\"histogram2d\":[{\"type\":\"histogram2d\",\"colorbar\":{\"outlinewidth\":0,\"ticks\":\"\"},\"colorscale\":[[0.0,\"#0d0887\"],[0.1111111111111111,\"#46039f\"],[0.2222222222222222,\"#7201a8\"],[0.3333333333333333,\"#9c179e\"],[0.4444444444444444,\"#bd3786\"],[0.5555555555555556,\"#d8576b\"],[0.6666666666666666,\"#ed7953\"],[0.7777777777777778,\"#fb9f3a\"],[0.8888888888888888,\"#fdca26\"],[1.0,\"#f0f921\"]]}],\"heatmap\":[{\"type\":\"heatmap\",\"colorbar\":{\"outlinewidth\":0,\"ticks\":\"\"},\"colorscale\":[[0.0,\"#0d0887\"],[0.1111111111111111,\"#46039f\"],[0.2222222222222222,\"#7201a8\"],[0.3333333333333333,\"#9c179e\"],[0.4444444444444444,\"#bd3786\"],[0.5555555555555556,\"#d8576b\"],[0.6666666666666666,\"#ed7953\"],[0.7777777777777778,\"#fb9f3a\"],[0.8888888888888888,\"#fdca26\"],[1.0,\"#f0f921\"]]}],\"heatmapgl\":[{\"type\":\"heatmapgl\",\"colorbar\":{\"outlinewidth\":0,\"ticks\":\"\"},\"colorscale\":[[0.0,\"#0d0887\"],[0.1111111111111111,\"#46039f\"],[0.2222222222222222,\"#7201a8\"],[0.3333333333333333,\"#9c179e\"],[0.4444444444444444,\"#bd3786\"],[0.5555555555555556,\"#d8576b\"],[0.6666666666666666,\"#ed7953\"],[0.7777777777777778,\"#fb9f3a\"],[0.8888888888888888,\"#fdca26\"],[1.0,\"#f0f921\"]]}],\"contourcarpet\":[{\"type\":\"contourcarpet\",\"colorbar\":{\"outlinewidth\":0,\"ticks\":\"\"}}],\"contour\":[{\"type\":\"contour\",\"colorbar\":{\"outlinewidth\":0,\"ticks\":\"\"},\"colorscale\":[[0.0,\"#0d0887\"],[0.1111111111111111,\"#46039f\"],[0.2222222222222222,\"#7201a8\"],[0.3333333333333333,\"#9c179e\"],[0.4444444444444444,\"#bd3786\"],[0.5555555555555556,\"#d8576b\"],[0.6666666666666666,\"#ed7953\"],[0.7777777777777778,\"#fb9f3a\"],[0.8888888888888888,\"#fdca26\"],[1.0,\"#f0f921\"]]}],\"surface\":[{\"type\":\"surface\",\"colorbar\":{\"outlinewidth\":0,\"ticks\":\"\"},\"colorscale\":[[0.0,\"#0d0887\"],[0.1111111111111111,\"#46039f\"],[0.2222222222222222,\"#7201a8\"],[0.3333333333333333,\"#9c179e\"],[0.4444444444444444,\"#bd3786\"],[0.5555555555555556,\"#d8576b\"],[0.6666666666666666,\"#ed7953\"],[0.7777777777777778,\"#fb9f3a\"],[0.8888888888888888,\"#fdca26\"],[1.0,\"#f0f921\"]]}],\"mesh3d\":[{\"type\":\"mesh3d\",\"colorbar\":{\"outlinewidth\":0,\"ticks\":\"\"}}],\"scatter\":[{\"marker\":{\"line\":{\"color\":\"#283442\"}},\"type\":\"scatter\"}],\"parcoords\":[{\"type\":\"parcoords\",\"line\":{\"colorbar\":{\"outlinewidth\":0,\"ticks\":\"\"}}}],\"scatterpolargl\":[{\"type\":\"scatterpolargl\",\"marker\":{\"colorbar\":{\"outlinewidth\":0,\"ticks\":\"\"}}}],\"bar\":[{\"error_x\":{\"color\":\"#f2f5fa\"},\"error_y\":{\"color\":\"#f2f5fa\"},\"marker\":{\"line\":{\"color\":\"rgb(17,17,17)\",\"width\":0.5},\"pattern\":{\"fillmode\":\"overlay\",\"size\":10,\"solidity\":0.2}},\"type\":\"bar\"}],\"scattergeo\":[{\"type\":\"scattergeo\",\"marker\":{\"colorbar\":{\"outlinewidth\":0,\"ticks\":\"\"}}}],\"scatterpolar\":[{\"type\":\"scatterpolar\",\"marker\":{\"colorbar\":{\"outlinewidth\":0,\"ticks\":\"\"}}}],\"histogram\":[{\"marker\":{\"pattern\":{\"fillmode\":\"overlay\",\"size\":10,\"solidity\":0.2}},\"type\":\"histogram\"}],\"scattergl\":[{\"marker\":{\"line\":{\"color\":\"#283442\"}},\"type\":\"scattergl\"}],\"scatter3d\":[{\"type\":\"scatter3d\",\"line\":{\"colorbar\":{\"outlinewidth\":0,\"ticks\":\"\"}},\"marker\":{\"colorbar\":{\"outlinewidth\":0,\"ticks\":\"\"}}}],\"scattermapbox\":[{\"type\":\"scattermapbox\",\"marker\":{\"colorbar\":{\"outlinewidth\":0,\"ticks\":\"\"}}}],\"scatterternary\":[{\"type\":\"scatterternary\",\"marker\":{\"colorbar\":{\"outlinewidth\":0,\"ticks\":\"\"}}}],\"scattercarpet\":[{\"type\":\"scattercarpet\",\"marker\":{\"colorbar\":{\"outlinewidth\":0,\"ticks\":\"\"}}}],\"carpet\":[{\"aaxis\":{\"endlinecolor\":\"#A2B1C6\",\"gridcolor\":\"#506784\",\"linecolor\":\"#506784\",\"minorgridcolor\":\"#506784\",\"startlinecolor\":\"#A2B1C6\"},\"baxis\":{\"endlinecolor\":\"#A2B1C6\",\"gridcolor\":\"#506784\",\"linecolor\":\"#506784\",\"minorgridcolor\":\"#506784\",\"startlinecolor\":\"#A2B1C6\"},\"type\":\"carpet\"}],\"table\":[{\"cells\":{\"fill\":{\"color\":\"#506784\"},\"line\":{\"color\":\"rgb(17,17,17)\"}},\"header\":{\"fill\":{\"color\":\"#2a3f5f\"},\"line\":{\"color\":\"rgb(17,17,17)\"}},\"type\":\"table\"}],\"barpolar\":[{\"marker\":{\"line\":{\"color\":\"rgb(17,17,17)\",\"width\":0.5},\"pattern\":{\"fillmode\":\"overlay\",\"size\":10,\"solidity\":0.2}},\"type\":\"barpolar\"}],\"pie\":[{\"automargin\":true,\"type\":\"pie\"}]},\"layout\":{\"autotypenumbers\":\"strict\",\"colorway\":[\"#636efa\",\"#EF553B\",\"#00cc96\",\"#ab63fa\",\"#FFA15A\",\"#19d3f3\",\"#FF6692\",\"#B6E880\",\"#FF97FF\",\"#FECB52\"],\"font\":{\"color\":\"#f2f5fa\"},\"hovermode\":\"closest\",\"hoverlabel\":{\"align\":\"left\"},\"paper_bgcolor\":\"rgb(17,17,17)\",\"plot_bgcolor\":\"rgb(17,17,17)\",\"polar\":{\"bgcolor\":\"rgb(17,17,17)\",\"angularaxis\":{\"gridcolor\":\"#506784\",\"linecolor\":\"#506784\",\"ticks\":\"\"},\"radialaxis\":{\"gridcolor\":\"#506784\",\"linecolor\":\"#506784\",\"ticks\":\"\"}},\"ternary\":{\"bgcolor\":\"rgb(17,17,17)\",\"aaxis\":{\"gridcolor\":\"#506784\",\"linecolor\":\"#506784\",\"ticks\":\"\"},\"baxis\":{\"gridcolor\":\"#506784\",\"linecolor\":\"#506784\",\"ticks\":\"\"},\"caxis\":{\"gridcolor\":\"#506784\",\"linecolor\":\"#506784\",\"ticks\":\"\"}},\"coloraxis\":{\"colorbar\":{\"outlinewidth\":0,\"ticks\":\"\"}},\"colorscale\":{\"sequential\":[[0.0,\"#0d0887\"],[0.1111111111111111,\"#46039f\"],[0.2222222222222222,\"#7201a8\"],[0.3333333333333333,\"#9c179e\"],[0.4444444444444444,\"#bd3786\"],[0.5555555555555556,\"#d8576b\"],[0.6666666666666666,\"#ed7953\"],[0.7777777777777778,\"#fb9f3a\"],[0.8888888888888888,\"#fdca26\"],[1.0,\"#f0f921\"]],\"sequentialminus\":[[0.0,\"#0d0887\"],[0.1111111111111111,\"#46039f\"],[0.2222222222222222,\"#7201a8\"],[0.3333333333333333,\"#9c179e\"],[0.4444444444444444,\"#bd3786\"],[0.5555555555555556,\"#d8576b\"],[0.6666666666666666,\"#ed7953\"],[0.7777777777777778,\"#fb9f3a\"],[0.8888888888888888,\"#fdca26\"],[1.0,\"#f0f921\"]],\"diverging\":[[0,\"#8e0152\"],[0.1,\"#c51b7d\"],[0.2,\"#de77ae\"],[0.3,\"#f1b6da\"],[0.4,\"#fde0ef\"],[0.5,\"#f7f7f7\"],[0.6,\"#e6f5d0\"],[0.7,\"#b8e186\"],[0.8,\"#7fbc41\"],[0.9,\"#4d9221\"],[1,\"#276419\"]]},\"xaxis\":{\"gridcolor\":\"#283442\",\"linecolor\":\"#506784\",\"ticks\":\"\",\"title\":{\"standoff\":15},\"zerolinecolor\":\"#283442\",\"automargin\":true,\"zerolinewidth\":2},\"yaxis\":{\"gridcolor\":\"#283442\",\"linecolor\":\"#506784\",\"ticks\":\"\",\"title\":{\"standoff\":15},\"zerolinecolor\":\"#283442\",\"automargin\":true,\"zerolinewidth\":2},\"scene\":{\"xaxis\":{\"backgroundcolor\":\"rgb(17,17,17)\",\"gridcolor\":\"#506784\",\"linecolor\":\"#506784\",\"showbackground\":true,\"ticks\":\"\",\"zerolinecolor\":\"#C8D4E3\",\"gridwidth\":2},\"yaxis\":{\"backgroundcolor\":\"rgb(17,17,17)\",\"gridcolor\":\"#506784\",\"linecolor\":\"#506784\",\"showbackground\":true,\"ticks\":\"\",\"zerolinecolor\":\"#C8D4E3\",\"gridwidth\":2},\"zaxis\":{\"backgroundcolor\":\"rgb(17,17,17)\",\"gridcolor\":\"#506784\",\"linecolor\":\"#506784\",\"showbackground\":true,\"ticks\":\"\",\"zerolinecolor\":\"#C8D4E3\",\"gridwidth\":2}},\"shapedefaults\":{\"line\":{\"color\":\"#f2f5fa\"}},\"annotationdefaults\":{\"arrowcolor\":\"#f2f5fa\",\"arrowhead\":0,\"arrowwidth\":1},\"geo\":{\"bgcolor\":\"rgb(17,17,17)\",\"landcolor\":\"rgb(17,17,17)\",\"subunitcolor\":\"#506784\",\"showland\":true,\"showlakes\":true,\"lakecolor\":\"rgb(17,17,17)\"},\"title\":{\"x\":0.05},\"updatemenudefaults\":{\"bgcolor\":\"#506784\",\"borderwidth\":0},\"sliderdefaults\":{\"bgcolor\":\"#C8D4E3\",\"borderwidth\":1,\"bordercolor\":\"rgb(17,17,17)\",\"tickwidth\":0},\"mapbox\":{\"style\":\"dark\"}}}},                        {\"responsive\": true}                    ).then(function(){\n",
       "                            \n",
       "var gd = document.getElementById('6ae8c903-7275-4e01-80bf-8add60a3e9ca');\n",
       "var x = new MutationObserver(function (mutations, observer) {{\n",
       "        var display = window.getComputedStyle(gd).display;\n",
       "        if (!display || display === 'none') {{\n",
       "            console.log([gd, 'removed!']);\n",
       "            Plotly.purge(gd);\n",
       "            observer.disconnect();\n",
       "        }}\n",
       "}});\n",
       "\n",
       "// Listen for the removal of the full notebook cells\n",
       "var notebookContainer = gd.closest('#notebook-container');\n",
       "if (notebookContainer) {{\n",
       "    x.observe(notebookContainer, {childList: true});\n",
       "}}\n",
       "\n",
       "// Listen for the clearing of the current output cell\n",
       "var outputEl = gd.closest('.output');\n",
       "if (outputEl) {{\n",
       "    x.observe(outputEl, {childList: true});\n",
       "}}\n",
       "\n",
       "                        })                };                });            </script>        </div>"
      ]
     },
     "metadata": {},
     "output_type": "display_data"
    }
   ],
   "source": [
    "fig = go.Figure()\n",
    "fig.add_trace(go.Scatter(x=spot_prices, y=prices_today, name=\"Payoff Today\"))\n",
    "fig.add_trace(go.Scatter(x=spot_prices, y=prices_expiry, name=\"Payoff Expiry\"))"
   ]
  },
  {
   "cell_type": "code",
   "execution_count": 38,
   "metadata": {},
   "outputs": [
    {
     "data": {
      "text/plain": [
       "0.0"
      ]
     },
     "execution_count": 38,
     "metadata": {},
     "output_type": "execute_result"
    }
   ],
   "source": [
    "short_call.option.calculate_price(spot_price = 18100, date = \"25-01-2023\")"
   ]
  },
  {
   "cell_type": "code",
   "execution_count": 39,
   "metadata": {},
   "outputs": [],
   "source": [
    "prices_today = short_call.option.calculate_price(spot_price = spot_prices, date = \"23-01-2023\")*short_call._type\n",
    "\n",
    "prices_expiry = short_call.option.calculate_price(spot_price = spot_prices, date = \"25-01-2023\")*short_call._type"
   ]
  },
  {
   "cell_type": "code",
   "execution_count": 49,
   "metadata": {},
   "outputs": [
    {
     "data": {
      "text/plain": [
       "0.0"
      ]
     },
     "execution_count": 49,
     "metadata": {},
     "output_type": "execute_result"
    }
   ],
   "source": [
    "short_call.option._tau(\"25-01-2023\")"
   ]
  },
  {
   "cell_type": "code",
   "execution_count": 46,
   "metadata": {},
   "outputs": [
    {
     "data": {
      "text/plain": [
       "1829.7999999999993"
      ]
     },
     "execution_count": 46,
     "metadata": {},
     "output_type": "execute_result"
    }
   ],
   "source": [
    "short_call.option.calculate_price(spot_price = spot_prices[-1], date = \"25-01-2023\")"
   ]
  },
  {
   "cell_type": "code",
   "execution_count": 40,
   "metadata": {},
   "outputs": [
    {
     "data": {
      "text/html": [
       "<div>                            <div id=\"7a5f1504-052a-4dd5-a661-85dd32ebcd18\" class=\"plotly-graph-div\" style=\"height:525px; width:100%;\"></div>            <script type=\"text/javascript\">                require([\"plotly\"], function(Plotly) {                    window.PLOTLYENV=window.PLOTLYENV || {};                                    if (document.getElementById(\"7a5f1504-052a-4dd5-a661-85dd32ebcd18\")) {                    Plotly.newPlot(                        \"7a5f1504-052a-4dd5-a661-85dd32ebcd18\",                        [{\"name\":\"Payoff Today\",\"x\":[16306.2,16324.409045226132,16342.618090452263,16360.827135678393,16379.036180904523,16397.245226130653,16415.454271356786,16433.663316582915,16451.872361809044,16470.081407035177,16488.290452261306,16506.49949748744,16524.708542713568,16542.9175879397,16561.12663316583,16579.33567839196,16597.54472361809,16615.75376884422,16633.962814070353,16652.171859296483,16670.380904522615,16688.589949748744,16706.798994974873,16725.008040201006,16743.217085427135,16761.426130653268,16779.635175879397,16797.84422110553,16816.05326633166,16834.262311557788,16852.47135678392,16870.68040201005,16888.889447236183,16907.09849246231,16925.307537688444,16943.516582914574,16961.725628140703,16979.934673366835,16998.143718592964,17016.352763819097,17034.561809045226,17052.77085427136,17070.979899497488,17089.188944723617,17107.39798994975,17125.60703517588,17143.81608040201,17162.02512562814,17180.234170854274,17198.443216080403,17216.65226130653,17234.861306532664,17253.070351758794,17271.279396984926,17289.488442211055,17307.697487437184,17325.906532663317,17344.115577889446,17362.32462311558,17380.533668341708,17398.74271356784,17416.95175879397,17435.1608040201,17453.36984924623,17471.57889447236,17489.787939698494,17507.996984924623,17526.206030150755,17544.415075376884,17562.624120603014,17580.833165829146,17599.042211055275,17617.251256281408,17635.460301507537,17653.66934673367,17671.8783919598,17690.087437185928,17708.29648241206,17726.50552763819,17744.714572864323,17762.92361809045,17781.132663316585,17799.341708542714,17817.550753768843,17835.759798994975,17853.968844221105,17872.177889447237,17890.386934673366,17908.5959798995,17926.805025125628,17945.014070351757,17963.22311557789,17981.43216080402,17999.64120603015,18017.85025125628,18036.059296482414,18054.268341708543,18072.47738693467,18090.686432160805,18108.895477386934,18127.104522613066,18145.313567839195,18163.522613065325,18181.731658291457,18199.940703517586,18218.14974874372,18236.35879396985,18254.56783919598,18272.77688442211,18290.98592964824,18309.194974874372,18327.4040201005,18345.613065326634,18363.822110552763,18382.031155778895,18400.240201005025,18418.449246231154,18436.658291457286,18454.867336683415,18473.07638190955,18491.285427135677,18509.49447236181,18527.70351758794,18545.91256281407,18564.1216080402,18582.33065326633,18600.539698492463,18618.748743718592,18636.957788944725,18655.166834170854,18673.375879396983,18691.584924623116,18709.793969849245,18728.003015075377,18746.212060301506,18764.42110552764,18782.63015075377,18800.839195979897,18819.04824120603,18837.25728643216,18855.466331658292,18873.67537688442,18891.884422110554,18910.093467336683,18928.302512562812,18946.511557788945,18964.720603015074,18982.929648241206,19001.138693467336,19019.34773869347,19037.556783919597,19055.765829145726,19073.97487437186,19092.18391959799,19110.39296482412,19128.60201005025,19146.811055276383,19165.020100502512,19183.22914572864,19201.438190954774,19219.647236180903,19237.856281407036,19256.065326633165,19274.274371859297,19292.483417085426,19310.692462311556,19328.90150753769,19347.110552763817,19365.31959798995,19383.52864321608,19401.737688442212,19419.94673366834,19438.15577889447,19456.364824120603,19474.573869346732,19492.782914572865,19510.991959798994,19529.201005025127,19547.410050251256,19565.619095477385,19583.828140703517,19602.037185929647,19620.24623115578,19638.45527638191,19656.66432160804,19674.87336683417,19693.0824120603,19711.291457286432,19729.50050251256,19747.709547738694,19765.918592964823,19784.127638190956,19802.336683417085,19820.545728643214,19838.754773869347,19856.963819095476,19875.17286432161,19893.381909547737,19911.59095477387,19929.8],\"y\":[-3.6213480397834384e-09,-5.713067570088614e-09,-8.967997351248146e-09,-1.4007387507206719e-08,-2.1770225289937086e-08,-3.366831334434338e-08,-5.181327059146208e-08,-7.934698334184989e-08,-1.2092000676982157e-07,-1.8338035317329532e-07,-2.767597464984966e-07,-4.156780655473972e-07,-6.213323351551836e-07,-9.242981342986816e-07,-1.3684536574954309e-06,-2.0164462464129524e-06,-2.957266036196374e-06,-4.316681506120069e-06,-6.271539697802475e-06,-9.069255067674451e-06,-1.305422415471321e-05,-1.870343114336332e-05,-2.667417907498658e-05,-3.786772492186952e-05,-5.351365136550129e-05,-7.528111702663834e-05,-0.00010542473909578437,-0.00014697483273087147,-0.00020398412067344773,-0.00028184589957992723,-0.0003877020754111532,-0.0005309635295126791,-0.0007239700195324494,-0.0009828223207763442,-0.001328425631290986,-0.0017877904416107038,-0.002395645131873181,-0.003196423501931278,-0.004246700227090061,-0.005618157781989597,-0.007401179555152071,-0.009709175492043975,-0.012683758390625854,-0.01650090058732978,-0.021378211786902135,-0.027583488691247382,-0.035444695267957016,-0.045361538278212876,-0.05781880529228367,-0.07340163102555053,-0.09281285155711316,-0.11689259395059182,-0.1466402301034151,-0.18323879748115957,-0.22808195501449546,-0.2828034992684252,-0.3493094136496211,-0.42981236177274695,-0.5268684653282918,-0.6434161274298305,-0.7828165753763869,-0.9488957034310204,-1.145986698372468,-1.3789728305077347,-1.6533296932045687,-1.9751660779328404,-2.3512625826757585,-2.7891069731100515,-3.2969252518774965,-3.883707345549169,-4.559226295022427,-5.334049836701524,-6.219543291672721,-7.227862740668115,-8.371937555390787,-9.665441482501365,-11.122751634763972,-12.758894933156625,-14.589481761389152,-16.630626836577903,-18.89885756174135,-21.411010401422118,-24.184116104236182,-27.23527487798492,-30.581522896115075,-34.23969177046638,-38.22626285650813,-42.557218455551265,-47.24789213688837,-52.312820515167004,-57.76559887970143,-63.618743079337946,-69.88356001692227,-76.57002900146563,-83.68669604493334,-91.24058297790361,-99.23711299884599,-107.68005397213892,-116.57148045771282,-125.91175509941604,-135.69952962920615,-145.93176536994906,-156.60377275120481,-167.70926899913502,-179.24045283308624,-191.18809470556153,-203.54164086572382,-216.28932931596137,-229.4183155692026,-242.91480600537398,-256.76419656858707,-270.95121454222317,-285.4600611845981,-300.2745530997672,-315.3782603517011,-330.7546394996989,-346.38715993217556,-362.2594220979663,-378.3552664719409,-394.65887233832655,-411.1548457228855,-427.8282960495235,-444.6649013297065,-461.6509619122844,-478.77344302003985,-496.0200064762612,-513.3790321768065,-530.8396299889282,-548.3916428576777,-566.0256419736215,-583.7329149034595,-601.5054476088117,-619.3359012808614,-637.2175849013038,-655.1444244060986,-673.1109292813344,-691.1121573612618,-709.1436785322076,-727.2015379732293,-745.2822194887776,-763.3826094121796,-781.4999614828375,-799.6318630273054,-817.7762027048884,-835.9311400146544,-854.0950767019058,-872.2666301500358,-890.4446087978431,-908.6279895827174,-926.8158973773789,-945.0075863603925,-963.2024232395815,-981.3998722311371,-999.5994816855746,-1017.8008722444865,-1036.0037264078055,-1054.2077793907956,-1072.4128111511382,-1090.6186394704855,-1108.8251139795102,-1127.032111022032,-1145.2395292606743,-1163.4472859338493,-1181.6553136817893,-1199.86355786676,-1218.0719743203226,-1236.2805274575585,-1254.4891887050944,-1272.6979351961672,-1290.906748691672,-1309.1156146917674,-1327.3245217072435,-1345.533460664221,-1363.7424244198264,-1381.9514073694809,-1400.160405129889,-1418.3694142839158,-1436.5784321762148,-1454.7874567499784,-1472.9964864170834,-1491.2055199552196,-1509.414556426549,-1527.6235951138005,-1545.832635470102,-1564.0416770798038,-1582.250719627962,-1600.4597628766896,-1618.6688066468741,-1636.8778508040377,-1655.086895247543,-1673.2959399023057,-1691.5049847124792,-1709.7140296366342,-1727.9230746441535,-1746.1321197124707,-1764.341164824993,-1782.550209969566,-1800.759255137309,-1818.9683003217579,-1837.1773455182083],\"type\":\"scatter\"},{\"name\":\"Payoff Expiry\",\"x\":[16306.2,16324.409045226132,16342.618090452263,16360.827135678393,16379.036180904523,16397.245226130653,16415.454271356786,16433.663316582915,16451.872361809044,16470.081407035177,16488.290452261306,16506.49949748744,16524.708542713568,16542.9175879397,16561.12663316583,16579.33567839196,16597.54472361809,16615.75376884422,16633.962814070353,16652.171859296483,16670.380904522615,16688.589949748744,16706.798994974873,16725.008040201006,16743.217085427135,16761.426130653268,16779.635175879397,16797.84422110553,16816.05326633166,16834.262311557788,16852.47135678392,16870.68040201005,16888.889447236183,16907.09849246231,16925.307537688444,16943.516582914574,16961.725628140703,16979.934673366835,16998.143718592964,17016.352763819097,17034.561809045226,17052.77085427136,17070.979899497488,17089.188944723617,17107.39798994975,17125.60703517588,17143.81608040201,17162.02512562814,17180.234170854274,17198.443216080403,17216.65226130653,17234.861306532664,17253.070351758794,17271.279396984926,17289.488442211055,17307.697487437184,17325.906532663317,17344.115577889446,17362.32462311558,17380.533668341708,17398.74271356784,17416.95175879397,17435.1608040201,17453.36984924623,17471.57889447236,17489.787939698494,17507.996984924623,17526.206030150755,17544.415075376884,17562.624120603014,17580.833165829146,17599.042211055275,17617.251256281408,17635.460301507537,17653.66934673367,17671.8783919598,17690.087437185928,17708.29648241206,17726.50552763819,17744.714572864323,17762.92361809045,17781.132663316585,17799.341708542714,17817.550753768843,17835.759798994975,17853.968844221105,17872.177889447237,17890.386934673366,17908.5959798995,17926.805025125628,17945.014070351757,17963.22311557789,17981.43216080402,17999.64120603015,18017.85025125628,18036.059296482414,18054.268341708543,18072.47738693467,18090.686432160805,18108.895477386934,18127.104522613066,18145.313567839195,18163.522613065325,18181.731658291457,18199.940703517586,18218.14974874372,18236.35879396985,18254.56783919598,18272.77688442211,18290.98592964824,18309.194974874372,18327.4040201005,18345.613065326634,18363.822110552763,18382.031155778895,18400.240201005025,18418.449246231154,18436.658291457286,18454.867336683415,18473.07638190955,18491.285427135677,18509.49447236181,18527.70351758794,18545.91256281407,18564.1216080402,18582.33065326633,18600.539698492463,18618.748743718592,18636.957788944725,18655.166834170854,18673.375879396983,18691.584924623116,18709.793969849245,18728.003015075377,18746.212060301506,18764.42110552764,18782.63015075377,18800.839195979897,18819.04824120603,18837.25728643216,18855.466331658292,18873.67537688442,18891.884422110554,18910.093467336683,18928.302512562812,18946.511557788945,18964.720603015074,18982.929648241206,19001.138693467336,19019.34773869347,19037.556783919597,19055.765829145726,19073.97487437186,19092.18391959799,19110.39296482412,19128.60201005025,19146.811055276383,19165.020100502512,19183.22914572864,19201.438190954774,19219.647236180903,19237.856281407036,19256.065326633165,19274.274371859297,19292.483417085426,19310.692462311556,19328.90150753769,19347.110552763817,19365.31959798995,19383.52864321608,19401.737688442212,19419.94673366834,19438.15577889447,19456.364824120603,19474.573869346732,19492.782914572865,19510.991959798994,19529.201005025127,19547.410050251256,19565.619095477385,19583.828140703517,19602.037185929647,19620.24623115578,19638.45527638191,19656.66432160804,19674.87336683417,19693.0824120603,19711.291457286432,19729.50050251256,19747.709547738694,19765.918592964823,19784.127638190956,19802.336683417085,19820.545728643214,19838.754773869347,19856.963819095476,19875.17286432161,19893.381909547737,19911.59095477387,19929.8],\"y\":[-0.0,-0.0,-0.0,-0.0,-0.0,-0.0,-0.0,-0.0,-0.0,-0.0,-0.0,-0.0,-0.0,-0.0,-0.0,-0.0,-0.0,-0.0,-0.0,-0.0,-0.0,-0.0,-0.0,-0.0,-0.0,-0.0,-0.0,-0.0,-0.0,-0.0,-0.0,-0.0,-0.0,-0.0,-0.0,-0.0,-0.0,-0.0,-0.0,-0.0,-0.0,-0.0,-0.0,-0.0,-0.0,-0.0,-0.0,-0.0,-0.0,-0.0,-0.0,-0.0,-0.0,-0.0,-0.0,-0.0,-0.0,-0.0,-0.0,-0.0,-0.0,-0.0,-0.0,-0.0,-0.0,-0.0,-0.0,-0.0,-0.0,-0.0,-0.0,-0.0,-0.0,-0.0,-0.0,-0.0,-0.0,-0.0,-0.0,-0.0,-0.0,-0.0,-0.0,-0.0,-0.0,-0.0,-0.0,-0.0,-0.0,-0.0,-0.0,-0.0,-0.0,-0.0,-0.0,-0.0,-0.0,-0.0,-0.0,-8.895477386933635,-27.104522613066365,-45.31356783919546,-63.52261306532455,-81.73165829145728,-99.94070351758637,-118.1497487437191,-136.3587939698482,-154.56783919598092,-172.77688442211002,-190.9859296482391,-209.19497487437184,-227.40402010050093,-245.61306532663366,-263.82211055276275,-282.0311557788955,-300.2402010050246,-318.44924623115367,-336.6582914572864,-354.8673366834155,-373.0763819095482,-391.2854271356773,-409.49447236181004,-427.70351758793913,-445.9125628140682,-464.12160804020095,-482.33065326633005,-500.5396984924628,-518.7487437185919,-536.9577889447246,-555.1668341708537,-573.3758793969828,-591.5849246231155,-609.7939698492446,-628.0030150753773,-646.2120603015064,-664.4211055276392,-682.6301507537682,-700.8391959798973,-719.0482412060301,-737.2572864321592,-755.4663316582919,-773.675376884421,-791.8844221105537,-810.0934673366828,-828.3025125628119,-846.5115577889446,-864.7206030150737,-882.9296482412065,-901.1386934673355,-919.3477386934683,-937.5567839195974,-955.7658291457265,-973.9748743718592,-992.1839195979883,-1010.392964824121,-1028.60201005025,-1046.8110552763828,-1065.020100502512,-1083.229145728641,-1101.4381909547737,-1119.6472361809028,-1137.8562814070356,-1156.0653266331647,-1174.2743718592974,-1192.4834170854265,-1210.6924623115556,-1228.9015075376883,-1247.1105527638174,-1265.3195979899501,-1283.5286432160792,-1301.737688442212,-1319.946733668341,-1338.1557788944701,-1356.3648241206029,-1374.573869346732,-1392.7829145728647,-1410.9919597989938,-1429.2010050251265,-1447.4100502512556,-1465.6190954773847,-1483.8281407035174,-1502.0371859296465,-1520.2462311557792,-1538.4552763819083,-1556.664321608041,-1574.8733668341702,-1593.0824120602992,-1611.291457286432,-1629.500502512561,-1647.7095477386938,-1665.918592964823,-1684.1276381909556,-1702.3366834170847,-1720.5457286432138,-1738.7547738693465,-1756.9638190954756,-1775.1728643216084,-1793.3819095477375,-1811.5909547738702,-1829.7999999999993],\"type\":\"scatter\"}],                        {\"template\":{\"data\":{\"histogram2dcontour\":[{\"type\":\"histogram2dcontour\",\"colorbar\":{\"outlinewidth\":0,\"ticks\":\"\"},\"colorscale\":[[0.0,\"#0d0887\"],[0.1111111111111111,\"#46039f\"],[0.2222222222222222,\"#7201a8\"],[0.3333333333333333,\"#9c179e\"],[0.4444444444444444,\"#bd3786\"],[0.5555555555555556,\"#d8576b\"],[0.6666666666666666,\"#ed7953\"],[0.7777777777777778,\"#fb9f3a\"],[0.8888888888888888,\"#fdca26\"],[1.0,\"#f0f921\"]]}],\"choropleth\":[{\"type\":\"choropleth\",\"colorbar\":{\"outlinewidth\":0,\"ticks\":\"\"}}],\"histogram2d\":[{\"type\":\"histogram2d\",\"colorbar\":{\"outlinewidth\":0,\"ticks\":\"\"},\"colorscale\":[[0.0,\"#0d0887\"],[0.1111111111111111,\"#46039f\"],[0.2222222222222222,\"#7201a8\"],[0.3333333333333333,\"#9c179e\"],[0.4444444444444444,\"#bd3786\"],[0.5555555555555556,\"#d8576b\"],[0.6666666666666666,\"#ed7953\"],[0.7777777777777778,\"#fb9f3a\"],[0.8888888888888888,\"#fdca26\"],[1.0,\"#f0f921\"]]}],\"heatmap\":[{\"type\":\"heatmap\",\"colorbar\":{\"outlinewidth\":0,\"ticks\":\"\"},\"colorscale\":[[0.0,\"#0d0887\"],[0.1111111111111111,\"#46039f\"],[0.2222222222222222,\"#7201a8\"],[0.3333333333333333,\"#9c179e\"],[0.4444444444444444,\"#bd3786\"],[0.5555555555555556,\"#d8576b\"],[0.6666666666666666,\"#ed7953\"],[0.7777777777777778,\"#fb9f3a\"],[0.8888888888888888,\"#fdca26\"],[1.0,\"#f0f921\"]]}],\"heatmapgl\":[{\"type\":\"heatmapgl\",\"colorbar\":{\"outlinewidth\":0,\"ticks\":\"\"},\"colorscale\":[[0.0,\"#0d0887\"],[0.1111111111111111,\"#46039f\"],[0.2222222222222222,\"#7201a8\"],[0.3333333333333333,\"#9c179e\"],[0.4444444444444444,\"#bd3786\"],[0.5555555555555556,\"#d8576b\"],[0.6666666666666666,\"#ed7953\"],[0.7777777777777778,\"#fb9f3a\"],[0.8888888888888888,\"#fdca26\"],[1.0,\"#f0f921\"]]}],\"contourcarpet\":[{\"type\":\"contourcarpet\",\"colorbar\":{\"outlinewidth\":0,\"ticks\":\"\"}}],\"contour\":[{\"type\":\"contour\",\"colorbar\":{\"outlinewidth\":0,\"ticks\":\"\"},\"colorscale\":[[0.0,\"#0d0887\"],[0.1111111111111111,\"#46039f\"],[0.2222222222222222,\"#7201a8\"],[0.3333333333333333,\"#9c179e\"],[0.4444444444444444,\"#bd3786\"],[0.5555555555555556,\"#d8576b\"],[0.6666666666666666,\"#ed7953\"],[0.7777777777777778,\"#fb9f3a\"],[0.8888888888888888,\"#fdca26\"],[1.0,\"#f0f921\"]]}],\"surface\":[{\"type\":\"surface\",\"colorbar\":{\"outlinewidth\":0,\"ticks\":\"\"},\"colorscale\":[[0.0,\"#0d0887\"],[0.1111111111111111,\"#46039f\"],[0.2222222222222222,\"#7201a8\"],[0.3333333333333333,\"#9c179e\"],[0.4444444444444444,\"#bd3786\"],[0.5555555555555556,\"#d8576b\"],[0.6666666666666666,\"#ed7953\"],[0.7777777777777778,\"#fb9f3a\"],[0.8888888888888888,\"#fdca26\"],[1.0,\"#f0f921\"]]}],\"mesh3d\":[{\"type\":\"mesh3d\",\"colorbar\":{\"outlinewidth\":0,\"ticks\":\"\"}}],\"scatter\":[{\"marker\":{\"line\":{\"color\":\"#283442\"}},\"type\":\"scatter\"}],\"parcoords\":[{\"type\":\"parcoords\",\"line\":{\"colorbar\":{\"outlinewidth\":0,\"ticks\":\"\"}}}],\"scatterpolargl\":[{\"type\":\"scatterpolargl\",\"marker\":{\"colorbar\":{\"outlinewidth\":0,\"ticks\":\"\"}}}],\"bar\":[{\"error_x\":{\"color\":\"#f2f5fa\"},\"error_y\":{\"color\":\"#f2f5fa\"},\"marker\":{\"line\":{\"color\":\"rgb(17,17,17)\",\"width\":0.5},\"pattern\":{\"fillmode\":\"overlay\",\"size\":10,\"solidity\":0.2}},\"type\":\"bar\"}],\"scattergeo\":[{\"type\":\"scattergeo\",\"marker\":{\"colorbar\":{\"outlinewidth\":0,\"ticks\":\"\"}}}],\"scatterpolar\":[{\"type\":\"scatterpolar\",\"marker\":{\"colorbar\":{\"outlinewidth\":0,\"ticks\":\"\"}}}],\"histogram\":[{\"marker\":{\"pattern\":{\"fillmode\":\"overlay\",\"size\":10,\"solidity\":0.2}},\"type\":\"histogram\"}],\"scattergl\":[{\"marker\":{\"line\":{\"color\":\"#283442\"}},\"type\":\"scattergl\"}],\"scatter3d\":[{\"type\":\"scatter3d\",\"line\":{\"colorbar\":{\"outlinewidth\":0,\"ticks\":\"\"}},\"marker\":{\"colorbar\":{\"outlinewidth\":0,\"ticks\":\"\"}}}],\"scattermapbox\":[{\"type\":\"scattermapbox\",\"marker\":{\"colorbar\":{\"outlinewidth\":0,\"ticks\":\"\"}}}],\"scatterternary\":[{\"type\":\"scatterternary\",\"marker\":{\"colorbar\":{\"outlinewidth\":0,\"ticks\":\"\"}}}],\"scattercarpet\":[{\"type\":\"scattercarpet\",\"marker\":{\"colorbar\":{\"outlinewidth\":0,\"ticks\":\"\"}}}],\"carpet\":[{\"aaxis\":{\"endlinecolor\":\"#A2B1C6\",\"gridcolor\":\"#506784\",\"linecolor\":\"#506784\",\"minorgridcolor\":\"#506784\",\"startlinecolor\":\"#A2B1C6\"},\"baxis\":{\"endlinecolor\":\"#A2B1C6\",\"gridcolor\":\"#506784\",\"linecolor\":\"#506784\",\"minorgridcolor\":\"#506784\",\"startlinecolor\":\"#A2B1C6\"},\"type\":\"carpet\"}],\"table\":[{\"cells\":{\"fill\":{\"color\":\"#506784\"},\"line\":{\"color\":\"rgb(17,17,17)\"}},\"header\":{\"fill\":{\"color\":\"#2a3f5f\"},\"line\":{\"color\":\"rgb(17,17,17)\"}},\"type\":\"table\"}],\"barpolar\":[{\"marker\":{\"line\":{\"color\":\"rgb(17,17,17)\",\"width\":0.5},\"pattern\":{\"fillmode\":\"overlay\",\"size\":10,\"solidity\":0.2}},\"type\":\"barpolar\"}],\"pie\":[{\"automargin\":true,\"type\":\"pie\"}]},\"layout\":{\"autotypenumbers\":\"strict\",\"colorway\":[\"#636efa\",\"#EF553B\",\"#00cc96\",\"#ab63fa\",\"#FFA15A\",\"#19d3f3\",\"#FF6692\",\"#B6E880\",\"#FF97FF\",\"#FECB52\"],\"font\":{\"color\":\"#f2f5fa\"},\"hovermode\":\"closest\",\"hoverlabel\":{\"align\":\"left\"},\"paper_bgcolor\":\"rgb(17,17,17)\",\"plot_bgcolor\":\"rgb(17,17,17)\",\"polar\":{\"bgcolor\":\"rgb(17,17,17)\",\"angularaxis\":{\"gridcolor\":\"#506784\",\"linecolor\":\"#506784\",\"ticks\":\"\"},\"radialaxis\":{\"gridcolor\":\"#506784\",\"linecolor\":\"#506784\",\"ticks\":\"\"}},\"ternary\":{\"bgcolor\":\"rgb(17,17,17)\",\"aaxis\":{\"gridcolor\":\"#506784\",\"linecolor\":\"#506784\",\"ticks\":\"\"},\"baxis\":{\"gridcolor\":\"#506784\",\"linecolor\":\"#506784\",\"ticks\":\"\"},\"caxis\":{\"gridcolor\":\"#506784\",\"linecolor\":\"#506784\",\"ticks\":\"\"}},\"coloraxis\":{\"colorbar\":{\"outlinewidth\":0,\"ticks\":\"\"}},\"colorscale\":{\"sequential\":[[0.0,\"#0d0887\"],[0.1111111111111111,\"#46039f\"],[0.2222222222222222,\"#7201a8\"],[0.3333333333333333,\"#9c179e\"],[0.4444444444444444,\"#bd3786\"],[0.5555555555555556,\"#d8576b\"],[0.6666666666666666,\"#ed7953\"],[0.7777777777777778,\"#fb9f3a\"],[0.8888888888888888,\"#fdca26\"],[1.0,\"#f0f921\"]],\"sequentialminus\":[[0.0,\"#0d0887\"],[0.1111111111111111,\"#46039f\"],[0.2222222222222222,\"#7201a8\"],[0.3333333333333333,\"#9c179e\"],[0.4444444444444444,\"#bd3786\"],[0.5555555555555556,\"#d8576b\"],[0.6666666666666666,\"#ed7953\"],[0.7777777777777778,\"#fb9f3a\"],[0.8888888888888888,\"#fdca26\"],[1.0,\"#f0f921\"]],\"diverging\":[[0,\"#8e0152\"],[0.1,\"#c51b7d\"],[0.2,\"#de77ae\"],[0.3,\"#f1b6da\"],[0.4,\"#fde0ef\"],[0.5,\"#f7f7f7\"],[0.6,\"#e6f5d0\"],[0.7,\"#b8e186\"],[0.8,\"#7fbc41\"],[0.9,\"#4d9221\"],[1,\"#276419\"]]},\"xaxis\":{\"gridcolor\":\"#283442\",\"linecolor\":\"#506784\",\"ticks\":\"\",\"title\":{\"standoff\":15},\"zerolinecolor\":\"#283442\",\"automargin\":true,\"zerolinewidth\":2},\"yaxis\":{\"gridcolor\":\"#283442\",\"linecolor\":\"#506784\",\"ticks\":\"\",\"title\":{\"standoff\":15},\"zerolinecolor\":\"#283442\",\"automargin\":true,\"zerolinewidth\":2},\"scene\":{\"xaxis\":{\"backgroundcolor\":\"rgb(17,17,17)\",\"gridcolor\":\"#506784\",\"linecolor\":\"#506784\",\"showbackground\":true,\"ticks\":\"\",\"zerolinecolor\":\"#C8D4E3\",\"gridwidth\":2},\"yaxis\":{\"backgroundcolor\":\"rgb(17,17,17)\",\"gridcolor\":\"#506784\",\"linecolor\":\"#506784\",\"showbackground\":true,\"ticks\":\"\",\"zerolinecolor\":\"#C8D4E3\",\"gridwidth\":2},\"zaxis\":{\"backgroundcolor\":\"rgb(17,17,17)\",\"gridcolor\":\"#506784\",\"linecolor\":\"#506784\",\"showbackground\":true,\"ticks\":\"\",\"zerolinecolor\":\"#C8D4E3\",\"gridwidth\":2}},\"shapedefaults\":{\"line\":{\"color\":\"#f2f5fa\"}},\"annotationdefaults\":{\"arrowcolor\":\"#f2f5fa\",\"arrowhead\":0,\"arrowwidth\":1},\"geo\":{\"bgcolor\":\"rgb(17,17,17)\",\"landcolor\":\"rgb(17,17,17)\",\"subunitcolor\":\"#506784\",\"showland\":true,\"showlakes\":true,\"lakecolor\":\"rgb(17,17,17)\"},\"title\":{\"x\":0.05},\"updatemenudefaults\":{\"bgcolor\":\"#506784\",\"borderwidth\":0},\"sliderdefaults\":{\"bgcolor\":\"#C8D4E3\",\"borderwidth\":1,\"bordercolor\":\"rgb(17,17,17)\",\"tickwidth\":0},\"mapbox\":{\"style\":\"dark\"}}}},                        {\"responsive\": true}                    ).then(function(){\n",
       "                            \n",
       "var gd = document.getElementById('7a5f1504-052a-4dd5-a661-85dd32ebcd18');\n",
       "var x = new MutationObserver(function (mutations, observer) {{\n",
       "        var display = window.getComputedStyle(gd).display;\n",
       "        if (!display || display === 'none') {{\n",
       "            console.log([gd, 'removed!']);\n",
       "            Plotly.purge(gd);\n",
       "            observer.disconnect();\n",
       "        }}\n",
       "}});\n",
       "\n",
       "// Listen for the removal of the full notebook cells\n",
       "var notebookContainer = gd.closest('#notebook-container');\n",
       "if (notebookContainer) {{\n",
       "    x.observe(notebookContainer, {childList: true});\n",
       "}}\n",
       "\n",
       "// Listen for the clearing of the current output cell\n",
       "var outputEl = gd.closest('.output');\n",
       "if (outputEl) {{\n",
       "    x.observe(outputEl, {childList: true});\n",
       "}}\n",
       "\n",
       "                        })                };                });            </script>        </div>"
      ]
     },
     "metadata": {},
     "output_type": "display_data"
    }
   ],
   "source": [
    "fig = go.Figure()\n",
    "fig.add_trace(go.Scatter(x=spot_prices, y=prices_today, name=\"Payoff Today\"))\n",
    "fig.add_trace(go.Scatter(x=spot_prices, y=prices_expiry, name=\"Payoff Expiry\"))"
   ]
  },
  {
   "cell_type": "code",
   "execution_count": 50,
   "metadata": {},
   "outputs": [],
   "source": [
    "from optionalyzer.blackscholes import BlackScholes"
   ]
  },
  {
   "cell_type": "code",
   "execution_count": 52,
   "metadata": {},
   "outputs": [
    {
     "data": {
      "text/plain": [
       "0.0"
      ]
     },
     "execution_count": 52,
     "metadata": {},
     "output_type": "execute_result"
    }
   ],
   "source": [
    "bs = BlackScholes()\n",
    "bs.call(18100, 18100, 0.07, 0.14, 0.00)"
   ]
  },
  {
   "cell_type": "code",
   "execution_count": null,
   "metadata": {},
   "outputs": [],
   "source": []
  },
  {
   "attachments": {},
   "cell_type": "markdown",
   "metadata": {},
   "source": [
    "## Price"
   ]
  },
  {
   "cell_type": "code",
   "execution_count": 1,
   "metadata": {},
   "outputs": [],
   "source": [
    "from optionalyzer.chart import Position, PayoffChart\n",
    "from optionalyzer.options import Call, Put, Options\n",
    "from optionalyzer.blackscholes import OptionChain\n",
    "import numpy as np\n",
    "import plotly.io as pio\n",
    "import plotly.express as px\n",
    "import plotly.graph_objects as go\n",
    "pio.renderers.default = \"notebook_connected\"\n",
    "pio.templates.default = \"plotly_dark\""
   ]
  },
  {
   "cell_type": "code",
   "execution_count": 2,
   "metadata": {},
   "outputs": [],
   "source": [
    "call = Call(18100, \"25-01-2023\", 0.22)\n",
    "put = Put(18100, \"25-01-2023\", 0.14)"
   ]
  },
  {
   "cell_type": "code",
   "execution_count": 4,
   "metadata": {},
   "outputs": [
    {
     "name": "stdout",
     "output_type": "stream",
     "text": [
      "2023-01-25\n",
      "0.0\n"
     ]
    },
    {
     "data": {
      "text/plain": [
       "67.0"
      ]
     },
     "execution_count": 4,
     "metadata": {},
     "output_type": "execute_result"
    }
   ],
   "source": [
    "call.calculate_price(18167, date=\"25-01-2023\")"
   ]
  },
  {
   "cell_type": "code",
   "execution_count": 6,
   "metadata": {},
   "outputs": [
    {
     "name": "stdout",
     "output_type": "stream",
     "text": [
      "2023-01-25\n",
      "0.0\n"
     ]
    },
    {
     "data": {
      "text/plain": [
       "33.0"
      ]
     },
     "execution_count": 6,
     "metadata": {},
     "output_type": "execute_result"
    }
   ],
   "source": [
    "put.calculate_price(18067, date=\"25-01-2023\")"
   ]
  },
  {
   "cell_type": "code",
   "execution_count": 7,
   "metadata": {},
   "outputs": [],
   "source": [
    "short_call = Position(call, \"s\")\n",
    "long_call = Position(call, \"long\")\n",
    "short_put = Position(put, \"short\")\n",
    "long_put = Position(put, \"l\")"
   ]
  },
  {
   "cell_type": "code",
   "execution_count": 9,
   "metadata": {},
   "outputs": [],
   "source": [
    "spot_price = 18167"
   ]
  },
  {
   "cell_type": "code",
   "execution_count": 10,
   "metadata": {},
   "outputs": [],
   "source": [
    "positions = [short_call]\n",
    "pc = PayoffChart(positions=positions, spot_price=spot_price)"
   ]
  },
  {
   "cell_type": "code",
   "execution_count": 11,
   "metadata": {},
   "outputs": [
    {
     "data": {
      "text/plain": [
       "PayoffChart([Position(Short Call(18100, 2023-01-25, 0.22))])"
      ]
     },
     "execution_count": 11,
     "metadata": {},
     "output_type": "execute_result"
    }
   ],
   "source": [
    "pc"
   ]
  },
  {
   "cell_type": "code",
   "execution_count": 14,
   "metadata": {},
   "outputs": [
    {
     "name": "stdout",
     "output_type": "stream",
     "text": [
      "2023-01-23\n",
      "0.005479452054794521\n",
      "2023-01-24\n",
      "0.0027397260273972603\n",
      "2023-01-25\n",
      "0.0\n"
     ]
    },
    {
     "data": {
      "text/html": [
       "<div>                            <div id=\"5df3eaee-0cd9-43ca-86f5-80c7a590e577\" class=\"plotly-graph-div\" style=\"height:525px; width:100%;\"></div>            <script type=\"text/javascript\">                require([\"plotly\"], function(Plotly) {                    window.PLOTLYENV=window.PLOTLYENV || {};                                    if (document.getElementById(\"5df3eaee-0cd9-43ca-86f5-80c7a590e577\")) {                    Plotly.newPlot(                        \"5df3eaee-0cd9-43ca-86f5-80c7a590e577\",                        [{\"fill\":\"tozeroy\",\"fillcolor\":\"rgba(0,255,0,0.5)\",\"name\":\"\",\"x\":[16350.3,16368.558291457286,16386.816582914573,16405.074874371858,16423.333165829146,16441.59145728643,16459.849748743716,16478.108040201005,16496.36633165829,16514.62462311558,16532.882914572863,16551.14120603015,16569.399497487437,16587.65778894472,16605.91608040201,16624.174371859295,16642.432663316584,16660.69095477387,16678.949246231154,16697.207537688442,16715.465829145727,16733.724120603016,16751.9824120603,16770.240703517586,16788.498994974874,16806.75728643216,16825.015577889448,16843.273869346733,16861.53216080402,16879.790452261306,16898.04874371859,16916.30703517588,16934.565326633165,16952.823618090453,16971.081909547738,16989.340201005023,17007.59849246231,17025.856783919597,17044.115075376885,17062.37336683417,17080.63165829146,17098.889949748744,17117.14824120603,17135.406532663317,17153.664824120602,17171.92311557789,17190.181407035176,17208.43969849246,17226.69798994975,17244.956281407034,17263.214572864323,17281.472864321608,17299.731155778893,17317.98944723618,17336.247738693466,17354.506030150755,17372.76432160804,17391.022613065325,17409.280904522613,17427.539195979898,17445.797487437187,17464.05577889447,17482.31407035176,17500.572361809045,17518.83065326633,17537.08894472362,17555.347236180904,17573.605527638192,17591.863819095477,17610.122110552762,17628.38040201005,17646.638693467336,17664.896984924624,17683.15527638191,17701.413567839198,17719.671859296483,17737.930150753768,17756.188442211056,17774.44673366834,17792.70502512563,17810.963316582915,17829.2216080402,17847.479899497488,17865.738190954773,17883.99648241206,17902.254773869347,17920.51306532663,17938.77135678392,17957.029648241205,17975.287939698494,17993.54623115578,18011.804522613063,18030.062814070352,18048.321105527637,18066.579396984926,18084.83768844221,18103.0959798995,18121.354271356784,18139.61256281407,18157.870854271358,18176.129145728642,18194.38743718593,18212.645728643216,18230.9040201005,18249.16231155779,18267.420603015074,18285.678894472363,18303.937185929648,18322.195477386937,18340.45376884422,18358.712060301506,18376.970351758795,18395.22864321608,18413.48693467337,18431.745226130653,18450.00351758794,18468.261809045227,18486.520100502512,18504.7783919598,18523.036683417085,18541.29497487437,18559.55326633166,18577.811557788944,18596.069849246232,18614.328140703517,18632.586432160802,18650.84472361809,18669.103015075376,18687.361306532664,18705.61959798995,18723.877889447238,18742.136180904523,18760.394472361808,18778.652763819096,18796.91105527638,18815.16934673367,18833.427638190955,18851.685929648243,18869.94422110553,18888.202512562813,18906.460804020102,18924.719095477387,18942.977386934675,18961.23567839196,18979.493969849245,18997.752261306534,19016.01055276382,19034.268844221107,19052.527135678392,19070.785427135677,19089.043718592966,19107.30201005025,19125.56030150754,19143.818592964824,19162.07688442211,19180.335175879398,19198.593467336683,19216.85175879397,19235.110050251256,19253.36834170854,19271.62663316583,19289.884924623115,19308.143216080403,19326.40150753769,19344.659798994977,19362.918090452262,19381.176381909547,19399.434673366835,19417.69296482412,19435.95125628141,19454.209547738694,19472.467839195982,19490.726130653267,19508.984422110552,19527.24271356784,19545.501005025126,19563.759296482414,19582.0175879397,19600.275879396984,19618.534170854273,19636.792462311558,19655.050753768846,19673.30904522613,19691.567336683416,19709.825628140705,19728.08391959799,19746.34221105528,19764.600502512563,19782.85879396985,19801.117085427137,19819.37537688442,19837.63366834171,19855.891959798995,19874.15025125628,19892.40854271357,19910.666834170854,19928.925125628142,19947.183417085427,19965.441708542716,19983.7],\"y\":[1.0830776896689748e-08,1.6901649759926354e-08,2.624428019625217e-08,4.0549446788208916e-08,6.234311882959977e-08,9.537928637019923e-08,1.4520788515453263e-07,2.1999132846203953e-07,3.316719973517586e-07,4.976323362588164e-07,7.430423990832682e-07,1.1041612446596944e-06,1.6329541961574864e-06,2.403514908766394e-06,3.5209485729961286e-06,5.1335918334790985e-06,7.449730256822721e-06,1.0760342768111871e-05,1.5469875437391182e-05,2.213764962851492e-05,3.153327189007278e-05,4.4710370404547546e-05,6.31041763136414e-05,8.865994472992803e-05,0.00012400102262669996,0.0001726475776649457,0.00023929966701208025,0.00033020151578394726,0.0004536076602552907,0.0006203760599445241,0.0008447184589781382,0.0011451442349013085,0.001545640750359089,0.0020771408334200247,0.002779336434794695,0.003702906677284569,0.004912238295568333,0.0064887266555665145,0.008534755837329435,0.011178466238982415,0.014579427243952225,0.0189353399532875,0.024489899890099774,0.03154195078824415,0.04045605670203256,0.051674609091993756,0.06573156638550179,0.0832678936903409,0.10504872758897293,0.13198223290530042,0.16514004267987825,0.20577907718860888,0.25536442098625245,0.3155927976588835,0.38841602029310285,0.47606361311238254,0.5810635996622207,0.7062602409828092,0.8548272916923088,1.0302751340573515,1.23644996429055,1.4775230587898456,1.757968060786407,2.0825242217792024,2.456143629784826,2.883920679864751,3.3710024107937357,3.922478859673305,4.543253280901382,5.237892934836225,6.010462160328387,6.864340576292477,7.802030468167743,8.824958648733968,9.933279269422428,11.125685117663352,12.399235781707944,13.749211609522263,15.169002551506537,16.650040689758953,18.181784471158608,19.75176135642846,21.345673783447182,22.947571066703404,24.54008719867943,26.10474160048807,27.6222968341699,29.07316430608762,30.437846237542544,31.697399833046802,32.83390780053469,33.83093830708276,34.673977185233525,35.35081578794325,35.8518793212952,36.170482705085305,36.303003912711574,36.24896816836372,36.011040142655474,35.59492517623585,35.009184358050334,34.264971781773056,33.37570531482743,32.35668458887085,31.2246715516103,29.997449751503154,28.693378552688955,27.330957742344253,25.928416581653437,24.50333938762742,23.07233735961745,21.650773740633667,20.252546686984715,18.889931560941477,17.573481889985487,16.311986060765776,15.112475012540017,13.980274812118296,12.919097047146352,11.931159458170441,11.017329110247374,10.1772806318113,9.409662561811274,8.712265576261416,8.082187244843226,7.515988929673767,7.009841423841863,6.559656885201548,6.16120551224958,5.810216204015887,5.502461126176058,5.233824662012921,5.000357658613211,4.798318190685677,4.624200267935521,4.474752019868902,4.346984920444811,4.23817557910661,4.145861541201157,4.067832422384527,4.002117562347848,3.9469712326972513,3.9008562812196033,3.862426946478081,3.8305114376271376,3.804094747702038,3.7823020559553697,3.7643829776679922,3.74969683708332,3.737699070803501,3.7279288139798155,3.719997678013897,3.713579695606313,3.7084023845018237,3.7042388646405016,3.7009009525136207,3.6982331505096226,3.6961074470964377,3.6944188441229926,3.693081530767813,3.6920256274970598,3.691194429233292,3.690542082345928,3.6900316364335595,3.6896334178636607,3.6893236778814753,3.6890834739242564,3.6888977476737637,3.688754568582226,3.68864451555055,3.6885601736576064,3.688495726099063,3.6884466246774537,3.6884093246662815,3.6883810723520583,3.6883597354390076,3.6883436680654995,3.6883316039311467,3.688322571837489,3.6883158292876033,3.6883108104048006,3.688307085300039,3.6883043283960433,3.6883022938854992,3.6883007967699086,3.68829969824219,3.6882988944707904,3.6882983080431586,3.688297881395556,3.688297571876319,3.6882973479514476,3.6882971864215506,3.6882970702135935,3.688296986849309,3.6882969272155606,3.6882968846693984,3.6882968544123287,3.6882968329446157,3.6882968177560542,3.6882968070385687],\"type\":\"scatter\"},{\"fill\":\"tozeroy\",\"fillcolor\":\"rgba(255,0,0,0.5)\",\"name\":\"\",\"x\":[],\"y\":[],\"type\":\"scatter\"},{\"line\":{\"color\":\"blue\"},\"name\":\"PnL on 24-01-2023\",\"x\":[16350.3,16368.558291457286,16386.816582914573,16405.074874371858,16423.333165829146,16441.59145728643,16459.849748743716,16478.108040201005,16496.36633165829,16514.62462311558,16532.882914572863,16551.14120603015,16569.399497487437,16587.65778894472,16605.91608040201,16624.174371859295,16642.432663316584,16660.69095477387,16678.949246231154,16697.207537688442,16715.465829145727,16733.724120603016,16751.9824120603,16770.240703517586,16788.498994974874,16806.75728643216,16825.015577889448,16843.273869346733,16861.53216080402,16879.790452261306,16898.04874371859,16916.30703517588,16934.565326633165,16952.823618090453,16971.081909547738,16989.340201005023,17007.59849246231,17025.856783919597,17044.115075376885,17062.37336683417,17080.63165829146,17098.889949748744,17117.14824120603,17135.406532663317,17153.664824120602,17171.92311557789,17190.181407035176,17208.43969849246,17226.69798994975,17244.956281407034,17263.214572864323,17281.472864321608,17299.731155778893,17317.98944723618,17336.247738693466,17354.506030150755,17372.76432160804,17391.022613065325,17409.280904522613,17427.539195979898,17445.797487437187,17464.05577889447,17482.31407035176,17500.572361809045,17518.83065326633,17537.08894472362,17555.347236180904,17573.605527638192,17591.863819095477,17610.122110552762,17628.38040201005,17646.638693467336,17664.896984924624,17683.15527638191,17701.413567839198,17719.671859296483,17737.930150753768,17756.188442211056,17774.44673366834,17792.70502512563,17810.963316582915,17829.2216080402,17847.479899497488,17865.738190954773,17883.99648241206,17902.254773869347,17920.51306532663,17938.77135678392,17957.029648241205,17975.287939698494,17993.54623115578,18011.804522613063,18030.062814070352,18048.321105527637,18066.579396984926,18084.83768844221,18103.0959798995,18121.354271356784,18139.61256281407,18157.870854271358,18176.129145728642,18194.38743718593,18212.645728643216,18230.9040201005,18249.16231155779,18267.420603015074,18285.678894472363,18303.937185929648,18322.195477386937,18340.45376884422,18358.712060301506,18376.970351758795,18395.22864321608,18413.48693467337,18431.745226130653,18450.00351758794,18468.261809045227,18486.520100502512,18504.7783919598,18523.036683417085,18541.29497487437,18559.55326633166,18577.811557788944,18596.069849246232,18614.328140703517,18632.586432160802,18650.84472361809,18669.103015075376,18687.361306532664,18705.61959798995,18723.877889447238,18742.136180904523,18760.394472361808,18778.652763819096,18796.91105527638,18815.16934673367,18833.427638190955,18851.685929648243,18869.94422110553,18888.202512562813,18906.460804020102,18924.719095477387,18942.977386934675,18961.23567839196,18979.493969849245,18997.752261306534,19016.01055276382,19034.268844221107,19052.527135678392,19070.785427135677,19089.043718592966,19107.30201005025,19125.56030150754,19143.818592964824,19162.07688442211,19180.335175879398,19198.593467336683,19216.85175879397,19235.110050251256,19253.36834170854,19271.62663316583,19289.884924623115,19308.143216080403,19326.40150753769,19344.659798994977,19362.918090452262,19381.176381909547,19399.434673366835,19417.69296482412,19435.95125628141,19454.209547738694,19472.467839195982,19490.726130653267,19508.984422110552,19527.24271356784,19545.501005025126,19563.759296482414,19582.0175879397,19600.275879396984,19618.534170854273,19636.792462311558,19655.050753768846,19673.30904522613,19691.567336683416,19709.825628140705,19728.08391959799,19746.34221105528,19764.600502512563,19782.85879396985,19801.117085427137,19819.37537688442,19837.63366834171,19855.891959798995,19874.15025125628,19892.40854271357,19910.666834170854,19928.925125628142,19947.183417085427,19965.441708542716,19983.7],\"y\":[1.0830776896689748e-08,1.6901649759926354e-08,2.624428019625217e-08,4.0549446788208916e-08,6.234311882959977e-08,9.537928637019923e-08,1.4520788515453263e-07,2.1999132846203953e-07,3.316719973517586e-07,4.976323362588164e-07,7.430423990832682e-07,1.1041612446596944e-06,1.6329541961574864e-06,2.403514908766394e-06,3.5209485729961286e-06,5.1335918334790985e-06,7.449730256822721e-06,1.0760342768111871e-05,1.5469875437391182e-05,2.213764962851492e-05,3.153327189007278e-05,4.4710370404547546e-05,6.31041763136414e-05,8.865994472992803e-05,0.00012400102262669996,0.0001726475776649457,0.00023929966701208025,0.00033020151578394726,0.0004536076602552907,0.0006203760599445241,0.0008447184589781382,0.0011451442349013085,0.001545640750359089,0.0020771408334200247,0.002779336434794695,0.003702906677284569,0.004912238295568333,0.0064887266555665145,0.008534755837329435,0.011178466238982415,0.014579427243952225,0.0189353399532875,0.024489899890099774,0.03154195078824415,0.04045605670203256,0.051674609091993756,0.06573156638550179,0.0832678936903409,0.10504872758897293,0.13198223290530042,0.16514004267987825,0.20577907718860888,0.25536442098625245,0.3155927976588835,0.38841602029310285,0.47606361311238254,0.5810635996622207,0.7062602409828092,0.8548272916923088,1.0302751340573515,1.23644996429055,1.4775230587898456,1.757968060786407,2.0825242217792024,2.456143629784826,2.883920679864751,3.3710024107937357,3.922478859673305,4.543253280901382,5.237892934836225,6.010462160328387,6.864340576292477,7.802030468167743,8.824958648733968,9.933279269422428,11.125685117663352,12.399235781707944,13.749211609522263,15.169002551506537,16.650040689758953,18.181784471158608,19.75176135642846,21.345673783447182,22.947571066703404,24.54008719867943,26.10474160048807,27.6222968341699,29.07316430608762,30.437846237542544,31.697399833046802,32.83390780053469,33.83093830708276,34.673977185233525,35.35081578794325,35.8518793212952,36.170482705085305,36.303003912711574,36.24896816836372,36.011040142655474,35.59492517623585,35.009184358050334,34.264971781773056,33.37570531482743,32.35668458887085,31.2246715516103,29.997449751503154,28.693378552688955,27.330957742344253,25.928416581653437,24.50333938762742,23.07233735961745,21.650773740633667,20.252546686984715,18.889931560941477,17.573481889985487,16.311986060765776,15.112475012540017,13.980274812118296,12.919097047146352,11.931159458170441,11.017329110247374,10.1772806318113,9.409662561811274,8.712265576261416,8.082187244843226,7.515988929673767,7.009841423841863,6.559656885201548,6.16120551224958,5.810216204015887,5.502461126176058,5.233824662012921,5.000357658613211,4.798318190685677,4.624200267935521,4.474752019868902,4.346984920444811,4.23817557910661,4.145861541201157,4.067832422384527,4.002117562347848,3.9469712326972513,3.9008562812196033,3.862426946478081,3.8305114376271376,3.804094747702038,3.7823020559553697,3.7643829776679922,3.74969683708332,3.737699070803501,3.7279288139798155,3.719997678013897,3.713579695606313,3.7084023845018237,3.7042388646405016,3.7009009525136207,3.6982331505096226,3.6961074470964377,3.6944188441229926,3.693081530767813,3.6920256274970598,3.691194429233292,3.690542082345928,3.6900316364335595,3.6896334178636607,3.6893236778814753,3.6890834739242564,3.6888977476737637,3.688754568582226,3.68864451555055,3.6885601736576064,3.688495726099063,3.6884466246774537,3.6884093246662815,3.6883810723520583,3.6883597354390076,3.6883436680654995,3.6883316039311467,3.688322571837489,3.6883158292876033,3.6883108104048006,3.688307085300039,3.6883043283960433,3.6883022938854992,3.6883007967699086,3.68829969824219,3.6882988944707904,3.6882983080431586,3.688297881395556,3.688297571876319,3.6882973479514476,3.6882971864215506,3.6882970702135935,3.688296986849309,3.6882969272155606,3.6882968846693984,3.6882968544123287,3.6882968329446157,3.6882968177560542,3.6882968070385687],\"type\":\"scatter\"},{\"line\":{\"color\":\"yellow\"},\"name\":\"PnL at Expiry\",\"x\":[16350.3,16368.558291457286,16386.816582914573,16405.074874371858,16423.333165829146,16441.59145728643,16459.849748743716,16478.108040201005,16496.36633165829,16514.62462311558,16532.882914572863,16551.14120603015,16569.399497487437,16587.65778894472,16605.91608040201,16624.174371859295,16642.432663316584,16660.69095477387,16678.949246231154,16697.207537688442,16715.465829145727,16733.724120603016,16751.9824120603,16770.240703517586,16788.498994974874,16806.75728643216,16825.015577889448,16843.273869346733,16861.53216080402,16879.790452261306,16898.04874371859,16916.30703517588,16934.565326633165,16952.823618090453,16971.081909547738,16989.340201005023,17007.59849246231,17025.856783919597,17044.115075376885,17062.37336683417,17080.63165829146,17098.889949748744,17117.14824120603,17135.406532663317,17153.664824120602,17171.92311557789,17190.181407035176,17208.43969849246,17226.69798994975,17244.956281407034,17263.214572864323,17281.472864321608,17299.731155778893,17317.98944723618,17336.247738693466,17354.506030150755,17372.76432160804,17391.022613065325,17409.280904522613,17427.539195979898,17445.797487437187,17464.05577889447,17482.31407035176,17500.572361809045,17518.83065326633,17537.08894472362,17555.347236180904,17573.605527638192,17591.863819095477,17610.122110552762,17628.38040201005,17646.638693467336,17664.896984924624,17683.15527638191,17701.413567839198,17719.671859296483,17737.930150753768,17756.188442211056,17774.44673366834,17792.70502512563,17810.963316582915,17829.2216080402,17847.479899497488,17865.738190954773,17883.99648241206,17902.254773869347,17920.51306532663,17938.77135678392,17957.029648241205,17975.287939698494,17993.54623115578,18011.804522613063,18030.062814070352,18048.321105527637,18066.579396984926,18084.83768844221,18103.0959798995,18121.354271356784,18139.61256281407,18157.870854271358,18176.129145728642,18194.38743718593,18212.645728643216,18230.9040201005,18249.16231155779,18267.420603015074,18285.678894472363,18303.937185929648,18322.195477386937,18340.45376884422,18358.712060301506,18376.970351758795,18395.22864321608,18413.48693467337,18431.745226130653,18450.00351758794,18468.261809045227,18486.520100502512,18504.7783919598,18523.036683417085,18541.29497487437,18559.55326633166,18577.811557788944,18596.069849246232,18614.328140703517,18632.586432160802,18650.84472361809,18669.103015075376,18687.361306532664,18705.61959798995,18723.877889447238,18742.136180904523,18760.394472361808,18778.652763819096,18796.91105527638,18815.16934673367,18833.427638190955,18851.685929648243,18869.94422110553,18888.202512562813,18906.460804020102,18924.719095477387,18942.977386934675,18961.23567839196,18979.493969849245,18997.752261306534,19016.01055276382,19034.268844221107,19052.527135678392,19070.785427135677,19089.043718592966,19107.30201005025,19125.56030150754,19143.818592964824,19162.07688442211,19180.335175879398,19198.593467336683,19216.85175879397,19235.110050251256,19253.36834170854,19271.62663316583,19289.884924623115,19308.143216080403,19326.40150753769,19344.659798994977,19362.918090452262,19381.176381909547,19399.434673366835,19417.69296482412,19435.95125628141,19454.209547738694,19472.467839195982,19490.726130653267,19508.984422110552,19527.24271356784,19545.501005025126,19563.759296482414,19582.0175879397,19600.275879396984,19618.534170854273,19636.792462311558,19655.050753768846,19673.30904522613,19691.567336683416,19709.825628140705,19728.08391959799,19746.34221105528,19764.600502512563,19782.85879396985,19801.117085427137,19819.37537688442,19837.63366834171,19855.891959798995,19874.15025125628,19892.40854271357,19910.666834170854,19928.925125628142,19947.183417085427,19965.441708542716,19983.7],\"y\":[1.083077691029001e-08,1.6901649792426585e-08,2.624428027313463e-08,4.054944696825594e-08,6.234311924702493e-08,9.537928732832258e-08,1.45207887331894e-07,2.1999133336120388e-07,3.3167200826646453e-07,4.976323603366124e-07,7.430424516792055e-07,1.1041613584314804e-06,1.632954439871213e-06,2.403515425783106e-06,3.520949659232891e-06,5.133594093726084e-06,7.449734914988758e-06,1.0760352276740614e-05,1.5469894663035222e-05,2.2137688133789732e-05,3.153334828282471e-05,4.471052054336351e-05,6.310446863400099e-05,8.866050858406457e-05,0.00012400210016454832,0.0001726496178653461,0.0002393034944150052,0.000330208630264367,0.0004536207643339174,0.0006203999771705326,0.0008447617176250422,0.0011452217720328561,0.001545778483407756,0.0020773833130534047,0.0027797595300859124,0.003703638396033715,0.004913492622072857,0.0064908580062712495,0.00853834583973967,0.011184460667801321,0.014589349992841338,0.0189516241130665,0.024516395020781623,0.03158469255815444,0.04052442318112348,0.051783040961593585,0.06590210104044303,0.0835338617484247,0.10546009212528062,0.1326132256765895,0.16609997802921583,0.20722751488372637,0.25753221663830317,0.31881103678179556,0.39315539237007613,0.48298745663960574,0.5910986464615888,0.7206900116669033,0.8754141404789664,1.059418097035433,1.2773868053927515,1.5345861920517336,1.836905298932038,2.190896484265636,2.6038127436737,3.0836411117160196,3.639131049283492,4.2798166883114845,5.01603179597862,5.858916339162079,6.820413579013348,7.9132567071615085,9.150944150211217,10.547702817992104,12.118438752360362,13.878674844922898,15.844475530551335,18.032358624200697,20.459194745663808,23.142095063792567,26.09828838089834,29.34498886134861,32.899255977538814,36.777848492875364,40.99707451710219,45.57263984659676,50.51949693449933,55.85169691723331,61.58224715069264,67.72297667924431,74.28441197190295,81.27566511466284,88.7043364479332,96.57643338838534,104.89630688127909,113.66660659990521,119.79227575276309,111.20617382366618,103.0680860422708,95.37380262606166,88.1174831311946,81.29172693523651,74.88766000828764,68.89503629610954,63.30235180841737,58.096969324915335,53.265251503240506,48.79270009911488,44.664098988621845,40.86365871441558,37.375160358094945,34.182096665934296,31.267808518441598,28.61561503007397,26.20893578639334,24.031403965207573,22.06696933816238,20.299990403040283,18.71531514797607,17.298350190689234,16.035118263793265,14.912304225996195,13.917289966251701,13.038178729606443,12.263809529362334,11.58376241834776,10.988355473447882,10.468634402517637,10.01635571287261,9.623964388068998,9.284567006408906,8.991901203986345,8.740302339443588,8.524668159880093,8.340422200784815,8.183476579808485,8.05019476732923,7.937354838617466,7.842113634691486,7.761972183572652,7.694742662184581,7.638517112318368,7.591638063182472,7.552671158213343,7.520379835699714,7.493702071173175,7.471729154338391,7.453686444743653,7.4389160272730805,7.426861171046767,7.417052482796862,7.409095637340215,7.4026605632207065,7.397471960201074,7.393301026480913,7.389958276849939,7.3872873379332304,7.38515961291705,7.383469715143292,7.382131577589462,7.381075152894482,7.38024362678334,7.379591075012286,7.379080501847056,7.378682204718643,7.378372416536877,7.378132183177513,7.377946439111838,7.377803249280987,7.377693189821002,7.377608844100905,7.377544394279539,7.377495291522791,7.377457990729454,7.377429737964121,7.377408400789136,7.377392333266471,7.3773802690484445,7.377371236907493,7.3773644943248655,7.377359475427511,7.377355750315473,7.37735299340784,7.377350958893658,7.377349461774429,7.3773483632467105,7.377347559478949,7.377346973047679,7.3773465464037145,7.37734623688084,7.377346012955968,7.377345851426071,7.377345735218114,7.37734565185383,7.377345592220081,7.377345549677557,7.377345519416849,7.377345497949136,7.377345482760575,7.377345472043089],\"type\":\"scatter\"}],                        {\"template\":{\"data\":{\"histogram2dcontour\":[{\"type\":\"histogram2dcontour\",\"colorbar\":{\"outlinewidth\":0,\"ticks\":\"\"},\"colorscale\":[[0.0,\"#0d0887\"],[0.1111111111111111,\"#46039f\"],[0.2222222222222222,\"#7201a8\"],[0.3333333333333333,\"#9c179e\"],[0.4444444444444444,\"#bd3786\"],[0.5555555555555556,\"#d8576b\"],[0.6666666666666666,\"#ed7953\"],[0.7777777777777778,\"#fb9f3a\"],[0.8888888888888888,\"#fdca26\"],[1.0,\"#f0f921\"]]}],\"choropleth\":[{\"type\":\"choropleth\",\"colorbar\":{\"outlinewidth\":0,\"ticks\":\"\"}}],\"histogram2d\":[{\"type\":\"histogram2d\",\"colorbar\":{\"outlinewidth\":0,\"ticks\":\"\"},\"colorscale\":[[0.0,\"#0d0887\"],[0.1111111111111111,\"#46039f\"],[0.2222222222222222,\"#7201a8\"],[0.3333333333333333,\"#9c179e\"],[0.4444444444444444,\"#bd3786\"],[0.5555555555555556,\"#d8576b\"],[0.6666666666666666,\"#ed7953\"],[0.7777777777777778,\"#fb9f3a\"],[0.8888888888888888,\"#fdca26\"],[1.0,\"#f0f921\"]]}],\"heatmap\":[{\"type\":\"heatmap\",\"colorbar\":{\"outlinewidth\":0,\"ticks\":\"\"},\"colorscale\":[[0.0,\"#0d0887\"],[0.1111111111111111,\"#46039f\"],[0.2222222222222222,\"#7201a8\"],[0.3333333333333333,\"#9c179e\"],[0.4444444444444444,\"#bd3786\"],[0.5555555555555556,\"#d8576b\"],[0.6666666666666666,\"#ed7953\"],[0.7777777777777778,\"#fb9f3a\"],[0.8888888888888888,\"#fdca26\"],[1.0,\"#f0f921\"]]}],\"heatmapgl\":[{\"type\":\"heatmapgl\",\"colorbar\":{\"outlinewidth\":0,\"ticks\":\"\"},\"colorscale\":[[0.0,\"#0d0887\"],[0.1111111111111111,\"#46039f\"],[0.2222222222222222,\"#7201a8\"],[0.3333333333333333,\"#9c179e\"],[0.4444444444444444,\"#bd3786\"],[0.5555555555555556,\"#d8576b\"],[0.6666666666666666,\"#ed7953\"],[0.7777777777777778,\"#fb9f3a\"],[0.8888888888888888,\"#fdca26\"],[1.0,\"#f0f921\"]]}],\"contourcarpet\":[{\"type\":\"contourcarpet\",\"colorbar\":{\"outlinewidth\":0,\"ticks\":\"\"}}],\"contour\":[{\"type\":\"contour\",\"colorbar\":{\"outlinewidth\":0,\"ticks\":\"\"},\"colorscale\":[[0.0,\"#0d0887\"],[0.1111111111111111,\"#46039f\"],[0.2222222222222222,\"#7201a8\"],[0.3333333333333333,\"#9c179e\"],[0.4444444444444444,\"#bd3786\"],[0.5555555555555556,\"#d8576b\"],[0.6666666666666666,\"#ed7953\"],[0.7777777777777778,\"#fb9f3a\"],[0.8888888888888888,\"#fdca26\"],[1.0,\"#f0f921\"]]}],\"surface\":[{\"type\":\"surface\",\"colorbar\":{\"outlinewidth\":0,\"ticks\":\"\"},\"colorscale\":[[0.0,\"#0d0887\"],[0.1111111111111111,\"#46039f\"],[0.2222222222222222,\"#7201a8\"],[0.3333333333333333,\"#9c179e\"],[0.4444444444444444,\"#bd3786\"],[0.5555555555555556,\"#d8576b\"],[0.6666666666666666,\"#ed7953\"],[0.7777777777777778,\"#fb9f3a\"],[0.8888888888888888,\"#fdca26\"],[1.0,\"#f0f921\"]]}],\"mesh3d\":[{\"type\":\"mesh3d\",\"colorbar\":{\"outlinewidth\":0,\"ticks\":\"\"}}],\"scatter\":[{\"marker\":{\"line\":{\"color\":\"#283442\"}},\"type\":\"scatter\"}],\"parcoords\":[{\"type\":\"parcoords\",\"line\":{\"colorbar\":{\"outlinewidth\":0,\"ticks\":\"\"}}}],\"scatterpolargl\":[{\"type\":\"scatterpolargl\",\"marker\":{\"colorbar\":{\"outlinewidth\":0,\"ticks\":\"\"}}}],\"bar\":[{\"error_x\":{\"color\":\"#f2f5fa\"},\"error_y\":{\"color\":\"#f2f5fa\"},\"marker\":{\"line\":{\"color\":\"rgb(17,17,17)\",\"width\":0.5},\"pattern\":{\"fillmode\":\"overlay\",\"size\":10,\"solidity\":0.2}},\"type\":\"bar\"}],\"scattergeo\":[{\"type\":\"scattergeo\",\"marker\":{\"colorbar\":{\"outlinewidth\":0,\"ticks\":\"\"}}}],\"scatterpolar\":[{\"type\":\"scatterpolar\",\"marker\":{\"colorbar\":{\"outlinewidth\":0,\"ticks\":\"\"}}}],\"histogram\":[{\"marker\":{\"pattern\":{\"fillmode\":\"overlay\",\"size\":10,\"solidity\":0.2}},\"type\":\"histogram\"}],\"scattergl\":[{\"marker\":{\"line\":{\"color\":\"#283442\"}},\"type\":\"scattergl\"}],\"scatter3d\":[{\"type\":\"scatter3d\",\"line\":{\"colorbar\":{\"outlinewidth\":0,\"ticks\":\"\"}},\"marker\":{\"colorbar\":{\"outlinewidth\":0,\"ticks\":\"\"}}}],\"scattermapbox\":[{\"type\":\"scattermapbox\",\"marker\":{\"colorbar\":{\"outlinewidth\":0,\"ticks\":\"\"}}}],\"scatterternary\":[{\"type\":\"scatterternary\",\"marker\":{\"colorbar\":{\"outlinewidth\":0,\"ticks\":\"\"}}}],\"scattercarpet\":[{\"type\":\"scattercarpet\",\"marker\":{\"colorbar\":{\"outlinewidth\":0,\"ticks\":\"\"}}}],\"carpet\":[{\"aaxis\":{\"endlinecolor\":\"#A2B1C6\",\"gridcolor\":\"#506784\",\"linecolor\":\"#506784\",\"minorgridcolor\":\"#506784\",\"startlinecolor\":\"#A2B1C6\"},\"baxis\":{\"endlinecolor\":\"#A2B1C6\",\"gridcolor\":\"#506784\",\"linecolor\":\"#506784\",\"minorgridcolor\":\"#506784\",\"startlinecolor\":\"#A2B1C6\"},\"type\":\"carpet\"}],\"table\":[{\"cells\":{\"fill\":{\"color\":\"#506784\"},\"line\":{\"color\":\"rgb(17,17,17)\"}},\"header\":{\"fill\":{\"color\":\"#2a3f5f\"},\"line\":{\"color\":\"rgb(17,17,17)\"}},\"type\":\"table\"}],\"barpolar\":[{\"marker\":{\"line\":{\"color\":\"rgb(17,17,17)\",\"width\":0.5},\"pattern\":{\"fillmode\":\"overlay\",\"size\":10,\"solidity\":0.2}},\"type\":\"barpolar\"}],\"pie\":[{\"automargin\":true,\"type\":\"pie\"}]},\"layout\":{\"autotypenumbers\":\"strict\",\"colorway\":[\"#636efa\",\"#EF553B\",\"#00cc96\",\"#ab63fa\",\"#FFA15A\",\"#19d3f3\",\"#FF6692\",\"#B6E880\",\"#FF97FF\",\"#FECB52\"],\"font\":{\"color\":\"#f2f5fa\"},\"hovermode\":\"closest\",\"hoverlabel\":{\"align\":\"left\"},\"paper_bgcolor\":\"rgb(17,17,17)\",\"plot_bgcolor\":\"rgb(17,17,17)\",\"polar\":{\"bgcolor\":\"rgb(17,17,17)\",\"angularaxis\":{\"gridcolor\":\"#506784\",\"linecolor\":\"#506784\",\"ticks\":\"\"},\"radialaxis\":{\"gridcolor\":\"#506784\",\"linecolor\":\"#506784\",\"ticks\":\"\"}},\"ternary\":{\"bgcolor\":\"rgb(17,17,17)\",\"aaxis\":{\"gridcolor\":\"#506784\",\"linecolor\":\"#506784\",\"ticks\":\"\"},\"baxis\":{\"gridcolor\":\"#506784\",\"linecolor\":\"#506784\",\"ticks\":\"\"},\"caxis\":{\"gridcolor\":\"#506784\",\"linecolor\":\"#506784\",\"ticks\":\"\"}},\"coloraxis\":{\"colorbar\":{\"outlinewidth\":0,\"ticks\":\"\"}},\"colorscale\":{\"sequential\":[[0.0,\"#0d0887\"],[0.1111111111111111,\"#46039f\"],[0.2222222222222222,\"#7201a8\"],[0.3333333333333333,\"#9c179e\"],[0.4444444444444444,\"#bd3786\"],[0.5555555555555556,\"#d8576b\"],[0.6666666666666666,\"#ed7953\"],[0.7777777777777778,\"#fb9f3a\"],[0.8888888888888888,\"#fdca26\"],[1.0,\"#f0f921\"]],\"sequentialminus\":[[0.0,\"#0d0887\"],[0.1111111111111111,\"#46039f\"],[0.2222222222222222,\"#7201a8\"],[0.3333333333333333,\"#9c179e\"],[0.4444444444444444,\"#bd3786\"],[0.5555555555555556,\"#d8576b\"],[0.6666666666666666,\"#ed7953\"],[0.7777777777777778,\"#fb9f3a\"],[0.8888888888888888,\"#fdca26\"],[1.0,\"#f0f921\"]],\"diverging\":[[0,\"#8e0152\"],[0.1,\"#c51b7d\"],[0.2,\"#de77ae\"],[0.3,\"#f1b6da\"],[0.4,\"#fde0ef\"],[0.5,\"#f7f7f7\"],[0.6,\"#e6f5d0\"],[0.7,\"#b8e186\"],[0.8,\"#7fbc41\"],[0.9,\"#4d9221\"],[1,\"#276419\"]]},\"xaxis\":{\"gridcolor\":\"#283442\",\"linecolor\":\"#506784\",\"ticks\":\"\",\"title\":{\"standoff\":15},\"zerolinecolor\":\"#283442\",\"automargin\":true,\"zerolinewidth\":2},\"yaxis\":{\"gridcolor\":\"#283442\",\"linecolor\":\"#506784\",\"ticks\":\"\",\"title\":{\"standoff\":15},\"zerolinecolor\":\"#283442\",\"automargin\":true,\"zerolinewidth\":2},\"scene\":{\"xaxis\":{\"backgroundcolor\":\"rgb(17,17,17)\",\"gridcolor\":\"#506784\",\"linecolor\":\"#506784\",\"showbackground\":true,\"ticks\":\"\",\"zerolinecolor\":\"#C8D4E3\",\"gridwidth\":2},\"yaxis\":{\"backgroundcolor\":\"rgb(17,17,17)\",\"gridcolor\":\"#506784\",\"linecolor\":\"#506784\",\"showbackground\":true,\"ticks\":\"\",\"zerolinecolor\":\"#C8D4E3\",\"gridwidth\":2},\"zaxis\":{\"backgroundcolor\":\"rgb(17,17,17)\",\"gridcolor\":\"#506784\",\"linecolor\":\"#506784\",\"showbackground\":true,\"ticks\":\"\",\"zerolinecolor\":\"#C8D4E3\",\"gridwidth\":2}},\"shapedefaults\":{\"line\":{\"color\":\"#f2f5fa\"}},\"annotationdefaults\":{\"arrowcolor\":\"#f2f5fa\",\"arrowhead\":0,\"arrowwidth\":1},\"geo\":{\"bgcolor\":\"rgb(17,17,17)\",\"landcolor\":\"rgb(17,17,17)\",\"subunitcolor\":\"#506784\",\"showland\":true,\"showlakes\":true,\"lakecolor\":\"rgb(17,17,17)\"},\"title\":{\"x\":0.05},\"updatemenudefaults\":{\"bgcolor\":\"#506784\",\"borderwidth\":0},\"sliderdefaults\":{\"bgcolor\":\"#C8D4E3\",\"borderwidth\":1,\"bordercolor\":\"rgb(17,17,17)\",\"tickwidth\":0},\"mapbox\":{\"style\":\"dark\"}}},\"shapes\":[{\"line\":{\"color\":\"white\",\"dash\":\"dash\"},\"name\":\"Break Even\",\"type\":\"line\",\"x0\":0,\"x1\":1,\"xref\":\"x domain\",\"y0\":0,\"y1\":0,\"yref\":\"y\"},{\"line\":{\"color\":\"white\",\"dash\":\"dash\"},\"name\":\"Strike Price\",\"type\":\"line\",\"x0\":18167,\"x1\":18167,\"xref\":\"x\",\"y0\":0,\"y1\":1,\"yref\":\"y domain\"}],\"font\":{\"family\":\"Courier New, monospace\",\"size\":18,\"color\":\"RebeccaPurple\"},\"title\":{\"text\":\"Payoff Chart\"},\"xaxis\":{\"title\":{\"text\":\"Stock Price\"}},\"yaxis\":{\"title\":{\"text\":\"Price\"}}},                        {\"responsive\": true}                    ).then(function(){\n",
       "                            \n",
       "var gd = document.getElementById('5df3eaee-0cd9-43ca-86f5-80c7a590e577');\n",
       "var x = new MutationObserver(function (mutations, observer) {{\n",
       "        var display = window.getComputedStyle(gd).display;\n",
       "        if (!display || display === 'none') {{\n",
       "            console.log([gd, 'removed!']);\n",
       "            Plotly.purge(gd);\n",
       "            observer.disconnect();\n",
       "        }}\n",
       "}});\n",
       "\n",
       "// Listen for the removal of the full notebook cells\n",
       "var notebookContainer = gd.closest('#notebook-container');\n",
       "if (notebookContainer) {{\n",
       "    x.observe(notebookContainer, {childList: true});\n",
       "}}\n",
       "\n",
       "// Listen for the clearing of the current output cell\n",
       "var outputEl = gd.closest('.output');\n",
       "if (outputEl) {{\n",
       "    x.observe(outputEl, {childList: true});\n",
       "}}\n",
       "\n",
       "                        })                };                });            </script>        </div>"
      ]
     },
     "metadata": {},
     "output_type": "display_data"
    }
   ],
   "source": [
    "fig = pc.payoff_chart(date = \"24-01-2023\")"
   ]
  },
  {
   "cell_type": "code",
   "execution_count": 14,
   "metadata": {},
   "outputs": [],
   "source": [
    "pc = PayoffChart(spot_price=spot_price, positions=[])"
   ]
  },
  {
   "cell_type": "code",
   "execution_count": 16,
   "metadata": {},
   "outputs": [
    {
     "data": {
      "text/plain": [
       "PayoffChart([])"
      ]
     },
     "execution_count": 16,
     "metadata": {},
     "output_type": "execute_result"
    }
   ],
   "source": [
    "pc"
   ]
  },
  {
   "cell_type": "code",
   "execution_count": 15,
   "metadata": {},
   "outputs": [
    {
     "data": {
      "text/plain": [
       "[]"
      ]
     },
     "execution_count": 15,
     "metadata": {},
     "output_type": "execute_result"
    }
   ],
   "source": [
    "pc.positions"
   ]
  },
  {
   "attachments": {},
   "cell_type": "markdown",
   "metadata": {},
   "source": [
    "## Final"
   ]
  },
  {
   "cell_type": "code",
   "execution_count": 1,
   "metadata": {},
   "outputs": [],
   "source": [
    "from optionalyzer.chart import Position, PayoffChart\n",
    "from optionalyzer.options import Call, Put, Options\n",
    "from optionalyzer.blackscholes import OptionChain\n",
    "import optionalyzer\n",
    "import numpy as np\n",
    "import plotly.io as pio\n",
    "import plotly.express as px\n",
    "import plotly.graph_objects as go\n",
    "pio.renderers.default = \"notebook_connected\"\n",
    "pio.templates.default = \"plotly_dark\""
   ]
  },
  {
   "cell_type": "code",
   "execution_count": 2,
   "metadata": {},
   "outputs": [
    {
     "data": {
      "text/plain": [
       "0.0744"
      ]
     },
     "execution_count": 2,
     "metadata": {},
     "output_type": "execute_result"
    }
   ],
   "source": [
    "optionalyzer.RISK_FREE_RATE"
   ]
  },
  {
   "cell_type": "code",
   "execution_count": 2,
   "metadata": {},
   "outputs": [],
   "source": [
    "oc = OptionChain(\"nifty\")"
   ]
  },
  {
   "cell_type": "code",
   "execution_count": 3,
   "metadata": {},
   "outputs": [],
   "source": [
    "spot_price = oc.spot_price"
   ]
  },
  {
   "cell_type": "code",
   "execution_count": 4,
   "metadata": {},
   "outputs": [
    {
     "data": {
      "text/plain": [
       "18118.55078125"
      ]
     },
     "execution_count": 4,
     "metadata": {},
     "output_type": "execute_result"
    }
   ],
   "source": [
    "spot_price"
   ]
  },
  {
   "cell_type": "code",
   "execution_count": 5,
   "metadata": {},
   "outputs": [
    {
     "data": {
      "text/html": [
       "<div>\n",
       "<style scoped>\n",
       "    .dataframe tbody tr th:only-of-type {\n",
       "        vertical-align: middle;\n",
       "    }\n",
       "\n",
       "    .dataframe tbody tr th {\n",
       "        vertical-align: top;\n",
       "    }\n",
       "\n",
       "    .dataframe thead th {\n",
       "        text-align: right;\n",
       "    }\n",
       "</style>\n",
       "<table border=\"1\" class=\"dataframe\">\n",
       "  <thead>\n",
       "    <tr style=\"text-align: right;\">\n",
       "      <th></th>\n",
       "      <th>Call</th>\n",
       "      <th>Strike</th>\n",
       "      <th>Put</th>\n",
       "    </tr>\n",
       "  </thead>\n",
       "  <tbody>\n",
       "    <tr>\n",
       "      <th>0</th>\n",
       "      <td>253.05</td>\n",
       "      <td>17900.0</td>\n",
       "      <td>7.80</td>\n",
       "    </tr>\n",
       "    <tr>\n",
       "      <th>1</th>\n",
       "      <td>209.00</td>\n",
       "      <td>17950.0</td>\n",
       "      <td>12.00</td>\n",
       "    </tr>\n",
       "    <tr>\n",
       "      <th>2</th>\n",
       "      <td>166.20</td>\n",
       "      <td>18000.0</td>\n",
       "      <td>19.05</td>\n",
       "    </tr>\n",
       "    <tr>\n",
       "      <th>3</th>\n",
       "      <td>123.75</td>\n",
       "      <td>18050.0</td>\n",
       "      <td>28.50</td>\n",
       "    </tr>\n",
       "    <tr>\n",
       "      <th>4</th>\n",
       "      <td>88.10</td>\n",
       "      <td>18100.0</td>\n",
       "      <td>43.00</td>\n",
       "    </tr>\n",
       "    <tr>\n",
       "      <th>5</th>\n",
       "      <td>60.35</td>\n",
       "      <td>18150.0</td>\n",
       "      <td>62.00</td>\n",
       "    </tr>\n",
       "    <tr>\n",
       "      <th>6</th>\n",
       "      <td>37.20</td>\n",
       "      <td>18200.0</td>\n",
       "      <td>89.30</td>\n",
       "    </tr>\n",
       "    <tr>\n",
       "      <th>7</th>\n",
       "      <td>21.30</td>\n",
       "      <td>18250.0</td>\n",
       "      <td>123.80</td>\n",
       "    </tr>\n",
       "    <tr>\n",
       "      <th>8</th>\n",
       "      <td>11.00</td>\n",
       "      <td>18300.0</td>\n",
       "      <td>164.95</td>\n",
       "    </tr>\n",
       "    <tr>\n",
       "      <th>9</th>\n",
       "      <td>6.00</td>\n",
       "      <td>18350.0</td>\n",
       "      <td>208.25</td>\n",
       "    </tr>\n",
       "  </tbody>\n",
       "</table>\n",
       "</div>"
      ],
      "text/plain": [
       "     Call   Strike     Put\n",
       "0  253.05  17900.0    7.80\n",
       "1  209.00  17950.0   12.00\n",
       "2  166.20  18000.0   19.05\n",
       "3  123.75  18050.0   28.50\n",
       "4   88.10  18100.0   43.00\n",
       "5   60.35  18150.0   62.00\n",
       "6   37.20  18200.0   89.30\n",
       "7   21.30  18250.0  123.80\n",
       "8   11.00  18300.0  164.95\n",
       "9    6.00  18350.0  208.25"
      ]
     },
     "execution_count": 5,
     "metadata": {},
     "output_type": "execute_result"
    }
   ],
   "source": [
    "chain = oc.option_chain(\"25-01-2023\")\n",
    "chain"
   ]
  },
  {
   "cell_type": "code",
   "execution_count": 7,
   "metadata": {},
   "outputs": [
    {
     "data": {
      "text/plain": [
       "(0.19803265788254654, 0.13242411173061827)"
      ]
     },
     "execution_count": 7,
     "metadata": {},
     "output_type": "execute_result"
    }
   ],
   "source": [
    "call_iv = oc.calculate_iv(\"25-01-2023\", option_type=\"call\", verbose=0)\n",
    "put_iv = oc.calculate_iv(\"25-01-2023\", option_type=\"put\", verbose=0)\n",
    "\n",
    "call_iv, put_iv"
   ]
  },
  {
   "cell_type": "code",
   "execution_count": 17,
   "metadata": {},
   "outputs": [],
   "source": [
    "pc = PayoffChart(spot_price=18150, positions=[])"
   ]
  },
  {
   "cell_type": "code",
   "execution_count": 18,
   "metadata": {},
   "outputs": [
    {
     "data": {
      "text/plain": [
       "PayoffChart([])"
      ]
     },
     "execution_count": 18,
     "metadata": {},
     "output_type": "execute_result"
    }
   ],
   "source": [
    "pc"
   ]
  },
  {
   "cell_type": "code",
   "execution_count": 19,
   "metadata": {},
   "outputs": [],
   "source": [
    "strike_prices = [18200]*2 + [18100]*2\n",
    "option_types = [\"call\", \"put\"]*2\n",
    "ivs = [0.22, 0.14]*2\n",
    "dates = [\"25-01-2023\"]*4\n",
    "position_types = [\"short\"]*2 + [\"long\"]*2\n",
    "ps = pc.create_positions(\n",
    "    strike_prices=strike_prices,\n",
    "    option_types=option_types,\n",
    "    ivs=ivs,\n",
    "    expiry_dates=dates,\n",
    "    position_types=position_types,\n",
    "    add=True\n",
    ")"
   ]
  },
  {
   "cell_type": "code",
   "execution_count": 20,
   "metadata": {},
   "outputs": [
    {
     "data": {
      "text/plain": [
       "PayoffChart([Position(Short Call(18200, 2023-01-25, 0.22)), Position(Short Put(18200, 2023-01-25, 0.14)), Position(Long Call(18100, 2023-01-25, 0.22)), Position(Long Put(18100, 2023-01-25, 0.14))])"
      ]
     },
     "execution_count": 20,
     "metadata": {},
     "output_type": "execute_result"
    }
   ],
   "source": [
    "pc"
   ]
  },
  {
   "cell_type": "code",
   "execution_count": 21,
   "metadata": {},
   "outputs": [
    {
     "data": {
      "text/html": [
       "<div>                            <div id=\"0787cc33-7cfd-49a8-9584-d2e7d95f2805\" class=\"plotly-graph-div\" style=\"height:525px; width:100%;\"></div>            <script type=\"text/javascript\">                require([\"plotly\"], function(Plotly) {                    window.PLOTLYENV=window.PLOTLYENV || {};                                    if (document.getElementById(\"0787cc33-7cfd-49a8-9584-d2e7d95f2805\")) {                    Plotly.newPlot(                        \"0787cc33-7cfd-49a8-9584-d2e7d95f2805\",                        [{\"fill\":\"tozeroy\",\"fillcolor\":\"rgba(0,255,0,0.5)\",\"name\":\"\",\"x\":[18159.120603015075,18177.361809045226,18195.603015075376,18213.844221105526,18232.08542713568,18250.32663316583,18268.56783919598,18286.80904522613,18305.05025125628,18323.291457286432,18341.532663316582,18359.773869346733,18378.015075376883,18396.256281407033,18414.497487437187,18432.738693467338,18450.979899497488,18469.22110552764,18487.46231155779,18505.70351758794,18523.94472361809,18542.18592964824,18560.427135678394,18578.668341708544,18596.909547738695,18615.150753768845,18633.391959798995,18651.633165829146,18669.874371859296,18688.115577889446,18706.356783919597,18724.597989949747,18742.8391959799,18761.08040201005,18779.3216080402,18797.562814070352,18815.804020100502,18834.045226130653,18852.286432160803,18870.527638190953,18888.768844221107,18907.010050251258,18925.251256281408,18943.49246231156,18961.73366834171,18979.97487437186,18998.21608040201,19016.45728643216,19034.69849246231,19052.93969849246,19071.18090452261,19089.422110552765,19107.663316582915,19125.904522613066,19144.145728643216,19162.386934673366,19180.628140703517,19198.869346733667,19217.110552763817,19235.35175879397,19253.59296482412,19271.834170854272,19290.075376884422,19308.316582914573,19326.557788944723,19344.798994974873,19363.040201005024,19381.281407035174,19399.522613065325,19417.76381909548,19436.00502512563,19454.24623115578,19472.48743718593,19490.72864321608,19508.96984924623,19527.21105527638,19545.45226130653,19563.693467336685,19581.934673366835,19600.175879396986,19618.417085427136,19636.658291457286,19654.899497487437,19673.140703517587,19691.381909547737,19709.623115577888,19727.864321608038,19746.105527638192,19764.346733668342,19782.587939698493,19800.829145728643,19819.070351758794,19837.311557788944,19855.552763819094,19873.793969849245,19892.0351758794,19910.27638190955,19928.5175879397,19946.75879396985,19965.0],\"y\":[200.0,650.0,1050.0,1450.0,1850.0,2200.0,2550.0,2850.0,3150.0,3400.0,3600.0,3800.0,4000.0,4150.0,4250.0,4350.0,4450.0,4550.0,4600.0,4650.0,4700.0,4750.0,4750.0,4800.0,4800.0,4850.0,4850.0,4850.0,4850.0,4900.0,4900.0,4900.0,4900.0,4900.0,4900.0,4900.0,4900.0,4900.0,4900.0,4900.0,4900.0,4900.0,4900.0,4900.0,4900.0,4900.0,4900.0,4900.0,4900.0,4900.0,4900.0,4900.0,4900.0,4900.0,4900.0,4900.0,4900.0,4900.0,4900.0,4900.0,4900.0,4900.0,4900.0,4900.0,4900.0,4900.0,4900.0,4900.0,4900.0,4900.0,4900.0,4900.0,4900.0,4900.0,4900.0,4900.0,4900.0,4900.0,4900.0,4900.0,4900.0,4900.0,4900.0,4900.0,4900.0,4900.0,4900.0,4900.0,4900.0,4900.0,4900.0,4900.0,4900.0,4900.0,4900.0,4900.0,4900.0,4900.0,4900.0,4900.0],\"type\":\"scatter\"},{\"fill\":\"tozeroy\",\"fillcolor\":\"rgba(255,0,0,0.5)\",\"name\":\"\",\"x\":[16335.0,16353.24120603015,16371.4824120603,16389.72361809045,16407.9648241206,16426.206030150755,16444.447236180906,16462.688442211056,16480.929648241206,16499.170854271357,16517.412060301507,16535.653266331658,16553.894472361808,16572.13567839196,16590.376884422112,16608.618090452263,16626.859296482413,16645.100502512563,16663.341708542714,16681.582914572864,16699.824120603014,16718.065326633165,16736.306532663315,16754.54773869347,16772.78894472362,16791.03015075377,16809.27135678392,16827.51256281407,16845.75376884422,16863.99497487437,16882.23618090452,16900.47738693467,16918.718592964826,16936.959798994976,16955.201005025127,16973.442211055277,16991.683417085427,17009.924623115578,17028.165829145728,17046.40703517588,17064.64824120603,17082.889447236183,17101.130653266333,17119.371859296483,17137.613065326634,17155.854271356784,17174.095477386934,17192.336683417085,17210.577889447235,17228.819095477385,17247.06030150754,17265.30150753769,17283.54271356784,17301.78391959799,17320.02512562814,17338.26633165829,17356.50753768844,17374.748743718592,17392.989949748742,17411.231155778893,17429.472361809047,17447.713567839197,17465.954773869347,17484.195979899498,17502.437185929648,17520.6783919598,17538.91959798995,17557.1608040201,17575.402010050253,17593.643216080403,17611.884422110554,17630.125628140704,17648.366834170854,17666.608040201005,17684.849246231155,17703.090452261305,17721.331658291456,17739.572864321606,17757.81407035176,17776.05527638191,17794.29648241206,17812.53768844221,17830.77889447236,17849.020100502512,17867.261306532662,17885.502512562813,17903.743718592967,17921.984924623117,17940.226130653267,17958.467336683418,17976.708542713568,17994.94974874372,18013.19095477387,18031.43216080402,18049.67336683417,18067.91457286432,18086.155778894474,18104.396984924624,18122.638190954774,18140.879396984925],\"y\":[-5100.0,-5100.0,-5100.0,-5100.0,-5100.0,-5100.0,-5100.0,-5100.0,-5100.0,-5100.0,-5100.0,-5100.0,-5100.0,-5100.0,-5100.0,-5100.0,-5100.0,-5100.0,-5100.0,-5100.0,-5100.0,-5100.0,-5100.0,-5100.0,-5100.0,-5100.0,-5100.0,-5100.0,-5100.0,-5100.0,-5100.0,-5100.0,-5100.0,-5100.0,-5100.0,-5100.0,-5100.0,-5100.0,-5100.0,-5100.0,-5100.0,-5100.0,-5100.0,-5100.0,-5100.0,-5100.0,-5100.0,-5100.0,-5100.0,-5100.0,-5100.0,-5100.0,-5100.0,-5100.0,-5100.0,-5100.0,-5100.0,-5100.0,-5100.0,-5100.0,-5100.0,-5100.0,-5100.0,-5100.0,-5100.0,-5100.0,-5100.0,-5100.0,-5100.0,-5050.0,-5050.0,-5050.0,-5050.0,-5050.0,-5050.0,-5000.0,-5000.0,-4950.0,-4950.0,-4900.0,-4850.0,-4800.0,-4700.0,-4650.0,-4550.0,-4450.0,-4300.0,-4150.0,-3950.0,-3750.0,-3550.0,-3250.0,-3000.0,-2650.0,-2300.0,-1950.0,-1550.0,-1100.0,-700.0,-250.0],\"type\":\"scatter\"},{\"line\":{\"color\":\"blue\"},\"name\":\"PnL on 24-01-2023\",\"x\":[16335.0,16353.24120603015,16371.4824120603,16389.72361809045,16407.9648241206,16426.206030150755,16444.447236180906,16462.688442211056,16480.929648241206,16499.170854271357,16517.412060301507,16535.653266331658,16553.894472361808,16572.13567839196,16590.376884422112,16608.618090452263,16626.859296482413,16645.100502512563,16663.341708542714,16681.582914572864,16699.824120603014,16718.065326633165,16736.306532663315,16754.54773869347,16772.78894472362,16791.03015075377,16809.27135678392,16827.51256281407,16845.75376884422,16863.99497487437,16882.23618090452,16900.47738693467,16918.718592964826,16936.959798994976,16955.201005025127,16973.442211055277,16991.683417085427,17009.924623115578,17028.165829145728,17046.40703517588,17064.64824120603,17082.889447236183,17101.130653266333,17119.371859296483,17137.613065326634,17155.854271356784,17174.095477386934,17192.336683417085,17210.577889447235,17228.819095477385,17247.06030150754,17265.30150753769,17283.54271356784,17301.78391959799,17320.02512562814,17338.26633165829,17356.50753768844,17374.748743718592,17392.989949748742,17411.231155778893,17429.472361809047,17447.713567839197,17465.954773869347,17484.195979899498,17502.437185929648,17520.6783919598,17538.91959798995,17557.1608040201,17575.402010050253,17593.643216080403,17611.884422110554,17630.125628140704,17648.366834170854,17666.608040201005,17684.849246231155,17703.090452261305,17721.331658291456,17739.572864321606,17757.81407035176,17776.05527638191,17794.29648241206,17812.53768844221,17830.77889447236,17849.020100502512,17867.261306532662,17885.502512562813,17903.743718592967,17921.984924623117,17940.226130653267,17958.467336683418,17976.708542713568,17994.94974874372,18013.19095477387,18031.43216080402,18049.67336683417,18067.91457286432,18086.155778894474,18104.396984924624,18122.638190954774,18140.879396984925,18159.120603015075,18177.361809045226,18195.603015075376,18213.844221105526,18232.08542713568,18250.32663316583,18268.56783919598,18286.80904522613,18305.05025125628,18323.291457286432,18341.532663316582,18359.773869346733,18378.015075376883,18396.256281407033,18414.497487437187,18432.738693467338,18450.979899497488,18469.22110552764,18487.46231155779,18505.70351758794,18523.94472361809,18542.18592964824,18560.427135678394,18578.668341708544,18596.909547738695,18615.150753768845,18633.391959798995,18651.633165829146,18669.874371859296,18688.115577889446,18706.356783919597,18724.597989949747,18742.8391959799,18761.08040201005,18779.3216080402,18797.562814070352,18815.804020100502,18834.045226130653,18852.286432160803,18870.527638190953,18888.768844221107,18907.010050251258,18925.251256281408,18943.49246231156,18961.73366834171,18979.97487437186,18998.21608040201,19016.45728643216,19034.69849246231,19052.93969849246,19071.18090452261,19089.422110552765,19107.663316582915,19125.904522613066,19144.145728643216,19162.386934673366,19180.628140703517,19198.869346733667,19217.110552763817,19235.35175879397,19253.59296482412,19271.834170854272,19290.075376884422,19308.316582914573,19326.557788944723,19344.798994974873,19363.040201005024,19381.281407035174,19399.522613065325,19417.76381909548,19436.00502512563,19454.24623115578,19472.48743718593,19490.72864321608,19508.96984924623,19527.21105527638,19545.45226130653,19563.693467336685,19581.934673366835,19600.175879396986,19618.417085427136,19636.658291457286,19654.899497487437,19673.140703517587,19691.381909547737,19709.623115577888,19727.864321608038,19746.105527638192,19764.346733668342,19782.587939698493,19800.829145728643,19819.070351758794,19837.311557788944,19855.552763819094,19873.793969849245,19892.0351758794,19910.27638190955,19928.5175879397,19946.75879396985,19965.0],\"y\":[-5100.0,-5100.0,-5100.0,-5100.0,-5100.0,-5100.0,-5100.0,-5100.0,-5100.0,-5100.0,-5100.0,-5100.0,-5100.0,-5100.0,-5100.0,-5100.0,-5100.0,-5100.0,-5100.0,-5100.0,-5100.0,-5100.0,-5100.0,-5100.0,-5100.0,-5100.0,-5100.0,-5100.0,-5100.0,-5100.0,-5100.0,-5100.0,-5100.0,-5100.0,-5100.0,-5100.0,-5100.0,-5100.0,-5100.0,-5100.0,-5100.0,-5100.0,-5100.0,-5100.0,-5100.0,-5100.0,-5100.0,-5100.0,-5100.0,-5100.0,-5100.0,-5100.0,-5100.0,-5100.0,-5100.0,-5100.0,-5100.0,-5100.0,-5100.0,-5100.0,-5100.0,-5100.0,-5100.0,-5100.0,-5100.0,-5100.0,-5100.0,-5100.0,-5100.0,-5050.0,-5050.0,-5050.0,-5050.0,-5050.0,-5050.0,-5000.0,-5000.0,-4950.0,-4950.0,-4900.0,-4850.0,-4800.0,-4700.0,-4650.0,-4550.0,-4450.0,-4300.0,-4150.0,-3950.0,-3750.0,-3550.0,-3250.0,-3000.0,-2650.0,-2300.0,-1950.0,-1550.0,-1100.0,-700.0,-250.0,200.0,650.0,1050.0,1450.0,1850.0,2200.0,2550.0,2850.0,3150.0,3400.0,3600.0,3800.0,4000.0,4150.0,4250.0,4350.0,4450.0,4550.0,4600.0,4650.0,4700.0,4750.0,4750.0,4800.0,4800.0,4850.0,4850.0,4850.0,4850.0,4900.0,4900.0,4900.0,4900.0,4900.0,4900.0,4900.0,4900.0,4900.0,4900.0,4900.0,4900.0,4900.0,4900.0,4900.0,4900.0,4900.0,4900.0,4900.0,4900.0,4900.0,4900.0,4900.0,4900.0,4900.0,4900.0,4900.0,4900.0,4900.0,4900.0,4900.0,4900.0,4900.0,4900.0,4900.0,4900.0,4900.0,4900.0,4900.0,4900.0,4900.0,4900.0,4900.0,4900.0,4900.0,4900.0,4900.0,4900.0,4900.0,4900.0,4900.0,4900.0,4900.0,4900.0,4900.0,4900.0,4900.0,4900.0,4900.0,4900.0,4900.0,4900.0,4900.0,4900.0,4900.0,4900.0,4900.0,4900.0,4900.0,4900.0,4900.0],\"type\":\"scatter\"},{\"line\":{\"color\":\"yellow\"},\"name\":\"PnL at Expiry\",\"x\":[16335.0,16353.24120603015,16371.4824120603,16389.72361809045,16407.9648241206,16426.206030150755,16444.447236180906,16462.688442211056,16480.929648241206,16499.170854271357,16517.412060301507,16535.653266331658,16553.894472361808,16572.13567839196,16590.376884422112,16608.618090452263,16626.859296482413,16645.100502512563,16663.341708542714,16681.582914572864,16699.824120603014,16718.065326633165,16736.306532663315,16754.54773869347,16772.78894472362,16791.03015075377,16809.27135678392,16827.51256281407,16845.75376884422,16863.99497487437,16882.23618090452,16900.47738693467,16918.718592964826,16936.959798994976,16955.201005025127,16973.442211055277,16991.683417085427,17009.924623115578,17028.165829145728,17046.40703517588,17064.64824120603,17082.889447236183,17101.130653266333,17119.371859296483,17137.613065326634,17155.854271356784,17174.095477386934,17192.336683417085,17210.577889447235,17228.819095477385,17247.06030150754,17265.30150753769,17283.54271356784,17301.78391959799,17320.02512562814,17338.26633165829,17356.50753768844,17374.748743718592,17392.989949748742,17411.231155778893,17429.472361809047,17447.713567839197,17465.954773869347,17484.195979899498,17502.437185929648,17520.6783919598,17538.91959798995,17557.1608040201,17575.402010050253,17593.643216080403,17611.884422110554,17630.125628140704,17648.366834170854,17666.608040201005,17684.849246231155,17703.090452261305,17721.331658291456,17739.572864321606,17757.81407035176,17776.05527638191,17794.29648241206,17812.53768844221,17830.77889447236,17849.020100502512,17867.261306532662,17885.502512562813,17903.743718592967,17921.984924623117,17940.226130653267,17958.467336683418,17976.708542713568,17994.94974874372,18013.19095477387,18031.43216080402,18049.67336683417,18067.91457286432,18086.155778894474,18104.396984924624,18122.638190954774,18140.879396984925,18159.120603015075,18177.361809045226,18195.603015075376,18213.844221105526,18232.08542713568,18250.32663316583,18268.56783919598,18286.80904522613,18305.05025125628,18323.291457286432,18341.532663316582,18359.773869346733,18378.015075376883,18396.256281407033,18414.497487437187,18432.738693467338,18450.979899497488,18469.22110552764,18487.46231155779,18505.70351758794,18523.94472361809,18542.18592964824,18560.427135678394,18578.668341708544,18596.909547738695,18615.150753768845,18633.391959798995,18651.633165829146,18669.874371859296,18688.115577889446,18706.356783919597,18724.597989949747,18742.8391959799,18761.08040201005,18779.3216080402,18797.562814070352,18815.804020100502,18834.045226130653,18852.286432160803,18870.527638190953,18888.768844221107,18907.010050251258,18925.251256281408,18943.49246231156,18961.73366834171,18979.97487437186,18998.21608040201,19016.45728643216,19034.69849246231,19052.93969849246,19071.18090452261,19089.422110552765,19107.663316582915,19125.904522613066,19144.145728643216,19162.386934673366,19180.628140703517,19198.869346733667,19217.110552763817,19235.35175879397,19253.59296482412,19271.834170854272,19290.075376884422,19308.316582914573,19326.557788944723,19344.798994974873,19363.040201005024,19381.281407035174,19399.522613065325,19417.76381909548,19436.00502512563,19454.24623115578,19472.48743718593,19490.72864321608,19508.96984924623,19527.21105527638,19545.45226130653,19563.693467336685,19581.934673366835,19600.175879396986,19618.417085427136,19636.658291457286,19654.899497487437,19673.140703517587,19691.381909547737,19709.623115577888,19727.864321608038,19746.105527638192,19764.346733668342,19782.587939698493,19800.829145728643,19819.070351758794,19837.311557788944,19855.552763819094,19873.793969849245,19892.0351758794,19910.27638190955,19928.5175879397,19946.75879396985,19965.0],\"y\":[-5100.0,-5100.0,-5100.0,-5100.0,-5100.0,-5100.0,-5100.0,-5100.0,-5100.0,-5100.0,-5100.0,-5100.0,-5100.0,-5100.0,-5100.0,-5100.0,-5100.0,-5100.0,-5100.0,-5100.0,-5100.0,-5100.0,-5100.0,-5100.0,-5100.0,-5100.0,-5100.0,-5100.0,-5100.0,-5100.0,-5100.0,-5100.0,-5100.0,-5100.0,-5100.0,-5100.0,-5100.0,-5100.0,-5100.0,-5100.0,-5100.0,-5100.0,-5100.0,-5100.0,-5100.0,-5100.0,-5100.0,-5100.0,-5100.0,-5100.0,-5100.0,-5100.0,-5100.0,-5100.0,-5100.0,-5100.0,-5100.0,-5100.0,-5100.0,-5100.0,-5100.0,-5100.0,-5100.0,-5100.0,-5100.0,-5100.0,-5100.0,-5100.0,-5100.0,-5100.0,-5100.0,-5100.0,-5100.0,-5100.0,-5100.0,-5100.0,-5100.0,-5100.0,-5100.0,-5100.0,-5100.0,-5100.0,-5100.0,-5100.0,-5100.0,-5100.0,-5100.0,-5100.0,-5100.0,-5100.0,-5100.0,-5100.0,-5100.0,-5100.0,-5100.0,-5100.0,-5100.0,-4650.0,-2850.0,-1000.0,800.0,2650.0,4450.0,4900.0,4900.0,4900.0,4900.0,4900.0,4900.0,4900.0,4900.0,4900.0,4900.0,4900.0,4900.0,4900.0,4900.0,4900.0,4900.0,4900.0,4900.0,4900.0,4900.0,4900.0,4900.0,4900.0,4900.0,4900.0,4900.0,4900.0,4900.0,4900.0,4900.0,4900.0,4900.0,4900.0,4900.0,4900.0,4900.0,4900.0,4900.0,4900.0,4900.0,4900.0,4900.0,4900.0,4900.0,4900.0,4900.0,4900.0,4900.0,4900.0,4900.0,4900.0,4900.0,4900.0,4900.0,4900.0,4900.0,4900.0,4900.0,4900.0,4900.0,4900.0,4900.0,4900.0,4900.0,4900.0,4900.0,4900.0,4900.0,4900.0,4900.0,4900.0,4900.0,4900.0,4900.0,4900.0,4900.0,4900.0,4900.0,4900.0,4900.0,4900.0,4900.0,4900.0,4900.0,4900.0,4900.0,4900.0,4900.0,4900.0,4900.0,4900.0,4900.0,4900.0,4900.0,4900.0,4900.0,4900.0],\"type\":\"scatter\"}],                        {\"template\":{\"data\":{\"histogram2dcontour\":[{\"type\":\"histogram2dcontour\",\"colorbar\":{\"outlinewidth\":0,\"ticks\":\"\"},\"colorscale\":[[0.0,\"#0d0887\"],[0.1111111111111111,\"#46039f\"],[0.2222222222222222,\"#7201a8\"],[0.3333333333333333,\"#9c179e\"],[0.4444444444444444,\"#bd3786\"],[0.5555555555555556,\"#d8576b\"],[0.6666666666666666,\"#ed7953\"],[0.7777777777777778,\"#fb9f3a\"],[0.8888888888888888,\"#fdca26\"],[1.0,\"#f0f921\"]]}],\"choropleth\":[{\"type\":\"choropleth\",\"colorbar\":{\"outlinewidth\":0,\"ticks\":\"\"}}],\"histogram2d\":[{\"type\":\"histogram2d\",\"colorbar\":{\"outlinewidth\":0,\"ticks\":\"\"},\"colorscale\":[[0.0,\"#0d0887\"],[0.1111111111111111,\"#46039f\"],[0.2222222222222222,\"#7201a8\"],[0.3333333333333333,\"#9c179e\"],[0.4444444444444444,\"#bd3786\"],[0.5555555555555556,\"#d8576b\"],[0.6666666666666666,\"#ed7953\"],[0.7777777777777778,\"#fb9f3a\"],[0.8888888888888888,\"#fdca26\"],[1.0,\"#f0f921\"]]}],\"heatmap\":[{\"type\":\"heatmap\",\"colorbar\":{\"outlinewidth\":0,\"ticks\":\"\"},\"colorscale\":[[0.0,\"#0d0887\"],[0.1111111111111111,\"#46039f\"],[0.2222222222222222,\"#7201a8\"],[0.3333333333333333,\"#9c179e\"],[0.4444444444444444,\"#bd3786\"],[0.5555555555555556,\"#d8576b\"],[0.6666666666666666,\"#ed7953\"],[0.7777777777777778,\"#fb9f3a\"],[0.8888888888888888,\"#fdca26\"],[1.0,\"#f0f921\"]]}],\"heatmapgl\":[{\"type\":\"heatmapgl\",\"colorbar\":{\"outlinewidth\":0,\"ticks\":\"\"},\"colorscale\":[[0.0,\"#0d0887\"],[0.1111111111111111,\"#46039f\"],[0.2222222222222222,\"#7201a8\"],[0.3333333333333333,\"#9c179e\"],[0.4444444444444444,\"#bd3786\"],[0.5555555555555556,\"#d8576b\"],[0.6666666666666666,\"#ed7953\"],[0.7777777777777778,\"#fb9f3a\"],[0.8888888888888888,\"#fdca26\"],[1.0,\"#f0f921\"]]}],\"contourcarpet\":[{\"type\":\"contourcarpet\",\"colorbar\":{\"outlinewidth\":0,\"ticks\":\"\"}}],\"contour\":[{\"type\":\"contour\",\"colorbar\":{\"outlinewidth\":0,\"ticks\":\"\"},\"colorscale\":[[0.0,\"#0d0887\"],[0.1111111111111111,\"#46039f\"],[0.2222222222222222,\"#7201a8\"],[0.3333333333333333,\"#9c179e\"],[0.4444444444444444,\"#bd3786\"],[0.5555555555555556,\"#d8576b\"],[0.6666666666666666,\"#ed7953\"],[0.7777777777777778,\"#fb9f3a\"],[0.8888888888888888,\"#fdca26\"],[1.0,\"#f0f921\"]]}],\"surface\":[{\"type\":\"surface\",\"colorbar\":{\"outlinewidth\":0,\"ticks\":\"\"},\"colorscale\":[[0.0,\"#0d0887\"],[0.1111111111111111,\"#46039f\"],[0.2222222222222222,\"#7201a8\"],[0.3333333333333333,\"#9c179e\"],[0.4444444444444444,\"#bd3786\"],[0.5555555555555556,\"#d8576b\"],[0.6666666666666666,\"#ed7953\"],[0.7777777777777778,\"#fb9f3a\"],[0.8888888888888888,\"#fdca26\"],[1.0,\"#f0f921\"]]}],\"mesh3d\":[{\"type\":\"mesh3d\",\"colorbar\":{\"outlinewidth\":0,\"ticks\":\"\"}}],\"scatter\":[{\"marker\":{\"line\":{\"color\":\"#283442\"}},\"type\":\"scatter\"}],\"parcoords\":[{\"type\":\"parcoords\",\"line\":{\"colorbar\":{\"outlinewidth\":0,\"ticks\":\"\"}}}],\"scatterpolargl\":[{\"type\":\"scatterpolargl\",\"marker\":{\"colorbar\":{\"outlinewidth\":0,\"ticks\":\"\"}}}],\"bar\":[{\"error_x\":{\"color\":\"#f2f5fa\"},\"error_y\":{\"color\":\"#f2f5fa\"},\"marker\":{\"line\":{\"color\":\"rgb(17,17,17)\",\"width\":0.5},\"pattern\":{\"fillmode\":\"overlay\",\"size\":10,\"solidity\":0.2}},\"type\":\"bar\"}],\"scattergeo\":[{\"type\":\"scattergeo\",\"marker\":{\"colorbar\":{\"outlinewidth\":0,\"ticks\":\"\"}}}],\"scatterpolar\":[{\"type\":\"scatterpolar\",\"marker\":{\"colorbar\":{\"outlinewidth\":0,\"ticks\":\"\"}}}],\"histogram\":[{\"marker\":{\"pattern\":{\"fillmode\":\"overlay\",\"size\":10,\"solidity\":0.2}},\"type\":\"histogram\"}],\"scattergl\":[{\"marker\":{\"line\":{\"color\":\"#283442\"}},\"type\":\"scattergl\"}],\"scatter3d\":[{\"type\":\"scatter3d\",\"line\":{\"colorbar\":{\"outlinewidth\":0,\"ticks\":\"\"}},\"marker\":{\"colorbar\":{\"outlinewidth\":0,\"ticks\":\"\"}}}],\"scattermapbox\":[{\"type\":\"scattermapbox\",\"marker\":{\"colorbar\":{\"outlinewidth\":0,\"ticks\":\"\"}}}],\"scatterternary\":[{\"type\":\"scatterternary\",\"marker\":{\"colorbar\":{\"outlinewidth\":0,\"ticks\":\"\"}}}],\"scattercarpet\":[{\"type\":\"scattercarpet\",\"marker\":{\"colorbar\":{\"outlinewidth\":0,\"ticks\":\"\"}}}],\"carpet\":[{\"aaxis\":{\"endlinecolor\":\"#A2B1C6\",\"gridcolor\":\"#506784\",\"linecolor\":\"#506784\",\"minorgridcolor\":\"#506784\",\"startlinecolor\":\"#A2B1C6\"},\"baxis\":{\"endlinecolor\":\"#A2B1C6\",\"gridcolor\":\"#506784\",\"linecolor\":\"#506784\",\"minorgridcolor\":\"#506784\",\"startlinecolor\":\"#A2B1C6\"},\"type\":\"carpet\"}],\"table\":[{\"cells\":{\"fill\":{\"color\":\"#506784\"},\"line\":{\"color\":\"rgb(17,17,17)\"}},\"header\":{\"fill\":{\"color\":\"#2a3f5f\"},\"line\":{\"color\":\"rgb(17,17,17)\"}},\"type\":\"table\"}],\"barpolar\":[{\"marker\":{\"line\":{\"color\":\"rgb(17,17,17)\",\"width\":0.5},\"pattern\":{\"fillmode\":\"overlay\",\"size\":10,\"solidity\":0.2}},\"type\":\"barpolar\"}],\"pie\":[{\"automargin\":true,\"type\":\"pie\"}]},\"layout\":{\"autotypenumbers\":\"strict\",\"colorway\":[\"#636efa\",\"#EF553B\",\"#00cc96\",\"#ab63fa\",\"#FFA15A\",\"#19d3f3\",\"#FF6692\",\"#B6E880\",\"#FF97FF\",\"#FECB52\"],\"font\":{\"color\":\"#f2f5fa\"},\"hovermode\":\"closest\",\"hoverlabel\":{\"align\":\"left\"},\"paper_bgcolor\":\"rgb(17,17,17)\",\"plot_bgcolor\":\"rgb(17,17,17)\",\"polar\":{\"bgcolor\":\"rgb(17,17,17)\",\"angularaxis\":{\"gridcolor\":\"#506784\",\"linecolor\":\"#506784\",\"ticks\":\"\"},\"radialaxis\":{\"gridcolor\":\"#506784\",\"linecolor\":\"#506784\",\"ticks\":\"\"}},\"ternary\":{\"bgcolor\":\"rgb(17,17,17)\",\"aaxis\":{\"gridcolor\":\"#506784\",\"linecolor\":\"#506784\",\"ticks\":\"\"},\"baxis\":{\"gridcolor\":\"#506784\",\"linecolor\":\"#506784\",\"ticks\":\"\"},\"caxis\":{\"gridcolor\":\"#506784\",\"linecolor\":\"#506784\",\"ticks\":\"\"}},\"coloraxis\":{\"colorbar\":{\"outlinewidth\":0,\"ticks\":\"\"}},\"colorscale\":{\"sequential\":[[0.0,\"#0d0887\"],[0.1111111111111111,\"#46039f\"],[0.2222222222222222,\"#7201a8\"],[0.3333333333333333,\"#9c179e\"],[0.4444444444444444,\"#bd3786\"],[0.5555555555555556,\"#d8576b\"],[0.6666666666666666,\"#ed7953\"],[0.7777777777777778,\"#fb9f3a\"],[0.8888888888888888,\"#fdca26\"],[1.0,\"#f0f921\"]],\"sequentialminus\":[[0.0,\"#0d0887\"],[0.1111111111111111,\"#46039f\"],[0.2222222222222222,\"#7201a8\"],[0.3333333333333333,\"#9c179e\"],[0.4444444444444444,\"#bd3786\"],[0.5555555555555556,\"#d8576b\"],[0.6666666666666666,\"#ed7953\"],[0.7777777777777778,\"#fb9f3a\"],[0.8888888888888888,\"#fdca26\"],[1.0,\"#f0f921\"]],\"diverging\":[[0,\"#8e0152\"],[0.1,\"#c51b7d\"],[0.2,\"#de77ae\"],[0.3,\"#f1b6da\"],[0.4,\"#fde0ef\"],[0.5,\"#f7f7f7\"],[0.6,\"#e6f5d0\"],[0.7,\"#b8e186\"],[0.8,\"#7fbc41\"],[0.9,\"#4d9221\"],[1,\"#276419\"]]},\"xaxis\":{\"gridcolor\":\"#283442\",\"linecolor\":\"#506784\",\"ticks\":\"\",\"title\":{\"standoff\":15},\"zerolinecolor\":\"#283442\",\"automargin\":true,\"zerolinewidth\":2},\"yaxis\":{\"gridcolor\":\"#283442\",\"linecolor\":\"#506784\",\"ticks\":\"\",\"title\":{\"standoff\":15},\"zerolinecolor\":\"#283442\",\"automargin\":true,\"zerolinewidth\":2},\"scene\":{\"xaxis\":{\"backgroundcolor\":\"rgb(17,17,17)\",\"gridcolor\":\"#506784\",\"linecolor\":\"#506784\",\"showbackground\":true,\"ticks\":\"\",\"zerolinecolor\":\"#C8D4E3\",\"gridwidth\":2},\"yaxis\":{\"backgroundcolor\":\"rgb(17,17,17)\",\"gridcolor\":\"#506784\",\"linecolor\":\"#506784\",\"showbackground\":true,\"ticks\":\"\",\"zerolinecolor\":\"#C8D4E3\",\"gridwidth\":2},\"zaxis\":{\"backgroundcolor\":\"rgb(17,17,17)\",\"gridcolor\":\"#506784\",\"linecolor\":\"#506784\",\"showbackground\":true,\"ticks\":\"\",\"zerolinecolor\":\"#C8D4E3\",\"gridwidth\":2}},\"shapedefaults\":{\"line\":{\"color\":\"#f2f5fa\"}},\"annotationdefaults\":{\"arrowcolor\":\"#f2f5fa\",\"arrowhead\":0,\"arrowwidth\":1},\"geo\":{\"bgcolor\":\"rgb(17,17,17)\",\"landcolor\":\"rgb(17,17,17)\",\"subunitcolor\":\"#506784\",\"showland\":true,\"showlakes\":true,\"lakecolor\":\"rgb(17,17,17)\"},\"title\":{\"x\":0.05},\"updatemenudefaults\":{\"bgcolor\":\"#506784\",\"borderwidth\":0},\"sliderdefaults\":{\"bgcolor\":\"#C8D4E3\",\"borderwidth\":1,\"bordercolor\":\"rgb(17,17,17)\",\"tickwidth\":0},\"mapbox\":{\"style\":\"dark\"}}},\"shapes\":[{\"line\":{\"color\":\"white\",\"dash\":\"dash\"},\"name\":\"Break Even\",\"type\":\"line\",\"x0\":0,\"x1\":1,\"xref\":\"x domain\",\"y0\":0,\"y1\":0,\"yref\":\"y\"},{\"line\":{\"color\":\"white\",\"dash\":\"dash\"},\"name\":\"Strike Price\",\"type\":\"line\",\"x0\":18150,\"x1\":18150,\"xref\":\"x\",\"y0\":0,\"y1\":1,\"yref\":\"y domain\"}],\"font\":{\"family\":\"Courier New, monospace\",\"size\":18,\"color\":\"RebeccaPurple\"},\"title\":{\"text\":\"Payoff Chart\"},\"xaxis\":{\"title\":{\"text\":\"Stock Price\"}},\"yaxis\":{\"title\":{\"text\":\"Price\"}}},                        {\"responsive\": true}                    ).then(function(){\n",
       "                            \n",
       "var gd = document.getElementById('0787cc33-7cfd-49a8-9584-d2e7d95f2805');\n",
       "var x = new MutationObserver(function (mutations, observer) {{\n",
       "        var display = window.getComputedStyle(gd).display;\n",
       "        if (!display || display === 'none') {{\n",
       "            console.log([gd, 'removed!']);\n",
       "            Plotly.purge(gd);\n",
       "            observer.disconnect();\n",
       "        }}\n",
       "}});\n",
       "\n",
       "// Listen for the removal of the full notebook cells\n",
       "var notebookContainer = gd.closest('#notebook-container');\n",
       "if (notebookContainer) {{\n",
       "    x.observe(notebookContainer, {childList: true});\n",
       "}}\n",
       "\n",
       "// Listen for the clearing of the current output cell\n",
       "var outputEl = gd.closest('.output');\n",
       "if (outputEl) {{\n",
       "    x.observe(outputEl, {childList: true});\n",
       "}}\n",
       "\n",
       "                        })                };                });            </script>        </div>"
      ]
     },
     "metadata": {},
     "output_type": "display_data"
    }
   ],
   "source": [
    "pc.payoff_chart(date=\"24-01-2023\")"
   ]
  },
  {
   "cell_type": "code",
   "execution_count": 9,
   "metadata": {},
   "outputs": [
    {
     "data": {
      "text/html": [
       "        <script type=\"text/javascript\">\n",
       "        window.PlotlyConfig = {MathJaxConfig: 'local'};\n",
       "        if (window.MathJax && window.MathJax.Hub && window.MathJax.Hub.Config) {window.MathJax.Hub.Config({SVG: {font: \"STIX-Web\"}});}\n",
       "        if (typeof require !== 'undefined') {\n",
       "        require.undef(\"plotly\");\n",
       "        requirejs.config({\n",
       "            paths: {\n",
       "                'plotly': ['https://cdn.plot.ly/plotly-2.12.1.min']\n",
       "            }\n",
       "        });\n",
       "        require(['plotly'], function(Plotly) {\n",
       "            window._Plotly = Plotly;\n",
       "        });\n",
       "        }\n",
       "        </script>\n",
       "        "
      ]
     },
     "metadata": {},
     "output_type": "display_data"
    },
    {
     "data": {
      "text/html": [
       "<div>                            <div id=\"64ae3d58-c048-47b1-a55d-a0103f559a20\" class=\"plotly-graph-div\" style=\"height:525px; width:100%;\"></div>            <script type=\"text/javascript\">                require([\"plotly\"], function(Plotly) {                    window.PLOTLYENV=window.PLOTLYENV || {};                                    if (document.getElementById(\"64ae3d58-c048-47b1-a55d-a0103f559a20\")) {                    Plotly.newPlot(                        \"64ae3d58-c048-47b1-a55d-a0103f559a20\",                        [{\"fill\":\"tozeroy\",\"fillcolor\":\"rgba(0,255,0,0.5)\",\"name\":\"\",\"x\":[18159.120603015075,18177.361809045226,18195.603015075376,18213.844221105526,18232.08542713568,18250.32663316583,18268.56783919598,18286.80904522613,18305.05025125628,18323.291457286432,18341.532663316582,18359.773869346733,18378.015075376883,18396.256281407033,18414.497487437187,18432.738693467338,18450.979899497488,18469.22110552764,18487.46231155779,18505.70351758794,18523.94472361809,18542.18592964824,18560.427135678394,18578.668341708544,18596.909547738695,18615.150753768845,18633.391959798995,18651.633165829146,18669.874371859296,18688.115577889446,18706.356783919597,18724.597989949747,18742.8391959799,18761.08040201005,18779.3216080402,18797.562814070352,18815.804020100502,18834.045226130653,18852.286432160803,18870.527638190953,18888.768844221107,18907.010050251258,18925.251256281408,18943.49246231156,18961.73366834171,18979.97487437186,18998.21608040201,19016.45728643216,19034.69849246231,19052.93969849246,19071.18090452261,19089.422110552765,19107.663316582915,19125.904522613066,19144.145728643216,19162.386934673366,19180.628140703517,19198.869346733667,19217.110552763817,19235.35175879397,19253.59296482412,19271.834170854272,19290.075376884422,19308.316582914573,19326.557788944723,19344.798994974873,19363.040201005024,19381.281407035174,19399.522613065325,19417.76381909548,19436.00502512563,19454.24623115578,19472.48743718593,19490.72864321608,19508.96984924623,19527.21105527638,19545.45226130653,19563.693467336685,19581.934673366835,19600.175879396986,19618.417085427136,19636.658291457286,19654.899497487437,19673.140703517587,19691.381909547737,19709.623115577888,19727.864321608038,19746.105527638192,19764.346733668342,19782.587939698493,19800.829145728643,19819.070351758794,19837.311557788944,19855.552763819094,19873.793969849245,19892.0351758794,19910.27638190955,19928.5175879397,19946.75879396985,19965.0],\"y\":[150.0,600.0,1000.0,1400.0,1800.0,2150.0,2500.0,2800.0,3050.0,3300.0,3500.0,3700.0,3900.0,4000.0,4150.0,4250.0,4350.0,4400.0,4450.0,4500.0,4550.0,4600.0,4650.0,4650.0,4700.0,4700.0,4700.0,4700.0,4750.0,4750.0,4750.0,4750.0,4750.0,4750.0,4750.0,4750.0,4750.0,4750.0,4750.0,4750.0,4750.0,4750.0,4750.0,4750.0,4750.0,4750.0,4750.0,4750.0,4750.0,4750.0,4750.0,4750.0,4750.0,4750.0,4750.0,4750.0,4750.0,4750.0,4750.0,4750.0,4750.0,4750.0,4750.0,4750.0,4750.0,4750.0,4750.0,4750.0,4750.0,4750.0,4750.0,4750.0,4750.0,4750.0,4750.0,4750.0,4750.0,4750.0,4750.0,4750.0,4750.0,4750.0,4750.0,4750.0,4750.0,4750.0,4750.0,4750.0,4750.0,4750.0,4750.0,4750.0,4750.0,4750.0,4750.0,4750.0,4750.0,4750.0,4750.0,4750.0],\"type\":\"scatter\"},{\"fill\":\"tozeroy\",\"fillcolor\":\"rgba(255,0,0,0.5)\",\"name\":\"\",\"x\":[16335.0,16353.24120603015,16371.4824120603,16389.72361809045,16407.9648241206,16426.206030150755,16444.447236180906,16462.688442211056,16480.929648241206,16499.170854271357,16517.412060301507,16535.653266331658,16553.894472361808,16572.13567839196,16590.376884422112,16608.618090452263,16626.859296482413,16645.100502512563,16663.341708542714,16681.582914572864,16699.824120603014,16718.065326633165,16736.306532663315,16754.54773869347,16772.78894472362,16791.03015075377,16809.27135678392,16827.51256281407,16845.75376884422,16863.99497487437,16882.23618090452,16900.47738693467,16918.718592964826,16936.959798994976,16955.201005025127,16973.442211055277,16991.683417085427,17009.924623115578,17028.165829145728,17046.40703517588,17064.64824120603,17082.889447236183,17101.130653266333,17119.371859296483,17137.613065326634,17155.854271356784,17174.095477386934,17192.336683417085,17210.577889447235,17228.819095477385,17247.06030150754,17265.30150753769,17283.54271356784,17301.78391959799,17320.02512562814,17338.26633165829,17356.50753768844,17374.748743718592,17392.989949748742,17411.231155778893,17429.472361809047,17447.713567839197,17465.954773869347,17484.195979899498,17502.437185929648,17520.6783919598,17538.91959798995,17557.1608040201,17575.402010050253,17593.643216080403,17611.884422110554,17630.125628140704,17648.366834170854,17666.608040201005,17684.849246231155,17703.090452261305,17721.331658291456,17739.572864321606,17757.81407035176,17776.05527638191,17794.29648241206,17812.53768844221,17830.77889447236,17849.020100502512,17867.261306532662,17885.502512562813,17903.743718592967,17921.984924623117,17940.226130653267,17958.467336683418,17976.708542713568,17994.94974874372,18013.19095477387,18031.43216080402,18049.67336683417,18067.91457286432,18086.155778894474,18104.396984924624,18122.638190954774,18140.879396984925],\"y\":[-5250.0,-5250.0,-5250.0,-5250.0,-5250.0,-5250.0,-5250.0,-5250.0,-5250.0,-5250.0,-5250.0,-5250.0,-5250.0,-5250.0,-5250.0,-5250.0,-5250.0,-5250.0,-5250.0,-5250.0,-5250.0,-5250.0,-5250.0,-5250.0,-5250.0,-5250.0,-5250.0,-5250.0,-5250.0,-5250.0,-5250.0,-5250.0,-5250.0,-5250.0,-5250.0,-5250.0,-5250.0,-5250.0,-5250.0,-5250.0,-5250.0,-5250.0,-5250.0,-5250.0,-5250.0,-5250.0,-5250.0,-5250.0,-5250.0,-5250.0,-5250.0,-5250.0,-5250.0,-5250.0,-5250.0,-5250.0,-5250.0,-5250.0,-5250.0,-5250.0,-5250.0,-5250.0,-5250.0,-5200.0,-5200.0,-5200.0,-5200.0,-5200.0,-5200.0,-5200.0,-5200.0,-5200.0,-5200.0,-5150.0,-5150.0,-5150.0,-5100.0,-5100.0,-5050.0,-5000.0,-4950.0,-4900.0,-4850.0,-4750.0,-4650.0,-4550.0,-4400.0,-4250.0,-4050.0,-3850.0,-3600.0,-3350.0,-3050.0,-2700.0,-2350.0,-2000.0,-1600.0,-1150.0,-750.0,-300.0],\"type\":\"scatter\"},{\"line\":{\"color\":\"blue\"},\"name\":\"PnL on 24-01-2023\",\"x\":[16335.0,16353.24120603015,16371.4824120603,16389.72361809045,16407.9648241206,16426.206030150755,16444.447236180906,16462.688442211056,16480.929648241206,16499.170854271357,16517.412060301507,16535.653266331658,16553.894472361808,16572.13567839196,16590.376884422112,16608.618090452263,16626.859296482413,16645.100502512563,16663.341708542714,16681.582914572864,16699.824120603014,16718.065326633165,16736.306532663315,16754.54773869347,16772.78894472362,16791.03015075377,16809.27135678392,16827.51256281407,16845.75376884422,16863.99497487437,16882.23618090452,16900.47738693467,16918.718592964826,16936.959798994976,16955.201005025127,16973.442211055277,16991.683417085427,17009.924623115578,17028.165829145728,17046.40703517588,17064.64824120603,17082.889447236183,17101.130653266333,17119.371859296483,17137.613065326634,17155.854271356784,17174.095477386934,17192.336683417085,17210.577889447235,17228.819095477385,17247.06030150754,17265.30150753769,17283.54271356784,17301.78391959799,17320.02512562814,17338.26633165829,17356.50753768844,17374.748743718592,17392.989949748742,17411.231155778893,17429.472361809047,17447.713567839197,17465.954773869347,17484.195979899498,17502.437185929648,17520.6783919598,17538.91959798995,17557.1608040201,17575.402010050253,17593.643216080403,17611.884422110554,17630.125628140704,17648.366834170854,17666.608040201005,17684.849246231155,17703.090452261305,17721.331658291456,17739.572864321606,17757.81407035176,17776.05527638191,17794.29648241206,17812.53768844221,17830.77889447236,17849.020100502512,17867.261306532662,17885.502512562813,17903.743718592967,17921.984924623117,17940.226130653267,17958.467336683418,17976.708542713568,17994.94974874372,18013.19095477387,18031.43216080402,18049.67336683417,18067.91457286432,18086.155778894474,18104.396984924624,18122.638190954774,18140.879396984925,18159.120603015075,18177.361809045226,18195.603015075376,18213.844221105526,18232.08542713568,18250.32663316583,18268.56783919598,18286.80904522613,18305.05025125628,18323.291457286432,18341.532663316582,18359.773869346733,18378.015075376883,18396.256281407033,18414.497487437187,18432.738693467338,18450.979899497488,18469.22110552764,18487.46231155779,18505.70351758794,18523.94472361809,18542.18592964824,18560.427135678394,18578.668341708544,18596.909547738695,18615.150753768845,18633.391959798995,18651.633165829146,18669.874371859296,18688.115577889446,18706.356783919597,18724.597989949747,18742.8391959799,18761.08040201005,18779.3216080402,18797.562814070352,18815.804020100502,18834.045226130653,18852.286432160803,18870.527638190953,18888.768844221107,18907.010050251258,18925.251256281408,18943.49246231156,18961.73366834171,18979.97487437186,18998.21608040201,19016.45728643216,19034.69849246231,19052.93969849246,19071.18090452261,19089.422110552765,19107.663316582915,19125.904522613066,19144.145728643216,19162.386934673366,19180.628140703517,19198.869346733667,19217.110552763817,19235.35175879397,19253.59296482412,19271.834170854272,19290.075376884422,19308.316582914573,19326.557788944723,19344.798994974873,19363.040201005024,19381.281407035174,19399.522613065325,19417.76381909548,19436.00502512563,19454.24623115578,19472.48743718593,19490.72864321608,19508.96984924623,19527.21105527638,19545.45226130653,19563.693467336685,19581.934673366835,19600.175879396986,19618.417085427136,19636.658291457286,19654.899497487437,19673.140703517587,19691.381909547737,19709.623115577888,19727.864321608038,19746.105527638192,19764.346733668342,19782.587939698493,19800.829145728643,19819.070351758794,19837.311557788944,19855.552763819094,19873.793969849245,19892.0351758794,19910.27638190955,19928.5175879397,19946.75879396985,19965.0],\"y\":[-5250.0,-5250.0,-5250.0,-5250.0,-5250.0,-5250.0,-5250.0,-5250.0,-5250.0,-5250.0,-5250.0,-5250.0,-5250.0,-5250.0,-5250.0,-5250.0,-5250.0,-5250.0,-5250.0,-5250.0,-5250.0,-5250.0,-5250.0,-5250.0,-5250.0,-5250.0,-5250.0,-5250.0,-5250.0,-5250.0,-5250.0,-5250.0,-5250.0,-5250.0,-5250.0,-5250.0,-5250.0,-5250.0,-5250.0,-5250.0,-5250.0,-5250.0,-5250.0,-5250.0,-5250.0,-5250.0,-5250.0,-5250.0,-5250.0,-5250.0,-5250.0,-5250.0,-5250.0,-5250.0,-5250.0,-5250.0,-5250.0,-5250.0,-5250.0,-5250.0,-5250.0,-5250.0,-5250.0,-5200.0,-5200.0,-5200.0,-5200.0,-5200.0,-5200.0,-5200.0,-5200.0,-5200.0,-5200.0,-5150.0,-5150.0,-5150.0,-5100.0,-5100.0,-5050.0,-5000.0,-4950.0,-4900.0,-4850.0,-4750.0,-4650.0,-4550.0,-4400.0,-4250.0,-4050.0,-3850.0,-3600.0,-3350.0,-3050.0,-2700.0,-2350.0,-2000.0,-1600.0,-1150.0,-750.0,-300.0,150.0,600.0,1000.0,1400.0,1800.0,2150.0,2500.0,2800.0,3050.0,3300.0,3500.0,3700.0,3900.0,4000.0,4150.0,4250.0,4350.0,4400.0,4450.0,4500.0,4550.0,4600.0,4650.0,4650.0,4700.0,4700.0,4700.0,4700.0,4750.0,4750.0,4750.0,4750.0,4750.0,4750.0,4750.0,4750.0,4750.0,4750.0,4750.0,4750.0,4750.0,4750.0,4750.0,4750.0,4750.0,4750.0,4750.0,4750.0,4750.0,4750.0,4750.0,4750.0,4750.0,4750.0,4750.0,4750.0,4750.0,4750.0,4750.0,4750.0,4750.0,4750.0,4750.0,4750.0,4750.0,4750.0,4750.0,4750.0,4750.0,4750.0,4750.0,4750.0,4750.0,4750.0,4750.0,4750.0,4750.0,4750.0,4750.0,4750.0,4750.0,4750.0,4750.0,4750.0,4750.0,4750.0,4750.0,4750.0,4750.0,4750.0,4750.0,4750.0,4750.0,4750.0,4750.0,4750.0,4750.0,4750.0,4750.0,4750.0],\"type\":\"scatter\"},{\"line\":{\"color\":\"yellow\"},\"name\":\"PnL at Expiry\",\"x\":[16335.0,16353.24120603015,16371.4824120603,16389.72361809045,16407.9648241206,16426.206030150755,16444.447236180906,16462.688442211056,16480.929648241206,16499.170854271357,16517.412060301507,16535.653266331658,16553.894472361808,16572.13567839196,16590.376884422112,16608.618090452263,16626.859296482413,16645.100502512563,16663.341708542714,16681.582914572864,16699.824120603014,16718.065326633165,16736.306532663315,16754.54773869347,16772.78894472362,16791.03015075377,16809.27135678392,16827.51256281407,16845.75376884422,16863.99497487437,16882.23618090452,16900.47738693467,16918.718592964826,16936.959798994976,16955.201005025127,16973.442211055277,16991.683417085427,17009.924623115578,17028.165829145728,17046.40703517588,17064.64824120603,17082.889447236183,17101.130653266333,17119.371859296483,17137.613065326634,17155.854271356784,17174.095477386934,17192.336683417085,17210.577889447235,17228.819095477385,17247.06030150754,17265.30150753769,17283.54271356784,17301.78391959799,17320.02512562814,17338.26633165829,17356.50753768844,17374.748743718592,17392.989949748742,17411.231155778893,17429.472361809047,17447.713567839197,17465.954773869347,17484.195979899498,17502.437185929648,17520.6783919598,17538.91959798995,17557.1608040201,17575.402010050253,17593.643216080403,17611.884422110554,17630.125628140704,17648.366834170854,17666.608040201005,17684.849246231155,17703.090452261305,17721.331658291456,17739.572864321606,17757.81407035176,17776.05527638191,17794.29648241206,17812.53768844221,17830.77889447236,17849.020100502512,17867.261306532662,17885.502512562813,17903.743718592967,17921.984924623117,17940.226130653267,17958.467336683418,17976.708542713568,17994.94974874372,18013.19095477387,18031.43216080402,18049.67336683417,18067.91457286432,18086.155778894474,18104.396984924624,18122.638190954774,18140.879396984925,18159.120603015075,18177.361809045226,18195.603015075376,18213.844221105526,18232.08542713568,18250.32663316583,18268.56783919598,18286.80904522613,18305.05025125628,18323.291457286432,18341.532663316582,18359.773869346733,18378.015075376883,18396.256281407033,18414.497487437187,18432.738693467338,18450.979899497488,18469.22110552764,18487.46231155779,18505.70351758794,18523.94472361809,18542.18592964824,18560.427135678394,18578.668341708544,18596.909547738695,18615.150753768845,18633.391959798995,18651.633165829146,18669.874371859296,18688.115577889446,18706.356783919597,18724.597989949747,18742.8391959799,18761.08040201005,18779.3216080402,18797.562814070352,18815.804020100502,18834.045226130653,18852.286432160803,18870.527638190953,18888.768844221107,18907.010050251258,18925.251256281408,18943.49246231156,18961.73366834171,18979.97487437186,18998.21608040201,19016.45728643216,19034.69849246231,19052.93969849246,19071.18090452261,19089.422110552765,19107.663316582915,19125.904522613066,19144.145728643216,19162.386934673366,19180.628140703517,19198.869346733667,19217.110552763817,19235.35175879397,19253.59296482412,19271.834170854272,19290.075376884422,19308.316582914573,19326.557788944723,19344.798994974873,19363.040201005024,19381.281407035174,19399.522613065325,19417.76381909548,19436.00502512563,19454.24623115578,19472.48743718593,19490.72864321608,19508.96984924623,19527.21105527638,19545.45226130653,19563.693467336685,19581.934673366835,19600.175879396986,19618.417085427136,19636.658291457286,19654.899497487437,19673.140703517587,19691.381909547737,19709.623115577888,19727.864321608038,19746.105527638192,19764.346733668342,19782.587939698493,19800.829145728643,19819.070351758794,19837.311557788944,19855.552763819094,19873.793969849245,19892.0351758794,19910.27638190955,19928.5175879397,19946.75879396985,19965.0],\"y\":[-5250.0,-5250.0,-5250.0,-5250.0,-5250.0,-5250.0,-5250.0,-5250.0,-5250.0,-5250.0,-5250.0,-5250.0,-5250.0,-5250.0,-5250.0,-5250.0,-5250.0,-5250.0,-5250.0,-5250.0,-5250.0,-5250.0,-5250.0,-5250.0,-5250.0,-5250.0,-5250.0,-5250.0,-5250.0,-5250.0,-5250.0,-5250.0,-5250.0,-5250.0,-5250.0,-5250.0,-5250.0,-5250.0,-5250.0,-5250.0,-5250.0,-5250.0,-5250.0,-5250.0,-5250.0,-5250.0,-5250.0,-5250.0,-5250.0,-5250.0,-5250.0,-5250.0,-5250.0,-5250.0,-5250.0,-5250.0,-5250.0,-5250.0,-5250.0,-5250.0,-5250.0,-5250.0,-5250.0,-5250.0,-5250.0,-5250.0,-5250.0,-5250.0,-5250.0,-5250.0,-5250.0,-5250.0,-5250.0,-5250.0,-5250.0,-5250.0,-5250.0,-5250.0,-5250.0,-5250.0,-5250.0,-5250.0,-5250.0,-5250.0,-5250.0,-5250.0,-5250.0,-5250.0,-5250.0,-5250.0,-5250.0,-5250.0,-5250.0,-5250.0,-5250.0,-5250.0,-5250.0,-4800.0,-2950.0,-1150.0,700.0,2500.0,4350.0,4750.0,4750.0,4750.0,4750.0,4750.0,4750.0,4750.0,4750.0,4750.0,4750.0,4750.0,4750.0,4750.0,4750.0,4750.0,4750.0,4750.0,4750.0,4750.0,4750.0,4750.0,4750.0,4750.0,4750.0,4750.0,4750.0,4750.0,4750.0,4750.0,4750.0,4750.0,4750.0,4750.0,4750.0,4750.0,4750.0,4750.0,4750.0,4750.0,4750.0,4750.0,4750.0,4750.0,4750.0,4750.0,4750.0,4750.0,4750.0,4750.0,4750.0,4750.0,4750.0,4750.0,4750.0,4750.0,4750.0,4750.0,4750.0,4750.0,4750.0,4750.0,4750.0,4750.0,4750.0,4750.0,4750.0,4750.0,4750.0,4750.0,4750.0,4750.0,4750.0,4750.0,4750.0,4750.0,4750.0,4750.0,4750.0,4750.0,4750.0,4750.0,4750.0,4750.0,4750.0,4750.0,4750.0,4750.0,4750.0,4750.0,4750.0,4750.0,4750.0,4750.0,4750.0,4750.0,4750.0,4750.0],\"type\":\"scatter\"}],                        {\"template\":{\"data\":{\"histogram2dcontour\":[{\"type\":\"histogram2dcontour\",\"colorbar\":{\"outlinewidth\":0,\"ticks\":\"\"},\"colorscale\":[[0.0,\"#0d0887\"],[0.1111111111111111,\"#46039f\"],[0.2222222222222222,\"#7201a8\"],[0.3333333333333333,\"#9c179e\"],[0.4444444444444444,\"#bd3786\"],[0.5555555555555556,\"#d8576b\"],[0.6666666666666666,\"#ed7953\"],[0.7777777777777778,\"#fb9f3a\"],[0.8888888888888888,\"#fdca26\"],[1.0,\"#f0f921\"]]}],\"choropleth\":[{\"type\":\"choropleth\",\"colorbar\":{\"outlinewidth\":0,\"ticks\":\"\"}}],\"histogram2d\":[{\"type\":\"histogram2d\",\"colorbar\":{\"outlinewidth\":0,\"ticks\":\"\"},\"colorscale\":[[0.0,\"#0d0887\"],[0.1111111111111111,\"#46039f\"],[0.2222222222222222,\"#7201a8\"],[0.3333333333333333,\"#9c179e\"],[0.4444444444444444,\"#bd3786\"],[0.5555555555555556,\"#d8576b\"],[0.6666666666666666,\"#ed7953\"],[0.7777777777777778,\"#fb9f3a\"],[0.8888888888888888,\"#fdca26\"],[1.0,\"#f0f921\"]]}],\"heatmap\":[{\"type\":\"heatmap\",\"colorbar\":{\"outlinewidth\":0,\"ticks\":\"\"},\"colorscale\":[[0.0,\"#0d0887\"],[0.1111111111111111,\"#46039f\"],[0.2222222222222222,\"#7201a8\"],[0.3333333333333333,\"#9c179e\"],[0.4444444444444444,\"#bd3786\"],[0.5555555555555556,\"#d8576b\"],[0.6666666666666666,\"#ed7953\"],[0.7777777777777778,\"#fb9f3a\"],[0.8888888888888888,\"#fdca26\"],[1.0,\"#f0f921\"]]}],\"heatmapgl\":[{\"type\":\"heatmapgl\",\"colorbar\":{\"outlinewidth\":0,\"ticks\":\"\"},\"colorscale\":[[0.0,\"#0d0887\"],[0.1111111111111111,\"#46039f\"],[0.2222222222222222,\"#7201a8\"],[0.3333333333333333,\"#9c179e\"],[0.4444444444444444,\"#bd3786\"],[0.5555555555555556,\"#d8576b\"],[0.6666666666666666,\"#ed7953\"],[0.7777777777777778,\"#fb9f3a\"],[0.8888888888888888,\"#fdca26\"],[1.0,\"#f0f921\"]]}],\"contourcarpet\":[{\"type\":\"contourcarpet\",\"colorbar\":{\"outlinewidth\":0,\"ticks\":\"\"}}],\"contour\":[{\"type\":\"contour\",\"colorbar\":{\"outlinewidth\":0,\"ticks\":\"\"},\"colorscale\":[[0.0,\"#0d0887\"],[0.1111111111111111,\"#46039f\"],[0.2222222222222222,\"#7201a8\"],[0.3333333333333333,\"#9c179e\"],[0.4444444444444444,\"#bd3786\"],[0.5555555555555556,\"#d8576b\"],[0.6666666666666666,\"#ed7953\"],[0.7777777777777778,\"#fb9f3a\"],[0.8888888888888888,\"#fdca26\"],[1.0,\"#f0f921\"]]}],\"surface\":[{\"type\":\"surface\",\"colorbar\":{\"outlinewidth\":0,\"ticks\":\"\"},\"colorscale\":[[0.0,\"#0d0887\"],[0.1111111111111111,\"#46039f\"],[0.2222222222222222,\"#7201a8\"],[0.3333333333333333,\"#9c179e\"],[0.4444444444444444,\"#bd3786\"],[0.5555555555555556,\"#d8576b\"],[0.6666666666666666,\"#ed7953\"],[0.7777777777777778,\"#fb9f3a\"],[0.8888888888888888,\"#fdca26\"],[1.0,\"#f0f921\"]]}],\"mesh3d\":[{\"type\":\"mesh3d\",\"colorbar\":{\"outlinewidth\":0,\"ticks\":\"\"}}],\"scatter\":[{\"marker\":{\"line\":{\"color\":\"#283442\"}},\"type\":\"scatter\"}],\"parcoords\":[{\"type\":\"parcoords\",\"line\":{\"colorbar\":{\"outlinewidth\":0,\"ticks\":\"\"}}}],\"scatterpolargl\":[{\"type\":\"scatterpolargl\",\"marker\":{\"colorbar\":{\"outlinewidth\":0,\"ticks\":\"\"}}}],\"bar\":[{\"error_x\":{\"color\":\"#f2f5fa\"},\"error_y\":{\"color\":\"#f2f5fa\"},\"marker\":{\"line\":{\"color\":\"rgb(17,17,17)\",\"width\":0.5},\"pattern\":{\"fillmode\":\"overlay\",\"size\":10,\"solidity\":0.2}},\"type\":\"bar\"}],\"scattergeo\":[{\"type\":\"scattergeo\",\"marker\":{\"colorbar\":{\"outlinewidth\":0,\"ticks\":\"\"}}}],\"scatterpolar\":[{\"type\":\"scatterpolar\",\"marker\":{\"colorbar\":{\"outlinewidth\":0,\"ticks\":\"\"}}}],\"histogram\":[{\"marker\":{\"pattern\":{\"fillmode\":\"overlay\",\"size\":10,\"solidity\":0.2}},\"type\":\"histogram\"}],\"scattergl\":[{\"marker\":{\"line\":{\"color\":\"#283442\"}},\"type\":\"scattergl\"}],\"scatter3d\":[{\"type\":\"scatter3d\",\"line\":{\"colorbar\":{\"outlinewidth\":0,\"ticks\":\"\"}},\"marker\":{\"colorbar\":{\"outlinewidth\":0,\"ticks\":\"\"}}}],\"scattermapbox\":[{\"type\":\"scattermapbox\",\"marker\":{\"colorbar\":{\"outlinewidth\":0,\"ticks\":\"\"}}}],\"scatterternary\":[{\"type\":\"scatterternary\",\"marker\":{\"colorbar\":{\"outlinewidth\":0,\"ticks\":\"\"}}}],\"scattercarpet\":[{\"type\":\"scattercarpet\",\"marker\":{\"colorbar\":{\"outlinewidth\":0,\"ticks\":\"\"}}}],\"carpet\":[{\"aaxis\":{\"endlinecolor\":\"#A2B1C6\",\"gridcolor\":\"#506784\",\"linecolor\":\"#506784\",\"minorgridcolor\":\"#506784\",\"startlinecolor\":\"#A2B1C6\"},\"baxis\":{\"endlinecolor\":\"#A2B1C6\",\"gridcolor\":\"#506784\",\"linecolor\":\"#506784\",\"minorgridcolor\":\"#506784\",\"startlinecolor\":\"#A2B1C6\"},\"type\":\"carpet\"}],\"table\":[{\"cells\":{\"fill\":{\"color\":\"#506784\"},\"line\":{\"color\":\"rgb(17,17,17)\"}},\"header\":{\"fill\":{\"color\":\"#2a3f5f\"},\"line\":{\"color\":\"rgb(17,17,17)\"}},\"type\":\"table\"}],\"barpolar\":[{\"marker\":{\"line\":{\"color\":\"rgb(17,17,17)\",\"width\":0.5},\"pattern\":{\"fillmode\":\"overlay\",\"size\":10,\"solidity\":0.2}},\"type\":\"barpolar\"}],\"pie\":[{\"automargin\":true,\"type\":\"pie\"}]},\"layout\":{\"autotypenumbers\":\"strict\",\"colorway\":[\"#636efa\",\"#EF553B\",\"#00cc96\",\"#ab63fa\",\"#FFA15A\",\"#19d3f3\",\"#FF6692\",\"#B6E880\",\"#FF97FF\",\"#FECB52\"],\"font\":{\"color\":\"#f2f5fa\"},\"hovermode\":\"closest\",\"hoverlabel\":{\"align\":\"left\"},\"paper_bgcolor\":\"rgb(17,17,17)\",\"plot_bgcolor\":\"rgb(17,17,17)\",\"polar\":{\"bgcolor\":\"rgb(17,17,17)\",\"angularaxis\":{\"gridcolor\":\"#506784\",\"linecolor\":\"#506784\",\"ticks\":\"\"},\"radialaxis\":{\"gridcolor\":\"#506784\",\"linecolor\":\"#506784\",\"ticks\":\"\"}},\"ternary\":{\"bgcolor\":\"rgb(17,17,17)\",\"aaxis\":{\"gridcolor\":\"#506784\",\"linecolor\":\"#506784\",\"ticks\":\"\"},\"baxis\":{\"gridcolor\":\"#506784\",\"linecolor\":\"#506784\",\"ticks\":\"\"},\"caxis\":{\"gridcolor\":\"#506784\",\"linecolor\":\"#506784\",\"ticks\":\"\"}},\"coloraxis\":{\"colorbar\":{\"outlinewidth\":0,\"ticks\":\"\"}},\"colorscale\":{\"sequential\":[[0.0,\"#0d0887\"],[0.1111111111111111,\"#46039f\"],[0.2222222222222222,\"#7201a8\"],[0.3333333333333333,\"#9c179e\"],[0.4444444444444444,\"#bd3786\"],[0.5555555555555556,\"#d8576b\"],[0.6666666666666666,\"#ed7953\"],[0.7777777777777778,\"#fb9f3a\"],[0.8888888888888888,\"#fdca26\"],[1.0,\"#f0f921\"]],\"sequentialminus\":[[0.0,\"#0d0887\"],[0.1111111111111111,\"#46039f\"],[0.2222222222222222,\"#7201a8\"],[0.3333333333333333,\"#9c179e\"],[0.4444444444444444,\"#bd3786\"],[0.5555555555555556,\"#d8576b\"],[0.6666666666666666,\"#ed7953\"],[0.7777777777777778,\"#fb9f3a\"],[0.8888888888888888,\"#fdca26\"],[1.0,\"#f0f921\"]],\"diverging\":[[0,\"#8e0152\"],[0.1,\"#c51b7d\"],[0.2,\"#de77ae\"],[0.3,\"#f1b6da\"],[0.4,\"#fde0ef\"],[0.5,\"#f7f7f7\"],[0.6,\"#e6f5d0\"],[0.7,\"#b8e186\"],[0.8,\"#7fbc41\"],[0.9,\"#4d9221\"],[1,\"#276419\"]]},\"xaxis\":{\"gridcolor\":\"#283442\",\"linecolor\":\"#506784\",\"ticks\":\"\",\"title\":{\"standoff\":15},\"zerolinecolor\":\"#283442\",\"automargin\":true,\"zerolinewidth\":2},\"yaxis\":{\"gridcolor\":\"#283442\",\"linecolor\":\"#506784\",\"ticks\":\"\",\"title\":{\"standoff\":15},\"zerolinecolor\":\"#283442\",\"automargin\":true,\"zerolinewidth\":2},\"scene\":{\"xaxis\":{\"backgroundcolor\":\"rgb(17,17,17)\",\"gridcolor\":\"#506784\",\"linecolor\":\"#506784\",\"showbackground\":true,\"ticks\":\"\",\"zerolinecolor\":\"#C8D4E3\",\"gridwidth\":2},\"yaxis\":{\"backgroundcolor\":\"rgb(17,17,17)\",\"gridcolor\":\"#506784\",\"linecolor\":\"#506784\",\"showbackground\":true,\"ticks\":\"\",\"zerolinecolor\":\"#C8D4E3\",\"gridwidth\":2},\"zaxis\":{\"backgroundcolor\":\"rgb(17,17,17)\",\"gridcolor\":\"#506784\",\"linecolor\":\"#506784\",\"showbackground\":true,\"ticks\":\"\",\"zerolinecolor\":\"#C8D4E3\",\"gridwidth\":2}},\"shapedefaults\":{\"line\":{\"color\":\"#f2f5fa\"}},\"annotationdefaults\":{\"arrowcolor\":\"#f2f5fa\",\"arrowhead\":0,\"arrowwidth\":1},\"geo\":{\"bgcolor\":\"rgb(17,17,17)\",\"landcolor\":\"rgb(17,17,17)\",\"subunitcolor\":\"#506784\",\"showland\":true,\"showlakes\":true,\"lakecolor\":\"rgb(17,17,17)\"},\"title\":{\"x\":0.05},\"updatemenudefaults\":{\"bgcolor\":\"#506784\",\"borderwidth\":0},\"sliderdefaults\":{\"bgcolor\":\"#C8D4E3\",\"borderwidth\":1,\"bordercolor\":\"rgb(17,17,17)\",\"tickwidth\":0},\"mapbox\":{\"style\":\"dark\"}}},\"shapes\":[{\"line\":{\"color\":\"white\",\"dash\":\"dash\"},\"name\":\"Break Even\",\"type\":\"line\",\"x0\":0,\"x1\":1,\"xref\":\"x domain\",\"y0\":0,\"y1\":0,\"yref\":\"y\"},{\"line\":{\"color\":\"white\",\"dash\":\"dash\"},\"name\":\"Strike Price\",\"type\":\"line\",\"x0\":18150,\"x1\":18150,\"xref\":\"x\",\"y0\":0,\"y1\":1,\"yref\":\"y domain\"}],\"font\":{\"family\":\"Courier New, monospace\",\"size\":18,\"color\":\"RebeccaPurple\"},\"title\":{\"text\":\"Payoff Chart\"},\"xaxis\":{\"title\":{\"text\":\"Stock Price\"}},\"yaxis\":{\"title\":{\"text\":\"Price\"}}},                        {\"responsive\": true}                    ).then(function(){\n",
       "                            \n",
       "var gd = document.getElementById('64ae3d58-c048-47b1-a55d-a0103f559a20');\n",
       "var x = new MutationObserver(function (mutations, observer) {{\n",
       "        var display = window.getComputedStyle(gd).display;\n",
       "        if (!display || display === 'none') {{\n",
       "            console.log([gd, 'removed!']);\n",
       "            Plotly.purge(gd);\n",
       "            observer.disconnect();\n",
       "        }}\n",
       "}});\n",
       "\n",
       "// Listen for the removal of the full notebook cells\n",
       "var notebookContainer = gd.closest('#notebook-container');\n",
       "if (notebookContainer) {{\n",
       "    x.observe(notebookContainer, {childList: true});\n",
       "}}\n",
       "\n",
       "// Listen for the clearing of the current output cell\n",
       "var outputEl = gd.closest('.output');\n",
       "if (outputEl) {{\n",
       "    x.observe(outputEl, {childList: true});\n",
       "}}\n",
       "\n",
       "                        })                };                });            </script>        </div>"
      ]
     },
     "metadata": {},
     "output_type": "display_data"
    }
   ],
   "source": [
    "pc.payoff_chart(date=\"24-01-2023\")"
   ]
  }
 ],
 "metadata": {
  "kernelspec": {
   "display_name": "pystock",
   "language": "python",
   "name": "python3"
  },
  "language_info": {
   "codemirror_mode": {
    "name": "ipython",
    "version": 3
   },
   "file_extension": ".py",
   "mimetype": "text/x-python",
   "name": "python",
   "nbconvert_exporter": "python",
   "pygments_lexer": "ipython3",
   "version": "3.10.8"
  },
  "orig_nbformat": 4,
  "vscode": {
   "interpreter": {
    "hash": "7ebaacb0403aebb325b7fb1ecd0dc0a490fa477092d0e43a0ad42b3d0b95a2ea"
   }
  }
 },
 "nbformat": 4,
 "nbformat_minor": 2
}
